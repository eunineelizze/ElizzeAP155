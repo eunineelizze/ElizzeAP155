{
 "cells": [
  {
   "cell_type": "markdown",
   "metadata": {
    "colab_type": "text",
    "id": "view-in-github"
   },
   "source": [
    "<a href=\"https://colab.research.google.com/github/eunineelizze/ElizzeAP155/blob/master/Arzaga__AP155_Lab_Assignment_2.ipynb\" target=\"_parent\"><img src=\"https://colab.research.google.com/assets/colab-badge.svg\" alt=\"Open In Colab\"/></a>"
   ]
  },
  {
   "cell_type": "markdown",
   "metadata": {
    "id": "G0BcK0H_G1Iu"
   },
   "source": [
    "# **AP155 Lab Assignment**\n",
    "## Module 2: Solution of Linear and Nonlinear Equations\n",
    "\n",
    "_Instructions_: Answer each problem as completely as you can. Discuss **all** your answers as clearly and concisely as possible.\n",
    "\n",
    "_Scoring Criteria_: 50% - *correctness of code*; 50% - *discussion of the code and results*. Maximum score is **100 points**.\n",
    "\n"
   ]
  },
  {
   "cell_type": "markdown",
   "metadata": {
    "id": "PeHZ9kP8JaVR"
   },
   "source": [
    "### Student Information\n",
    "\n",
    "_Full Name (Last Name, First Name)_: **Eunine Elizze J. Arzaga**\\\n",
    "_Student No._: **2021-10771**\\\n",
    "_Section_: **TX-1**"
   ]
  },
  {
   "cell_type": "markdown",
   "metadata": {
    "id": "Hc183co-J4eI"
   },
   "source": [
    "### Submission Information\n",
    "\n",
    "_Date and Time Submitted (most recent upload)_: 15 October 2023 (14:15)\n",
    "\n",
    "**HONOR PLEDGE** I affirm that I have upheld the highest principles of honesty and integrity in my academic work and that this lab assignment is my own work.\n",
    "\n",
    "**Sign here with your full name:** Eunine ELizze J. Arzaga"
   ]
  },
  {
   "cell_type": "markdown",
   "metadata": {
    "id": "4LUwfsfMBmvd"
   },
   "source": [
    "### Grading Information (c/o Lab Instructor)\n",
    "\n",
    "TOTAL SCORE: **XX**/100\n",
    "\n",
    "Score breakdown:\n",
    "* Problem 1 - 25/30\n",
    "* Problem 2 - 15/30\n",
    "* Problem 3 - 20/40\n",
    "\n"
   ]
  },
  {
   "cell_type": "markdown",
   "metadata": {
    "id": "kBX9EyMLOnXj"
   },
   "source": [
    "### PROBLEM 1\n",
    "\n",
    "**Solve for eigenvalues and eigenvectors of a symmetric matrix**\n",
    "\n",
    "1. Use numpy's $\\tt linalg$ package to find the eigenvalues and eigenvectors of the ff. symmetrix matrix *(15 pts.)*:\n",
    "\n",
    "$ \\begin{equation}\n",
    "{\\bf A} =\n",
    "\\begin{pmatrix}\n",
    "8 & -2 & -20 \\\\\n",
    "-2 & -3 & -9 \\\\\n",
    "-20 & -9 & -3\n",
    "\\end{pmatrix} \\end{equation} $\n",
    "\n",
    "2. Check your answer numerically; that is, check that $\\bf AV = VD$, where the $N$ x $N$ matrix $\\bf V$ has the eigenvectors as its columns and $\\bf D$ is the diagonal matrix with the eigenvalues $\\lambda_i$ as its diagonal entries. *(15 pts.)*"
   ]
  },
  {
   "cell_type": "code",
   "execution_count": 14,
   "metadata": {
    "colab": {
     "base_uri": "https://localhost:8080/"
    },
    "id": "GABjwlXCR97i",
    "outputId": "4b906ef8-d12b-474c-d4e6-1da4fe88676c"
   },
   "outputs": [
    {
     "name": "stdout",
     "output_type": "stream",
     "text": [
      "Eigenvalues (x):\n",
      "x1 = -21.996062\n",
      "x2 = 23.835847\n",
      "x3 = 0.160215\n",
      "\n",
      "Eigenvectors (V):\n",
      "V1 = [0.52496527 0.40892672 0.74645187]\n",
      "V2 = [ 0.76748685  0.15169114 -0.62285932]\n",
      "V3 = [ 0.36793396 -0.89987151  0.2342133 ]\n"
     ]
    }
   ],
   "source": [
    "import numpy as np\n",
    "\n",
    "# Defining the symmetric matrix A\n",
    "A = np.array([[8, -2, -20],\n",
    "              [-2, -3, -9],\n",
    "              [-20, -9, -3]])\n",
    "\n",
    "# Using numpy.linalg.eig, we compute the eigenvalue and eigenvector of matrix A\n",
    "eigenvalues, eigenvectors = np.linalg.eig(A)\n",
    "\n",
    "# Eigenvalues\n",
    "print(\"Eigenvalues (x):\")\n",
    "for i, eigval in enumerate(eigenvalues):\n",
    "    print(f\"x{i+1} = {eigval:.6f}\")\n",
    "\n",
    "# Eigenvectors\n",
    "print(\"\\nEigenvectors (V):\")\n",
    "for i, eigvec in enumerate(eigenvectors.T):\n",
    "    print(f\"V{i+1} = {eigvec}\")"
   ]
  },
  {
   "cell_type": "code",
   "execution_count": 17,
   "metadata": {
    "colab": {
     "base_uri": "https://localhost:8080/"
    },
    "id": "P3O-9F7PmR0z",
    "outputId": "01643edb-7611-48f3-c880-8b90db7d83d6"
   },
   "outputs": [
    {
     "name": "stdout",
     "output_type": "stream",
     "text": [
      "Matrix AV\n",
      "[[-11.54716868  18.29369893   0.05894862]\n",
      " [ -8.99477756   3.61568676  -0.14417311]\n",
      " [-16.4190016  -14.8463793    0.03752454]]\n",
      "\n",
      "Matrix VD\n",
      "[[-11.54716868  18.29369893   0.05894862]\n",
      " [ -8.99477756   3.61568676  -0.14417311]\n",
      " [-16.4190016  -14.8463793    0.03752454]]\n",
      "\n",
      "Therefore, AV = VD.\n"
     ]
    }
   ],
   "source": [
    "# Checking that AV = VD using Matrix Multiplication\n",
    "AV = np.dot(A, eigenvectors) # np.dot multiplies matrix A to the eigenvector\n",
    "VD = np.dot(eigenvectors, np.diag(eigenvalues)) # np.diag creates a matrix with eigenvalues as the diagonals\n",
    "\n",
    "print(\"Matrix AV\")\n",
    "print(AV)\n",
    "\n",
    "print(\"\\nMatrix VD\")\n",
    "print(VD)\n",
    "\n",
    "# Printing result\n",
    "if np.allclose(AV, VD):\n",
    "    print(\"\\nTherefore, AV = VD.\")\n",
    "else:\n",
    "    print(\"\\nWoops! AV ≠ VD.\")"
   ]
  },
  {
   "cell_type": "markdown",
   "metadata": {
    "id": "Lqxc90ZRvKf0"
   },
   "source": [
    "**Analysis:**\n",
    "* Since $A$ is symmetric, then it has real eigenvalues and its eigenvectors are orthogonal.\n",
    "* Matrix $A$ is diagonalizable. That is, $A=VDV^1$.\n",
    "\n",
    "\n"
   ]
  },
  {
   "cell_type": "markdown",
   "metadata": {
    "id": "HceOjNu-VfN9"
   },
   "source": [
    "### PROBLEM 2\n",
    "\n",
    "**Solve a nonlinear equation using the relaxation method**\n",
    "\n",
    "Consider the equation $x=1- e^{-cx}$, where $c$ is a known parameter and $x$ is unknown. This equation arises in a variety of situations, including the physics of contact processes, mathematical models of epidemics, and the theory of random graphs.\n",
    "\n",
    "1. Write a program to solve this equation for $x$ using the relaxation method for the case $c = 2$. Calculate your solution to an accuracy of at least $10^{-6}$. *(10 pts.)*\n",
    "\n",
    "2. Modify your program to calculate the solution for values of $c$ from 0 to 3 in steps of 0.01. *(10 pts.)*\n",
    "\n",
    "3. Make a plot of $x$ as a function of $c$. Describe the different regimes that you see. *(10 pts.)*"
   ]
  },
  {
   "cell_type": "code",
   "execution_count": null,
   "metadata": {
    "colab": {
     "base_uri": "https://localhost:8080/"
    },
    "id": "p28JF-OQYock",
    "outputId": "7fce685b-9920-434a-91e9-52c33dcc9f3a"
   },
   "outputs": [
    {
     "name": "stdout",
     "output_type": "stream",
     "text": [
      "Solution for c = 2: x = 0.796812\n"
     ]
    }
   ],
   "source": [
    "import numpy as np\n",
    "import matplotlib.pyplot as plt\n",
    "from math import exp\n",
    "\n",
    "# Function for relaxation method to solve for x in x = 1 - e^(-cx)\n",
    "def relaxation(c, accuracy=1e-6, max_iterations=1000):\n",
    "    x = 0.5  # Initial guess for x\n",
    "    for i in range(max_iterations): # Running 1000 times (just to be sure)\n",
    "        x_new = 1 - np.exp(-c * x)\n",
    "        if abs(x_new - x) < accuracy:  # Checking for convergence\n",
    "            return x_new\n",
    "        x = x_new\n",
    "    raise ValueError(\"Solution did not converge\")\n",
    "\n",
    "# Solve for c = 2\n",
    "c = 2\n",
    "solution = relaxation(c)\n",
    "print(f\"Solution for c = {c}: x = {solution:.6f}\")\n"
   ]
  },
  {
   "cell_type": "code",
   "execution_count": null,
   "metadata": {
    "colab": {
     "base_uri": "https://localhost:8080/"
    },
    "id": "YM_TUkbZ5sKF",
    "outputId": "b46b9fb9-0c6a-44b6-a778-ec0945e3a3d8"
   },
   "outputs": [
    {
     "name": "stdout",
     "output_type": "stream",
     "text": [
      "c = 0.00, x = 0.00\n",
      "c = 0.01, x = 0.00\n",
      "c = 0.02, x = 0.00\n",
      "c = 0.03, x = 0.00\n",
      "c = 0.04, x = 0.00\n",
      "c = 0.05, x = 0.00\n",
      "c = 0.06, x = 0.00\n",
      "c = 0.07, x = 0.00\n",
      "c = 0.08, x = 0.00\n",
      "c = 0.09, x = 0.00\n",
      "c = 0.10, x = 0.00\n",
      "c = 0.11, x = 0.00\n",
      "c = 0.12, x = 0.00\n",
      "c = 0.13, x = 0.00\n",
      "c = 0.14, x = 0.00\n",
      "c = 0.15, x = 0.00\n",
      "c = 0.16, x = 0.00\n",
      "c = 0.17, x = 0.00\n",
      "c = 0.18, x = 0.00\n",
      "c = 0.19, x = 0.00\n",
      "c = 0.20, x = 0.00\n",
      "c = 0.21, x = 0.00\n",
      "c = 0.22, x = 0.00\n",
      "c = 0.23, x = 0.00\n",
      "c = 0.24, x = 0.00\n",
      "c = 0.25, x = 0.00\n",
      "c = 0.26, x = 0.00\n",
      "c = 0.27, x = 0.00\n",
      "c = 0.28, x = 0.00\n",
      "c = 0.29, x = 0.00\n",
      "c = 0.30, x = 0.00\n",
      "c = 0.31, x = 0.00\n",
      "c = 0.32, x = 0.00\n",
      "c = 0.33, x = 0.00\n",
      "c = 0.34, x = 0.00\n",
      "c = 0.35, x = 0.00\n",
      "c = 0.36, x = 0.00\n",
      "c = 0.37, x = 0.00\n",
      "c = 0.38, x = 0.00\n",
      "c = 0.39, x = 0.00\n",
      "c = 0.40, x = 0.00\n",
      "c = 0.41, x = 0.00\n",
      "c = 0.42, x = 0.00\n",
      "c = 0.43, x = 0.00\n",
      "c = 0.44, x = 0.00\n",
      "c = 0.45, x = 0.00\n",
      "c = 0.46, x = 0.00\n",
      "c = 0.47, x = 0.00\n",
      "c = 0.48, x = 0.00\n",
      "c = 0.49, x = 0.00\n",
      "c = 0.50, x = 0.00\n",
      "c = 0.51, x = 0.00\n",
      "c = 0.52, x = 0.00\n",
      "c = 0.53, x = 0.00\n",
      "c = 0.54, x = 0.00\n",
      "c = 0.55, x = 0.00\n",
      "c = 0.56, x = 0.00\n",
      "c = 0.57, x = 0.00\n",
      "c = 0.58, x = 0.00\n",
      "c = 0.59, x = 0.00\n",
      "c = 0.60, x = 0.00\n",
      "c = 0.61, x = 0.00\n",
      "c = 0.62, x = 0.00\n",
      "c = 0.63, x = 0.00\n",
      "c = 0.64, x = 0.00\n",
      "c = 0.65, x = 0.00\n",
      "c = 0.66, x = 0.00\n",
      "c = 0.67, x = 0.00\n",
      "c = 0.68, x = 0.00\n",
      "c = 0.69, x = 0.00\n",
      "c = 0.70, x = 0.00\n",
      "c = 0.71, x = 0.00\n",
      "c = 0.72, x = 0.00\n",
      "c = 0.73, x = 0.00\n",
      "c = 0.74, x = 0.00\n",
      "c = 0.75, x = 0.00\n",
      "c = 0.76, x = 0.00\n",
      "c = 0.77, x = 0.00\n",
      "c = 0.78, x = 0.00\n",
      "c = 0.79, x = 0.00\n",
      "c = 0.80, x = 0.00\n",
      "c = 0.81, x = 0.00\n",
      "c = 0.82, x = 0.00\n",
      "c = 0.83, x = 0.00\n",
      "c = 0.84, x = 0.00\n",
      "c = 0.85, x = 0.00\n",
      "c = 0.86, x = 0.00\n",
      "c = 0.87, x = 0.00\n",
      "c = 0.88, x = 0.00\n",
      "c = 0.89, x = 0.00\n",
      "c = 0.90, x = 0.00\n",
      "c = 0.91, x = 0.00\n",
      "c = 0.92, x = 0.00\n",
      "c = 0.93, x = 0.00\n",
      "c = 0.94, x = 0.00\n",
      "c = 0.95, x = 0.00\n",
      "c = 0.96, x = 0.00\n",
      "c = 0.97, x = 0.00\n",
      "c = 0.98, x = 0.00\n",
      "c = 0.99, x = 0.00\n",
      "c = 1.00, x = nan\n",
      "c = 1.01, x = 0.02\n",
      "c = 1.02, x = 0.04\n",
      "c = 1.03, x = 0.06\n",
      "c = 1.04, x = 0.08\n",
      "c = 1.05, x = 0.09\n",
      "c = 1.06, x = 0.11\n",
      "c = 1.07, x = 0.13\n",
      "c = 1.08, x = 0.14\n",
      "c = 1.09, x = 0.16\n",
      "c = 1.10, x = 0.18\n",
      "c = 1.11, x = 0.19\n",
      "c = 1.12, x = 0.21\n",
      "c = 1.13, x = 0.22\n",
      "c = 1.14, x = 0.24\n",
      "c = 1.15, x = 0.25\n",
      "c = 1.16, x = 0.26\n",
      "c = 1.17, x = 0.28\n",
      "c = 1.18, x = 0.29\n",
      "c = 1.19, x = 0.30\n",
      "c = 1.20, x = 0.31\n",
      "c = 1.21, x = 0.33\n",
      "c = 1.22, x = 0.34\n",
      "c = 1.23, x = 0.35\n",
      "c = 1.24, x = 0.36\n",
      "c = 1.25, x = 0.37\n",
      "c = 1.26, x = 0.38\n",
      "c = 1.27, x = 0.39\n",
      "c = 1.28, x = 0.40\n",
      "c = 1.29, x = 0.41\n",
      "c = 1.30, x = 0.42\n",
      "c = 1.31, x = 0.43\n",
      "c = 1.32, x = 0.44\n",
      "c = 1.33, x = 0.45\n",
      "c = 1.34, x = 0.46\n",
      "c = 1.35, x = 0.47\n",
      "c = 1.36, x = 0.48\n",
      "c = 1.37, x = 0.49\n",
      "c = 1.38, x = 0.49\n",
      "c = 1.39, x = 0.50\n",
      "c = 1.40, x = 0.51\n",
      "c = 1.41, x = 0.52\n",
      "c = 1.42, x = 0.53\n",
      "c = 1.43, x = 0.53\n",
      "c = 1.44, x = 0.54\n",
      "c = 1.45, x = 0.55\n",
      "c = 1.46, x = 0.56\n",
      "c = 1.47, x = 0.56\n",
      "c = 1.48, x = 0.57\n",
      "c = 1.49, x = 0.58\n",
      "c = 1.50, x = 0.58\n",
      "c = 1.51, x = 0.59\n",
      "c = 1.52, x = 0.60\n",
      "c = 1.53, x = 0.60\n",
      "c = 1.54, x = 0.61\n",
      "c = 1.55, x = 0.61\n",
      "c = 1.56, x = 0.62\n",
      "c = 1.57, x = 0.63\n",
      "c = 1.58, x = 0.63\n",
      "c = 1.59, x = 0.64\n",
      "c = 1.60, x = 0.64\n",
      "c = 1.61, x = 0.65\n",
      "c = 1.62, x = 0.65\n",
      "c = 1.63, x = 0.66\n",
      "c = 1.64, x = 0.66\n",
      "c = 1.65, x = 0.67\n",
      "c = 1.66, x = 0.67\n",
      "c = 1.67, x = 0.68\n",
      "c = 1.68, x = 0.68\n",
      "c = 1.69, x = 0.69\n",
      "c = 1.70, x = 0.69\n",
      "c = 1.71, x = 0.70\n",
      "c = 1.72, x = 0.70\n",
      "c = 1.73, x = 0.70\n",
      "c = 1.74, x = 0.71\n",
      "c = 1.75, x = 0.71\n",
      "c = 1.76, x = 0.72\n",
      "c = 1.77, x = 0.72\n",
      "c = 1.78, x = 0.72\n",
      "c = 1.79, x = 0.73\n",
      "c = 1.80, x = 0.73\n",
      "c = 1.81, x = 0.74\n",
      "c = 1.82, x = 0.74\n",
      "c = 1.83, x = 0.74\n",
      "c = 1.84, x = 0.75\n",
      "c = 1.85, x = 0.75\n",
      "c = 1.86, x = 0.75\n",
      "c = 1.87, x = 0.76\n",
      "c = 1.88, x = 0.76\n",
      "c = 1.89, x = 0.76\n",
      "c = 1.90, x = 0.77\n",
      "c = 1.91, x = 0.77\n",
      "c = 1.92, x = 0.77\n",
      "c = 1.93, x = 0.78\n",
      "c = 1.94, x = 0.78\n",
      "c = 1.95, x = 0.78\n",
      "c = 1.96, x = 0.79\n",
      "c = 1.97, x = 0.79\n",
      "c = 1.98, x = 0.79\n",
      "c = 1.99, x = 0.79\n",
      "c = 2.00, x = 0.80\n",
      "c = 2.01, x = 0.80\n",
      "c = 2.02, x = 0.80\n",
      "c = 2.03, x = 0.80\n",
      "c = 2.04, x = 0.81\n",
      "c = 2.05, x = 0.81\n",
      "c = 2.06, x = 0.81\n",
      "c = 2.07, x = 0.81\n",
      "c = 2.08, x = 0.82\n",
      "c = 2.09, x = 0.82\n",
      "c = 2.10, x = 0.82\n",
      "c = 2.11, x = 0.82\n",
      "c = 2.12, x = 0.83\n",
      "c = 2.13, x = 0.83\n",
      "c = 2.14, x = 0.83\n",
      "c = 2.15, x = 0.83\n",
      "c = 2.16, x = 0.84\n",
      "c = 2.17, x = 0.84\n",
      "c = 2.18, x = 0.84\n",
      "c = 2.19, x = 0.84\n",
      "c = 2.20, x = 0.84\n",
      "c = 2.21, x = 0.85\n",
      "c = 2.22, x = 0.85\n",
      "c = 2.23, x = 0.85\n",
      "c = 2.24, x = 0.85\n",
      "c = 2.25, x = 0.85\n",
      "c = 2.26, x = 0.86\n",
      "c = 2.27, x = 0.86\n",
      "c = 2.28, x = 0.86\n",
      "c = 2.29, x = 0.86\n",
      "c = 2.30, x = 0.86\n",
      "c = 2.31, x = 0.86\n",
      "c = 2.32, x = 0.87\n",
      "c = 2.33, x = 0.87\n",
      "c = 2.34, x = 0.87\n",
      "c = 2.35, x = 0.87\n",
      "c = 2.36, x = 0.87\n",
      "c = 2.37, x = 0.87\n",
      "c = 2.38, x = 0.88\n",
      "c = 2.39, x = 0.88\n",
      "c = 2.40, x = 0.88\n",
      "c = 2.41, x = 0.88\n",
      "c = 2.42, x = 0.88\n",
      "c = 2.43, x = 0.88\n",
      "c = 2.44, x = 0.88\n",
      "c = 2.45, x = 0.89\n",
      "c = 2.46, x = 0.89\n",
      "c = 2.47, x = 0.89\n",
      "c = 2.48, x = 0.89\n",
      "c = 2.49, x = 0.89\n",
      "c = 2.50, x = 0.89\n",
      "c = 2.51, x = 0.89\n",
      "c = 2.52, x = 0.90\n",
      "c = 2.53, x = 0.90\n",
      "c = 2.54, x = 0.90\n",
      "c = 2.55, x = 0.90\n",
      "c = 2.56, x = 0.90\n",
      "c = 2.57, x = 0.90\n",
      "c = 2.58, x = 0.90\n",
      "c = 2.59, x = 0.90\n",
      "c = 2.60, x = 0.90\n",
      "c = 2.61, x = 0.91\n",
      "c = 2.62, x = 0.91\n",
      "c = 2.63, x = 0.91\n",
      "c = 2.64, x = 0.91\n",
      "c = 2.65, x = 0.91\n",
      "c = 2.66, x = 0.91\n",
      "c = 2.67, x = 0.91\n",
      "c = 2.68, x = 0.91\n",
      "c = 2.69, x = 0.91\n",
      "c = 2.70, x = 0.92\n",
      "c = 2.71, x = 0.92\n",
      "c = 2.72, x = 0.92\n",
      "c = 2.73, x = 0.92\n",
      "c = 2.74, x = 0.92\n",
      "c = 2.75, x = 0.92\n",
      "c = 2.76, x = 0.92\n",
      "c = 2.77, x = 0.92\n",
      "c = 2.78, x = 0.92\n",
      "c = 2.79, x = 0.92\n",
      "c = 2.80, x = 0.92\n",
      "c = 2.81, x = 0.93\n",
      "c = 2.82, x = 0.93\n",
      "c = 2.83, x = 0.93\n",
      "c = 2.84, x = 0.93\n",
      "c = 2.85, x = 0.93\n",
      "c = 2.86, x = 0.93\n",
      "c = 2.87, x = 0.93\n",
      "c = 2.88, x = 0.93\n",
      "c = 2.89, x = 0.93\n",
      "c = 2.90, x = 0.93\n",
      "c = 2.91, x = 0.93\n",
      "c = 2.92, x = 0.93\n",
      "c = 2.93, x = 0.94\n",
      "c = 2.94, x = 0.94\n",
      "c = 2.95, x = 0.94\n",
      "c = 2.96, x = 0.94\n",
      "c = 2.97, x = 0.94\n",
      "c = 2.98, x = 0.94\n",
      "c = 2.99, x = 0.94\n",
      "c = 3.00, x = 0.94\n"
     ]
    }
   ],
   "source": [
    "# Calculate the solution for values of c from 0 to 3 in steps of 0.01\n",
    "c_values = np.arange(0, 3.01, 0.01) # np.arrange(start, end, steps increment)\n",
    "x_values = [] # Empty list that stores the solutions for x for each value of c\n",
    "\n",
    "for c in c_values:\n",
    "    try:\n",
    "        x_values.append(relaxation(c))\n",
    "    except ValueError: # Error handling\n",
    "        x_values.append(np.nan)  # Appending NaN if the solution does not converge\n",
    "\n",
    "# Printing all values\n",
    "for i in range(0, len(c_values)):\n",
    "    print(f\"c = {c_values[i]:.2f}, x = {x_values[i]:.2f}\")\n"
   ]
  },
  {
   "cell_type": "code",
   "execution_count": null,
   "metadata": {
    "colab": {
     "base_uri": "https://localhost:8080/",
     "height": 412
    },
    "id": "rHNhCjuT5ux4",
    "outputId": "0104ce7b-ee20-47d4-cd44-1d7870d059f2"
   },
   "outputs": [
    {
     "data": {
      "image/png": "[encoded data removed]",
      "text/plain": [
       "<Figure size 800x400 with 1 Axes>"
      ]
     },
     "metadata": {},
     "output_type": "display_data"
    }
   ],
   "source": [
    "# From the above result, we see that for c = 1.00, the relaxation method does not converge\n",
    "# Hence, we expect to see a discontinuity in the plot\n",
    "\n",
    "# Plotting the results\n",
    "plt.figure(figsize=(8, 4))\n",
    "plt.plot(c_values, x_values, label=\"x(c)\", color=\"b\")\n",
    "plt.xlabel(\"c\")\n",
    "plt.ylabel(\"x\")\n",
    "plt.title(\"Solution of $x = 1 - e^{-cx}$ using Relaxation Method\")\n",
    "plt.grid(True)\n",
    "plt.legend()\n",
    "plt.show()\n"
   ]
  },
  {
   "cell_type": "markdown",
   "metadata": {
    "id": "eWGIkzNzwHhA"
   },
   "source": [
    "Analysis:\n",
    "* The function $x=1-e^{-cx}$ are smooth and continuous except at $x(c) =1$.\n",
    "* The relaxation method does not always converge for all values of $c$."
   ]
  },
  {
   "cell_type": "markdown",
   "metadata": {
    "id": "BY5x-mZsYoqG"
   },
   "source": [
    "### PROBLEM 3\n",
    "\n",
    "**Physics Application: Calculating the Lagrange point**\n",
    "\n",
    "_Refer to Exercise 6.16 of the Newman text._ The $L_1$ Lagrange point is the point between the Earth and the Moon at which a satellite will orbit the Earth in perfect synchrony with the Moon, staying always in between the two.\n",
    "\n",
    "Assuming circular orbits, and assuming that the Earth is much more massive than either the Moon or the satellite, the distance $r$ from the center of the Earth to the $L_1$ point satisfies\n",
    "$$ \\begin{equation}\n",
    "\\frac{GM}{r^2} - \\frac{Gm}{(R-r)^2} = \\omega^2 r,\n",
    "\\end{equation} $$\n",
    "where $R$ is the distance from the Earth to the Moon, $M$ and $m$ are the Earth and Moon masses, $G$ is Newton's gravitational constant, and $\\omega$ is the angular velocity of both the Moon and the satellite."
   ]
  },
  {
   "cell_type": "markdown",
   "metadata": {
    "id": "LlDDXIZ46CKU"
   },
   "source": [
    "Use Newton's method to solve for the distance r from the Earth to the $L_1$ point. Compute a solution accurate to at least four significant figures."
   ]
  },
  {
   "cell_type": "code",
   "execution_count": 2,
   "metadata": {
    "colab": {
     "base_uri": "https://localhost:8080/"
    },
    "id": "tQ6GBivar0T5",
    "outputId": "dacc4fc0-3033-49e2-8df2-1f23b339b000"
   },
   "outputs": [
    {
     "ename": "NameError",
     "evalue": "name 'T' is not defined",
     "output_type": "error",
     "traceback": [
      "\u001b[0;31m---------------------------------------------------------------------------\u001b[0m",
      "\u001b[0;31mNameError\u001b[0m                                 Traceback (most recent call last)",
      "Cell \u001b[0;32mIn[2], line 8\u001b[0m\n\u001b[1;32m      6\u001b[0m m \u001b[38;5;241m=\u001b[39m \u001b[38;5;241m7.348e22\u001b[39m     \u001b[38;5;66;03m# Mass of the Moon (kg)\u001b[39;00m\n\u001b[1;32m      7\u001b[0m R \u001b[38;5;241m=\u001b[39m \u001b[38;5;241m3.844e8\u001b[39m      \u001b[38;5;66;03m# Distance from the Earth to the Moon (m)\u001b[39;00m\n\u001b[0;32m----> 8\u001b[0m omega \u001b[38;5;241m=\u001b[39m \u001b[38;5;241m2\u001b[39m \u001b[38;5;241m*\u001b[39m np\u001b[38;5;241m.\u001b[39mpi \u001b[38;5;241m/\u001b[39m \u001b[43mT\u001b[49m  \u001b[38;5;66;03m# Angular velocity of the Moon, rad/s\u001b[39;00m\n\u001b[1;32m     10\u001b[0m \u001b[38;5;66;03m# Function for the Lagrange point equation\u001b[39;00m\n\u001b[1;32m     11\u001b[0m \u001b[38;5;28;01mdef\u001b[39;00m \u001b[38;5;21mf\u001b[39m(r):\n",
      "\u001b[0;31mNameError\u001b[0m: name 'T' is not defined"
     ]
    }
   ],
   "source": [
    "import numpy as np\n",
    "\n",
    "# Constants\n",
    "G = 6.67430e-11  # Gravitational constant (m^3 kg^-1 s^-2)\n",
    "M = 5.972e24     # Mass of the Earth (kg)\n",
    "m = 7.348e22     # Mass of the Moon (kg)\n",
    "R = 3.844e8      # Distance from the Earth to the Moon (m)\n",
    "omega = 2 * np.pi / T  # Angular velocity of the Moon, rad/s\n",
    "\n",
    "# Function for the Lagrange point equation\n",
    "def f(r):\n",
    "    return (G * M / r**2) - (G * m / (R - r)**2) - (omega**2 * r)\n",
    "\n",
    "# Derivative of the function f(r) -> f'(r)\n",
    "def f_prime(r):\n",
    "    return (-2 * G * M / r**3) - (2 * G * m / (R - r)**3) - omega**2\n",
    "\n",
    "# Newton's method implementation\n",
    "def newtons_method(r_init, tol=1e-10, max_iter=1000):\n",
    "    r = r_init\n",
    "    for _ in range(max_iter):\n",
    "        f_r = f(r)\n",
    "        f_prime_r = f_prime(r)\n",
    "        r_new = r - f_r / f_prime_r\n",
    "        if abs(r_new - r) < tol:\n",
    "            return r_new\n",
    "        r = r_new\n",
    "    raise ValueError(\"Newton's method did not converge\")\n",
    "\n",
    "# Initial guess for r in meters (somewhere between Earth and Moon)\n",
    "r_initial = 3.2e8\n",
    "\n",
    "# Distance to the L1 point\n",
    "r_L1 = newtons_method(r_initial)\n",
    "print(f\"Distance to L1 point: {r_L1:.5} meters\")\n"
   ]
  },
  {
   "cell_type": "markdown",
   "metadata": {
    "id": "qB8Y17lV2-Pb"
   },
   "source": [
    "### Physical Interpretation of the Result\n",
    "\n",
    "The actual value of $ r $, the distance from the Earth to the Lagrange Point, $L_1$, is $3.2604×10^8$ meters. This is slightly less than the halfway point between the Earth and Moon which is $3.844×10^8$ meters.\n",
    "\n",
    "Because the Earth is much more massive than the Moon and their barycenter (center of mass) is closer to Earth than to the Moon, the satellite also needs to be positioned closer to the Earth in order to experience an equal gravitational pull from both bodies, and to cancel the centrifugal force. Hence, $ r < \\frac{R}{2} $.\n",
    "\n",
    "From the values above, we see that $ r $ is around $ 0.84 $ times the Earth-Moon distance $ R $.\n",
    "\n"
   ]
  },
  {
   "cell_type": "markdown",
   "metadata": {},
   "source": [
    "### Instructor's Comments\n",
    "\n",
    "#### Problem 1\n",
    "- No discussion for what np.allclose() does. If you check the documentation of this numpy function, there is actually a default threshold ($1 \\times 10^{-8}$) which is used to check if the difference between the two matrices you are comparing are within that threshold. \n",
    "\n",
    "#### Problem 2\n",
    "- Manually setting the max number of iterations in your loops for the relaxation method is problematic since this will limit the accuracy of your result. For example, for $c=1$, you should find that the solution will converge to $x=0.0014132112807466735$ after 1411 iterations. But since in your loop you only set the max iterations to 1000, your result is incorrect. Using a for loop in this case therefore does not guarantee convergence so a while loop would be better since we know exactly what the condition should be to stop the loop.\n",
    "- Missing discussion of results:\n",
    "> Describe the different regimes that you see.\n",
    "\n",
    "#### Problem 3\n",
    "- Code doesn't work, `T` is undefined.\n",
    "- Your discussion is inconsistent with your results. As you mention, $r = 0.84*R$ so clearly, $r > \\frac{R}{2}$. This means the location of $L_1$ is closer to the Moon than it is closer to the Earth."
   ]
  },
  {
   "cell_type": "code",
   "execution_count": null,
   "metadata": {},
   "outputs": [],
   "source": []
  }
 ],
 "metadata": {
  "colab": {
   "include_colab_link": true,
   "provenance": []
  },
  "kernelspec": {
   "display_name": "Python 3 (ipykernel)",
   "language": "python",
   "name": "python3"
  },
  "language_info": {
   "codemirror_mode": {
    "name": "ipython",
    "version": 3
   },
   "file_extension": ".py",
   "mimetype": "text/x-python",
   "name": "python",
   "nbconvert_exporter": "python",
   "pygments_lexer": "ipython3",
   "version": "3.12.3"
  }
 },
 "nbformat": 4,
 "nbformat_minor": 4
}
