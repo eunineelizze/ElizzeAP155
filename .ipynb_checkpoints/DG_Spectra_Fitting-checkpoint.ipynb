{
  "cells": [
    {
      "cell_type": "markdown",
      "metadata": {
        "id": "view-in-github",
        "colab_type": "text"
      },
      "source": [
        "<a href=\"https://colab.research.google.com/github/eunineelizze/ElizzeAP155/blob/master/DG_Spectra_Fitting.ipynb\" target=\"_parent\"><img src=\"https://colab.research.google.com/assets/colab-badge.svg\" alt=\"Open In Colab\"/></a>"
      ]
    },
    {
      "cell_type": "markdown",
      "id": "d19a8dc1-a9e7-40e4-bb1a-d33e24366db3",
      "metadata": {
        "jp-MarkdownHeadingCollapsed": true,
        "id": "d19a8dc1-a9e7-40e4-bb1a-d33e24366db3"
      },
      "source": [
        "# Ver 3: Updated Trapezoidal Formula"
      ]
    },
    {
      "cell_type": "markdown",
      "id": "03a0a1bc-47dc-40ba-9c3a-014ee30db48e",
      "metadata": {
        "jp-MarkdownHeadingCollapsed": true,
        "id": "03a0a1bc-47dc-40ba-9c3a-014ee30db48e"
      },
      "source": [
        "# Imports"
      ]
    },
    {
      "cell_type": "code",
      "execution_count": null,
      "id": "199c1949-e10f-4944-9b48-22ccc0eb6013",
      "metadata": {
        "tags": [],
        "id": "199c1949-e10f-4944-9b48-22ccc0eb6013"
      },
      "outputs": [],
      "source": [
        "import numpy as np\n",
        "\n",
        "from astropy.table import Table\n",
        "from astropy.nddata import NDData, StdDevUncertainty\n",
        "import astropy.units as u\n",
        "\n",
        "# Fitting\n",
        "from astropy.modeling import models\n",
        "from specutils.fitting import estimate_line_parameters, fit_lines\n",
        "\n",
        "# Plotting\n",
        "import matplotlib\n",
        "import matplotlib.pyplot as plt\n",
        "\n",
        "import pandas as pd\n",
        "\n",
        "%matplotlib inline"
      ]
    },
    {
      "cell_type": "code",
      "execution_count": null,
      "id": "f49c0d3e-e43c-4f5e-807c-7ce7627b56c7",
      "metadata": {
        "tags": [],
        "id": "f49c0d3e-e43c-4f5e-807c-7ce7627b56c7",
        "outputId": "35ce1294-ae0f-4c69-9baa-cdb9c5f8554f"
      },
      "outputs": [
        {
          "ename": "ModuleNotFoundError",
          "evalue": "No module named 'dl'",
          "output_type": "error",
          "traceback": [
            "\u001b[1;31m---------------------------------------------------------------------------\u001b[0m",
            "\u001b[1;31mModuleNotFoundError\u001b[0m                       Traceback (most recent call last)",
            "Cell \u001b[1;32mIn[129], line 3\u001b[0m\n\u001b[0;32m      1\u001b[0m \u001b[38;5;66;03m# DataLab related modules\u001b[39;00m\n\u001b[0;32m      2\u001b[0m \u001b[38;5;28;01mfrom\u001b[39;00m \u001b[38;5;21;01msparcl\u001b[39;00m\u001b[38;5;21;01m.\u001b[39;00m\u001b[38;5;21;01mclient\u001b[39;00m \u001b[38;5;28;01mimport\u001b[39;00m SparclClient\n\u001b[1;32m----> 3\u001b[0m \u001b[38;5;28;01mfrom\u001b[39;00m \u001b[38;5;21;01mdl\u001b[39;00m \u001b[38;5;28;01mimport\u001b[39;00m queryClient \u001b[38;5;28;01mas\u001b[39;00m qc\n",
            "\u001b[1;31mModuleNotFoundError\u001b[0m: No module named 'dl'"
          ]
        }
      ],
      "source": [
        "# DataLab related modules\n",
        "from sparcl.client import SparclClient\n",
        "from dl import queryClient as qc"
      ]
    },
    {
      "cell_type": "code",
      "execution_count": null,
      "id": "4390a916-5813-4ed2-a253-14726bf852d6",
      "metadata": {
        "tags": [],
        "id": "4390a916-5813-4ed2-a253-14726bf852d6"
      },
      "outputs": [],
      "source": [
        "# Load SPARCLClient\n",
        "client = SparclClient()"
      ]
    },
    {
      "cell_type": "code",
      "execution_count": null,
      "id": "24a226bd-1318-4c36-9880-4170fbe99c7c",
      "metadata": {
        "tags": [],
        "id": "24a226bd-1318-4c36-9880-4170fbe99c7c"
      },
      "outputs": [],
      "source": [
        "## Making the matplotlib plots look nicer\n",
        "settings = {\n",
        "    'font.size':20,\n",
        "    'font.family': \"serif\",\n",
        "    'axes.linewidth':1.0,\n",
        "    'xtick.major.size':6.0,\n",
        "    'xtick.minor.size':3.0,\n",
        "    'xtick.major.width':1.5,\n",
        "    'xtick.minor.width':1.5,\n",
        "    'xtick.direction':'in',\n",
        "    'xtick.minor.visible':True,\n",
        "    'xtick.top':True,\n",
        "    'ytick.major.size':6.0,\n",
        "    'ytick.minor.size':3.0,\n",
        "    'ytick.major.width':1.5,\n",
        "    'ytick.minor.width':1.5,\n",
        "    'ytick.direction':'in',\n",
        "    'ytick.minor.visible':True,\n",
        "    'ytick.right':True\n",
        "}\n",
        "\n",
        "plt.rcParams['figure.dpi'] = 140\n",
        "plt.rcParams.update(**settings)"
      ]
    },
    {
      "cell_type": "markdown",
      "id": "0a28217e-9beb-433f-9f2d-2d4ec13b6a62",
      "metadata": {
        "jp-MarkdownHeadingCollapsed": true,
        "id": "0a28217e-9beb-433f-9f2d-2d4ec13b6a62"
      },
      "source": [
        "# Loading Data"
      ]
    },
    {
      "cell_type": "markdown",
      "id": "47750db6-f33e-4da7-a60a-389ad1c20e27",
      "metadata": {
        "jp-MarkdownHeadingCollapsed": true,
        "id": "47750db6-f33e-4da7-a60a-389ad1c20e27"
      },
      "source": [
        "## Sample 1"
      ]
    },
    {
      "cell_type": "code",
      "execution_count": null,
      "id": "32572b1c-1ee5-49f7-b603-0cf7d4e48097",
      "metadata": {
        "tags": [],
        "id": "32572b1c-1ee5-49f7-b603-0cf7d4e48097",
        "outputId": "1994a543-1fbc-4206-8e02-20b04d4c29cf"
      },
      "outputs": [
        {
          "ename": "FileNotFoundError",
          "evalue": "[Errno 2] No such file or directory: 'SAMPLE 1/galaxy_sample1.csv'",
          "output_type": "error",
          "traceback": [
            "\u001b[1;31m---------------------------------------------------------------------------\u001b[0m",
            "\u001b[1;31mFileNotFoundError\u001b[0m                         Traceback (most recent call last)",
            "Cell \u001b[1;32mIn[137], line 1\u001b[0m\n\u001b[1;32m----> 1\u001b[0m df_desi \u001b[38;5;241m=\u001b[39m \u001b[43mpd\u001b[49m\u001b[38;5;241;43m.\u001b[39;49m\u001b[43mread_csv\u001b[49m\u001b[43m(\u001b[49m\u001b[38;5;124;43m\"\u001b[39;49m\u001b[38;5;124;43mSAMPLE 1/galaxy_sample1.csv\u001b[39;49m\u001b[38;5;124;43m\"\u001b[39;49m\u001b[43m)\u001b[49m\n\u001b[0;32m      2\u001b[0m df_desi \u001b[38;5;241m=\u001b[39m df_desi\u001b[38;5;241m.\u001b[39msort_values(\u001b[38;5;124m'\u001b[39m\u001b[38;5;124mlog(M*/M)\u001b[39m\u001b[38;5;124m'\u001b[39m, ascending\u001b[38;5;241m=\u001b[39m\u001b[38;5;28;01mFalse\u001b[39;00m)\n\u001b[0;32m      3\u001b[0m df_desi\n",
            "File \u001b[1;32m~\\AppData\\Roaming\\Python\\Python312\\site-packages\\pandas\\io\\parsers\\readers.py:1026\u001b[0m, in \u001b[0;36mread_csv\u001b[1;34m(filepath_or_buffer, sep, delimiter, header, names, index_col, usecols, dtype, engine, converters, true_values, false_values, skipinitialspace, skiprows, skipfooter, nrows, na_values, keep_default_na, na_filter, verbose, skip_blank_lines, parse_dates, infer_datetime_format, keep_date_col, date_parser, date_format, dayfirst, cache_dates, iterator, chunksize, compression, thousands, decimal, lineterminator, quotechar, quoting, doublequote, escapechar, comment, encoding, encoding_errors, dialect, on_bad_lines, delim_whitespace, low_memory, memory_map, float_precision, storage_options, dtype_backend)\u001b[0m\n\u001b[0;32m   1013\u001b[0m kwds_defaults \u001b[38;5;241m=\u001b[39m _refine_defaults_read(\n\u001b[0;32m   1014\u001b[0m     dialect,\n\u001b[0;32m   1015\u001b[0m     delimiter,\n\u001b[1;32m   (...)\u001b[0m\n\u001b[0;32m   1022\u001b[0m     dtype_backend\u001b[38;5;241m=\u001b[39mdtype_backend,\n\u001b[0;32m   1023\u001b[0m )\n\u001b[0;32m   1024\u001b[0m kwds\u001b[38;5;241m.\u001b[39mupdate(kwds_defaults)\n\u001b[1;32m-> 1026\u001b[0m \u001b[38;5;28;01mreturn\u001b[39;00m \u001b[43m_read\u001b[49m\u001b[43m(\u001b[49m\u001b[43mfilepath_or_buffer\u001b[49m\u001b[43m,\u001b[49m\u001b[43m \u001b[49m\u001b[43mkwds\u001b[49m\u001b[43m)\u001b[49m\n",
            "File \u001b[1;32m~\\AppData\\Roaming\\Python\\Python312\\site-packages\\pandas\\io\\parsers\\readers.py:620\u001b[0m, in \u001b[0;36m_read\u001b[1;34m(filepath_or_buffer, kwds)\u001b[0m\n\u001b[0;32m    617\u001b[0m _validate_names(kwds\u001b[38;5;241m.\u001b[39mget(\u001b[38;5;124m\"\u001b[39m\u001b[38;5;124mnames\u001b[39m\u001b[38;5;124m\"\u001b[39m, \u001b[38;5;28;01mNone\u001b[39;00m))\n\u001b[0;32m    619\u001b[0m \u001b[38;5;66;03m# Create the parser.\u001b[39;00m\n\u001b[1;32m--> 620\u001b[0m parser \u001b[38;5;241m=\u001b[39m \u001b[43mTextFileReader\u001b[49m\u001b[43m(\u001b[49m\u001b[43mfilepath_or_buffer\u001b[49m\u001b[43m,\u001b[49m\u001b[43m \u001b[49m\u001b[38;5;241;43m*\u001b[39;49m\u001b[38;5;241;43m*\u001b[39;49m\u001b[43mkwds\u001b[49m\u001b[43m)\u001b[49m\n\u001b[0;32m    622\u001b[0m \u001b[38;5;28;01mif\u001b[39;00m chunksize \u001b[38;5;129;01mor\u001b[39;00m iterator:\n\u001b[0;32m    623\u001b[0m     \u001b[38;5;28;01mreturn\u001b[39;00m parser\n",
            "File \u001b[1;32m~\\AppData\\Roaming\\Python\\Python312\\site-packages\\pandas\\io\\parsers\\readers.py:1620\u001b[0m, in \u001b[0;36mTextFileReader.__init__\u001b[1;34m(self, f, engine, **kwds)\u001b[0m\n\u001b[0;32m   1617\u001b[0m     \u001b[38;5;28mself\u001b[39m\u001b[38;5;241m.\u001b[39moptions[\u001b[38;5;124m\"\u001b[39m\u001b[38;5;124mhas_index_names\u001b[39m\u001b[38;5;124m\"\u001b[39m] \u001b[38;5;241m=\u001b[39m kwds[\u001b[38;5;124m\"\u001b[39m\u001b[38;5;124mhas_index_names\u001b[39m\u001b[38;5;124m\"\u001b[39m]\n\u001b[0;32m   1619\u001b[0m \u001b[38;5;28mself\u001b[39m\u001b[38;5;241m.\u001b[39mhandles: IOHandles \u001b[38;5;241m|\u001b[39m \u001b[38;5;28;01mNone\u001b[39;00m \u001b[38;5;241m=\u001b[39m \u001b[38;5;28;01mNone\u001b[39;00m\n\u001b[1;32m-> 1620\u001b[0m \u001b[38;5;28mself\u001b[39m\u001b[38;5;241m.\u001b[39m_engine \u001b[38;5;241m=\u001b[39m \u001b[38;5;28;43mself\u001b[39;49m\u001b[38;5;241;43m.\u001b[39;49m\u001b[43m_make_engine\u001b[49m\u001b[43m(\u001b[49m\u001b[43mf\u001b[49m\u001b[43m,\u001b[49m\u001b[43m \u001b[49m\u001b[38;5;28;43mself\u001b[39;49m\u001b[38;5;241;43m.\u001b[39;49m\u001b[43mengine\u001b[49m\u001b[43m)\u001b[49m\n",
            "File \u001b[1;32m~\\AppData\\Roaming\\Python\\Python312\\site-packages\\pandas\\io\\parsers\\readers.py:1880\u001b[0m, in \u001b[0;36mTextFileReader._make_engine\u001b[1;34m(self, f, engine)\u001b[0m\n\u001b[0;32m   1878\u001b[0m     \u001b[38;5;28;01mif\u001b[39;00m \u001b[38;5;124m\"\u001b[39m\u001b[38;5;124mb\u001b[39m\u001b[38;5;124m\"\u001b[39m \u001b[38;5;129;01mnot\u001b[39;00m \u001b[38;5;129;01min\u001b[39;00m mode:\n\u001b[0;32m   1879\u001b[0m         mode \u001b[38;5;241m+\u001b[39m\u001b[38;5;241m=\u001b[39m \u001b[38;5;124m\"\u001b[39m\u001b[38;5;124mb\u001b[39m\u001b[38;5;124m\"\u001b[39m\n\u001b[1;32m-> 1880\u001b[0m \u001b[38;5;28mself\u001b[39m\u001b[38;5;241m.\u001b[39mhandles \u001b[38;5;241m=\u001b[39m \u001b[43mget_handle\u001b[49m\u001b[43m(\u001b[49m\n\u001b[0;32m   1881\u001b[0m \u001b[43m    \u001b[49m\u001b[43mf\u001b[49m\u001b[43m,\u001b[49m\n\u001b[0;32m   1882\u001b[0m \u001b[43m    \u001b[49m\u001b[43mmode\u001b[49m\u001b[43m,\u001b[49m\n\u001b[0;32m   1883\u001b[0m \u001b[43m    \u001b[49m\u001b[43mencoding\u001b[49m\u001b[38;5;241;43m=\u001b[39;49m\u001b[38;5;28;43mself\u001b[39;49m\u001b[38;5;241;43m.\u001b[39;49m\u001b[43moptions\u001b[49m\u001b[38;5;241;43m.\u001b[39;49m\u001b[43mget\u001b[49m\u001b[43m(\u001b[49m\u001b[38;5;124;43m\"\u001b[39;49m\u001b[38;5;124;43mencoding\u001b[39;49m\u001b[38;5;124;43m\"\u001b[39;49m\u001b[43m,\u001b[49m\u001b[43m \u001b[49m\u001b[38;5;28;43;01mNone\u001b[39;49;00m\u001b[43m)\u001b[49m\u001b[43m,\u001b[49m\n\u001b[0;32m   1884\u001b[0m \u001b[43m    \u001b[49m\u001b[43mcompression\u001b[49m\u001b[38;5;241;43m=\u001b[39;49m\u001b[38;5;28;43mself\u001b[39;49m\u001b[38;5;241;43m.\u001b[39;49m\u001b[43moptions\u001b[49m\u001b[38;5;241;43m.\u001b[39;49m\u001b[43mget\u001b[49m\u001b[43m(\u001b[49m\u001b[38;5;124;43m\"\u001b[39;49m\u001b[38;5;124;43mcompression\u001b[39;49m\u001b[38;5;124;43m\"\u001b[39;49m\u001b[43m,\u001b[49m\u001b[43m \u001b[49m\u001b[38;5;28;43;01mNone\u001b[39;49;00m\u001b[43m)\u001b[49m\u001b[43m,\u001b[49m\n\u001b[0;32m   1885\u001b[0m \u001b[43m    \u001b[49m\u001b[43mmemory_map\u001b[49m\u001b[38;5;241;43m=\u001b[39;49m\u001b[38;5;28;43mself\u001b[39;49m\u001b[38;5;241;43m.\u001b[39;49m\u001b[43moptions\u001b[49m\u001b[38;5;241;43m.\u001b[39;49m\u001b[43mget\u001b[49m\u001b[43m(\u001b[49m\u001b[38;5;124;43m\"\u001b[39;49m\u001b[38;5;124;43mmemory_map\u001b[39;49m\u001b[38;5;124;43m\"\u001b[39;49m\u001b[43m,\u001b[49m\u001b[43m \u001b[49m\u001b[38;5;28;43;01mFalse\u001b[39;49;00m\u001b[43m)\u001b[49m\u001b[43m,\u001b[49m\n\u001b[0;32m   1886\u001b[0m \u001b[43m    \u001b[49m\u001b[43mis_text\u001b[49m\u001b[38;5;241;43m=\u001b[39;49m\u001b[43mis_text\u001b[49m\u001b[43m,\u001b[49m\n\u001b[0;32m   1887\u001b[0m \u001b[43m    \u001b[49m\u001b[43merrors\u001b[49m\u001b[38;5;241;43m=\u001b[39;49m\u001b[38;5;28;43mself\u001b[39;49m\u001b[38;5;241;43m.\u001b[39;49m\u001b[43moptions\u001b[49m\u001b[38;5;241;43m.\u001b[39;49m\u001b[43mget\u001b[49m\u001b[43m(\u001b[49m\u001b[38;5;124;43m\"\u001b[39;49m\u001b[38;5;124;43mencoding_errors\u001b[39;49m\u001b[38;5;124;43m\"\u001b[39;49m\u001b[43m,\u001b[49m\u001b[43m \u001b[49m\u001b[38;5;124;43m\"\u001b[39;49m\u001b[38;5;124;43mstrict\u001b[39;49m\u001b[38;5;124;43m\"\u001b[39;49m\u001b[43m)\u001b[49m\u001b[43m,\u001b[49m\n\u001b[0;32m   1888\u001b[0m \u001b[43m    \u001b[49m\u001b[43mstorage_options\u001b[49m\u001b[38;5;241;43m=\u001b[39;49m\u001b[38;5;28;43mself\u001b[39;49m\u001b[38;5;241;43m.\u001b[39;49m\u001b[43moptions\u001b[49m\u001b[38;5;241;43m.\u001b[39;49m\u001b[43mget\u001b[49m\u001b[43m(\u001b[49m\u001b[38;5;124;43m\"\u001b[39;49m\u001b[38;5;124;43mstorage_options\u001b[39;49m\u001b[38;5;124;43m\"\u001b[39;49m\u001b[43m,\u001b[49m\u001b[43m \u001b[49m\u001b[38;5;28;43;01mNone\u001b[39;49;00m\u001b[43m)\u001b[49m\u001b[43m,\u001b[49m\n\u001b[0;32m   1889\u001b[0m \u001b[43m\u001b[49m\u001b[43m)\u001b[49m\n\u001b[0;32m   1890\u001b[0m \u001b[38;5;28;01massert\u001b[39;00m \u001b[38;5;28mself\u001b[39m\u001b[38;5;241m.\u001b[39mhandles \u001b[38;5;129;01mis\u001b[39;00m \u001b[38;5;129;01mnot\u001b[39;00m \u001b[38;5;28;01mNone\u001b[39;00m\n\u001b[0;32m   1891\u001b[0m f \u001b[38;5;241m=\u001b[39m \u001b[38;5;28mself\u001b[39m\u001b[38;5;241m.\u001b[39mhandles\u001b[38;5;241m.\u001b[39mhandle\n",
            "File \u001b[1;32m~\\AppData\\Roaming\\Python\\Python312\\site-packages\\pandas\\io\\common.py:873\u001b[0m, in \u001b[0;36mget_handle\u001b[1;34m(path_or_buf, mode, encoding, compression, memory_map, is_text, errors, storage_options)\u001b[0m\n\u001b[0;32m    868\u001b[0m \u001b[38;5;28;01melif\u001b[39;00m \u001b[38;5;28misinstance\u001b[39m(handle, \u001b[38;5;28mstr\u001b[39m):\n\u001b[0;32m    869\u001b[0m     \u001b[38;5;66;03m# Check whether the filename is to be opened in binary mode.\u001b[39;00m\n\u001b[0;32m    870\u001b[0m     \u001b[38;5;66;03m# Binary mode does not support 'encoding' and 'newline'.\u001b[39;00m\n\u001b[0;32m    871\u001b[0m     \u001b[38;5;28;01mif\u001b[39;00m ioargs\u001b[38;5;241m.\u001b[39mencoding \u001b[38;5;129;01mand\u001b[39;00m \u001b[38;5;124m\"\u001b[39m\u001b[38;5;124mb\u001b[39m\u001b[38;5;124m\"\u001b[39m \u001b[38;5;129;01mnot\u001b[39;00m \u001b[38;5;129;01min\u001b[39;00m ioargs\u001b[38;5;241m.\u001b[39mmode:\n\u001b[0;32m    872\u001b[0m         \u001b[38;5;66;03m# Encoding\u001b[39;00m\n\u001b[1;32m--> 873\u001b[0m         handle \u001b[38;5;241m=\u001b[39m \u001b[38;5;28;43mopen\u001b[39;49m\u001b[43m(\u001b[49m\n\u001b[0;32m    874\u001b[0m \u001b[43m            \u001b[49m\u001b[43mhandle\u001b[49m\u001b[43m,\u001b[49m\n\u001b[0;32m    875\u001b[0m \u001b[43m            \u001b[49m\u001b[43mioargs\u001b[49m\u001b[38;5;241;43m.\u001b[39;49m\u001b[43mmode\u001b[49m\u001b[43m,\u001b[49m\n\u001b[0;32m    876\u001b[0m \u001b[43m            \u001b[49m\u001b[43mencoding\u001b[49m\u001b[38;5;241;43m=\u001b[39;49m\u001b[43mioargs\u001b[49m\u001b[38;5;241;43m.\u001b[39;49m\u001b[43mencoding\u001b[49m\u001b[43m,\u001b[49m\n\u001b[0;32m    877\u001b[0m \u001b[43m            \u001b[49m\u001b[43merrors\u001b[49m\u001b[38;5;241;43m=\u001b[39;49m\u001b[43merrors\u001b[49m\u001b[43m,\u001b[49m\n\u001b[0;32m    878\u001b[0m \u001b[43m            \u001b[49m\u001b[43mnewline\u001b[49m\u001b[38;5;241;43m=\u001b[39;49m\u001b[38;5;124;43m\"\u001b[39;49m\u001b[38;5;124;43m\"\u001b[39;49m\u001b[43m,\u001b[49m\n\u001b[0;32m    879\u001b[0m \u001b[43m        \u001b[49m\u001b[43m)\u001b[49m\n\u001b[0;32m    880\u001b[0m     \u001b[38;5;28;01melse\u001b[39;00m:\n\u001b[0;32m    881\u001b[0m         \u001b[38;5;66;03m# Binary mode\u001b[39;00m\n\u001b[0;32m    882\u001b[0m         handle \u001b[38;5;241m=\u001b[39m \u001b[38;5;28mopen\u001b[39m(handle, ioargs\u001b[38;5;241m.\u001b[39mmode)\n",
            "\u001b[1;31mFileNotFoundError\u001b[0m: [Errno 2] No such file or directory: 'SAMPLE 1/galaxy_sample1.csv'"
          ]
        }
      ],
      "source": [
        "df_desi = pd.read_csv(\"SAMPLE 1/galaxy_sample1.csv\")\n",
        "df_desi = df_desi.sort_values('log(M*/M)', ascending=False)\n",
        "df_desi"
      ]
    },
    {
      "cell_type": "markdown",
      "id": "9e00266d-bf05-4cfc-be2d-3ea2506e0c44",
      "metadata": {
        "jp-MarkdownHeadingCollapsed": true,
        "id": "9e00266d-bf05-4cfc-be2d-3ea2506e0c44"
      },
      "source": [
        "## Emission Data"
      ]
    },
    {
      "cell_type": "code",
      "execution_count": null,
      "id": "de385baf-8138-450c-83e7-c5feac18a02b",
      "metadata": {
        "tags": [],
        "id": "de385baf-8138-450c-83e7-c5feac18a02b",
        "outputId": "3ef6eb2f-e437-4b25-c78d-1407e3378f16"
      },
      "outputs": [
        {
          "ename": "FileNotFoundError",
          "evalue": "[Errno 2] No such file or directory: 'SAMPLE 1/emission_high_mass.csv'",
          "output_type": "error",
          "traceback": [
            "\u001b[1;31m---------------------------------------------------------------------------\u001b[0m",
            "\u001b[1;31mFileNotFoundError\u001b[0m                         Traceback (most recent call last)",
            "Cell \u001b[1;32mIn[140], line 1\u001b[0m\n\u001b[1;32m----> 1\u001b[0m emission_high_mass \u001b[38;5;241m=\u001b[39m \u001b[43mpd\u001b[49m\u001b[38;5;241;43m.\u001b[39;49m\u001b[43mread_csv\u001b[49m\u001b[43m(\u001b[49m\u001b[38;5;124;43m\"\u001b[39;49m\u001b[38;5;124;43mSAMPLE 1/emission_high_mass.csv\u001b[39;49m\u001b[38;5;124;43m\"\u001b[39;49m\u001b[43m)\u001b[49m\n\u001b[0;32m      2\u001b[0m emission_medium_mass \u001b[38;5;241m=\u001b[39m pd\u001b[38;5;241m.\u001b[39mread_csv(\u001b[38;5;124m\"\u001b[39m\u001b[38;5;124mSAMPLE 1/emission_medium_mass.csv\u001b[39m\u001b[38;5;124m\"\u001b[39m)\n\u001b[0;32m      3\u001b[0m emission_low_mass \u001b[38;5;241m=\u001b[39m pd\u001b[38;5;241m.\u001b[39mread_csv(\u001b[38;5;124m\"\u001b[39m\u001b[38;5;124mSAMPLE 1/emission_low_mass.csv\u001b[39m\u001b[38;5;124m\"\u001b[39m)\n",
            "File \u001b[1;32m~\\AppData\\Roaming\\Python\\Python312\\site-packages\\pandas\\io\\parsers\\readers.py:1026\u001b[0m, in \u001b[0;36mread_csv\u001b[1;34m(filepath_or_buffer, sep, delimiter, header, names, index_col, usecols, dtype, engine, converters, true_values, false_values, skipinitialspace, skiprows, skipfooter, nrows, na_values, keep_default_na, na_filter, verbose, skip_blank_lines, parse_dates, infer_datetime_format, keep_date_col, date_parser, date_format, dayfirst, cache_dates, iterator, chunksize, compression, thousands, decimal, lineterminator, quotechar, quoting, doublequote, escapechar, comment, encoding, encoding_errors, dialect, on_bad_lines, delim_whitespace, low_memory, memory_map, float_precision, storage_options, dtype_backend)\u001b[0m\n\u001b[0;32m   1013\u001b[0m kwds_defaults \u001b[38;5;241m=\u001b[39m _refine_defaults_read(\n\u001b[0;32m   1014\u001b[0m     dialect,\n\u001b[0;32m   1015\u001b[0m     delimiter,\n\u001b[1;32m   (...)\u001b[0m\n\u001b[0;32m   1022\u001b[0m     dtype_backend\u001b[38;5;241m=\u001b[39mdtype_backend,\n\u001b[0;32m   1023\u001b[0m )\n\u001b[0;32m   1024\u001b[0m kwds\u001b[38;5;241m.\u001b[39mupdate(kwds_defaults)\n\u001b[1;32m-> 1026\u001b[0m \u001b[38;5;28;01mreturn\u001b[39;00m \u001b[43m_read\u001b[49m\u001b[43m(\u001b[49m\u001b[43mfilepath_or_buffer\u001b[49m\u001b[43m,\u001b[49m\u001b[43m \u001b[49m\u001b[43mkwds\u001b[49m\u001b[43m)\u001b[49m\n",
            "File \u001b[1;32m~\\AppData\\Roaming\\Python\\Python312\\site-packages\\pandas\\io\\parsers\\readers.py:620\u001b[0m, in \u001b[0;36m_read\u001b[1;34m(filepath_or_buffer, kwds)\u001b[0m\n\u001b[0;32m    617\u001b[0m _validate_names(kwds\u001b[38;5;241m.\u001b[39mget(\u001b[38;5;124m\"\u001b[39m\u001b[38;5;124mnames\u001b[39m\u001b[38;5;124m\"\u001b[39m, \u001b[38;5;28;01mNone\u001b[39;00m))\n\u001b[0;32m    619\u001b[0m \u001b[38;5;66;03m# Create the parser.\u001b[39;00m\n\u001b[1;32m--> 620\u001b[0m parser \u001b[38;5;241m=\u001b[39m \u001b[43mTextFileReader\u001b[49m\u001b[43m(\u001b[49m\u001b[43mfilepath_or_buffer\u001b[49m\u001b[43m,\u001b[49m\u001b[43m \u001b[49m\u001b[38;5;241;43m*\u001b[39;49m\u001b[38;5;241;43m*\u001b[39;49m\u001b[43mkwds\u001b[49m\u001b[43m)\u001b[49m\n\u001b[0;32m    622\u001b[0m \u001b[38;5;28;01mif\u001b[39;00m chunksize \u001b[38;5;129;01mor\u001b[39;00m iterator:\n\u001b[0;32m    623\u001b[0m     \u001b[38;5;28;01mreturn\u001b[39;00m parser\n",
            "File \u001b[1;32m~\\AppData\\Roaming\\Python\\Python312\\site-packages\\pandas\\io\\parsers\\readers.py:1620\u001b[0m, in \u001b[0;36mTextFileReader.__init__\u001b[1;34m(self, f, engine, **kwds)\u001b[0m\n\u001b[0;32m   1617\u001b[0m     \u001b[38;5;28mself\u001b[39m\u001b[38;5;241m.\u001b[39moptions[\u001b[38;5;124m\"\u001b[39m\u001b[38;5;124mhas_index_names\u001b[39m\u001b[38;5;124m\"\u001b[39m] \u001b[38;5;241m=\u001b[39m kwds[\u001b[38;5;124m\"\u001b[39m\u001b[38;5;124mhas_index_names\u001b[39m\u001b[38;5;124m\"\u001b[39m]\n\u001b[0;32m   1619\u001b[0m \u001b[38;5;28mself\u001b[39m\u001b[38;5;241m.\u001b[39mhandles: IOHandles \u001b[38;5;241m|\u001b[39m \u001b[38;5;28;01mNone\u001b[39;00m \u001b[38;5;241m=\u001b[39m \u001b[38;5;28;01mNone\u001b[39;00m\n\u001b[1;32m-> 1620\u001b[0m \u001b[38;5;28mself\u001b[39m\u001b[38;5;241m.\u001b[39m_engine \u001b[38;5;241m=\u001b[39m \u001b[38;5;28;43mself\u001b[39;49m\u001b[38;5;241;43m.\u001b[39;49m\u001b[43m_make_engine\u001b[49m\u001b[43m(\u001b[49m\u001b[43mf\u001b[49m\u001b[43m,\u001b[49m\u001b[43m \u001b[49m\u001b[38;5;28;43mself\u001b[39;49m\u001b[38;5;241;43m.\u001b[39;49m\u001b[43mengine\u001b[49m\u001b[43m)\u001b[49m\n",
            "File \u001b[1;32m~\\AppData\\Roaming\\Python\\Python312\\site-packages\\pandas\\io\\parsers\\readers.py:1880\u001b[0m, in \u001b[0;36mTextFileReader._make_engine\u001b[1;34m(self, f, engine)\u001b[0m\n\u001b[0;32m   1878\u001b[0m     \u001b[38;5;28;01mif\u001b[39;00m \u001b[38;5;124m\"\u001b[39m\u001b[38;5;124mb\u001b[39m\u001b[38;5;124m\"\u001b[39m \u001b[38;5;129;01mnot\u001b[39;00m \u001b[38;5;129;01min\u001b[39;00m mode:\n\u001b[0;32m   1879\u001b[0m         mode \u001b[38;5;241m+\u001b[39m\u001b[38;5;241m=\u001b[39m \u001b[38;5;124m\"\u001b[39m\u001b[38;5;124mb\u001b[39m\u001b[38;5;124m\"\u001b[39m\n\u001b[1;32m-> 1880\u001b[0m \u001b[38;5;28mself\u001b[39m\u001b[38;5;241m.\u001b[39mhandles \u001b[38;5;241m=\u001b[39m \u001b[43mget_handle\u001b[49m\u001b[43m(\u001b[49m\n\u001b[0;32m   1881\u001b[0m \u001b[43m    \u001b[49m\u001b[43mf\u001b[49m\u001b[43m,\u001b[49m\n\u001b[0;32m   1882\u001b[0m \u001b[43m    \u001b[49m\u001b[43mmode\u001b[49m\u001b[43m,\u001b[49m\n\u001b[0;32m   1883\u001b[0m \u001b[43m    \u001b[49m\u001b[43mencoding\u001b[49m\u001b[38;5;241;43m=\u001b[39;49m\u001b[38;5;28;43mself\u001b[39;49m\u001b[38;5;241;43m.\u001b[39;49m\u001b[43moptions\u001b[49m\u001b[38;5;241;43m.\u001b[39;49m\u001b[43mget\u001b[49m\u001b[43m(\u001b[49m\u001b[38;5;124;43m\"\u001b[39;49m\u001b[38;5;124;43mencoding\u001b[39;49m\u001b[38;5;124;43m\"\u001b[39;49m\u001b[43m,\u001b[49m\u001b[43m \u001b[49m\u001b[38;5;28;43;01mNone\u001b[39;49;00m\u001b[43m)\u001b[49m\u001b[43m,\u001b[49m\n\u001b[0;32m   1884\u001b[0m \u001b[43m    \u001b[49m\u001b[43mcompression\u001b[49m\u001b[38;5;241;43m=\u001b[39;49m\u001b[38;5;28;43mself\u001b[39;49m\u001b[38;5;241;43m.\u001b[39;49m\u001b[43moptions\u001b[49m\u001b[38;5;241;43m.\u001b[39;49m\u001b[43mget\u001b[49m\u001b[43m(\u001b[49m\u001b[38;5;124;43m\"\u001b[39;49m\u001b[38;5;124;43mcompression\u001b[39;49m\u001b[38;5;124;43m\"\u001b[39;49m\u001b[43m,\u001b[49m\u001b[43m \u001b[49m\u001b[38;5;28;43;01mNone\u001b[39;49;00m\u001b[43m)\u001b[49m\u001b[43m,\u001b[49m\n\u001b[0;32m   1885\u001b[0m \u001b[43m    \u001b[49m\u001b[43mmemory_map\u001b[49m\u001b[38;5;241;43m=\u001b[39;49m\u001b[38;5;28;43mself\u001b[39;49m\u001b[38;5;241;43m.\u001b[39;49m\u001b[43moptions\u001b[49m\u001b[38;5;241;43m.\u001b[39;49m\u001b[43mget\u001b[49m\u001b[43m(\u001b[49m\u001b[38;5;124;43m\"\u001b[39;49m\u001b[38;5;124;43mmemory_map\u001b[39;49m\u001b[38;5;124;43m\"\u001b[39;49m\u001b[43m,\u001b[49m\u001b[43m \u001b[49m\u001b[38;5;28;43;01mFalse\u001b[39;49;00m\u001b[43m)\u001b[49m\u001b[43m,\u001b[49m\n\u001b[0;32m   1886\u001b[0m \u001b[43m    \u001b[49m\u001b[43mis_text\u001b[49m\u001b[38;5;241;43m=\u001b[39;49m\u001b[43mis_text\u001b[49m\u001b[43m,\u001b[49m\n\u001b[0;32m   1887\u001b[0m \u001b[43m    \u001b[49m\u001b[43merrors\u001b[49m\u001b[38;5;241;43m=\u001b[39;49m\u001b[38;5;28;43mself\u001b[39;49m\u001b[38;5;241;43m.\u001b[39;49m\u001b[43moptions\u001b[49m\u001b[38;5;241;43m.\u001b[39;49m\u001b[43mget\u001b[49m\u001b[43m(\u001b[49m\u001b[38;5;124;43m\"\u001b[39;49m\u001b[38;5;124;43mencoding_errors\u001b[39;49m\u001b[38;5;124;43m\"\u001b[39;49m\u001b[43m,\u001b[49m\u001b[43m \u001b[49m\u001b[38;5;124;43m\"\u001b[39;49m\u001b[38;5;124;43mstrict\u001b[39;49m\u001b[38;5;124;43m\"\u001b[39;49m\u001b[43m)\u001b[49m\u001b[43m,\u001b[49m\n\u001b[0;32m   1888\u001b[0m \u001b[43m    \u001b[49m\u001b[43mstorage_options\u001b[49m\u001b[38;5;241;43m=\u001b[39;49m\u001b[38;5;28;43mself\u001b[39;49m\u001b[38;5;241;43m.\u001b[39;49m\u001b[43moptions\u001b[49m\u001b[38;5;241;43m.\u001b[39;49m\u001b[43mget\u001b[49m\u001b[43m(\u001b[49m\u001b[38;5;124;43m\"\u001b[39;49m\u001b[38;5;124;43mstorage_options\u001b[39;49m\u001b[38;5;124;43m\"\u001b[39;49m\u001b[43m,\u001b[49m\u001b[43m \u001b[49m\u001b[38;5;28;43;01mNone\u001b[39;49;00m\u001b[43m)\u001b[49m\u001b[43m,\u001b[49m\n\u001b[0;32m   1889\u001b[0m \u001b[43m\u001b[49m\u001b[43m)\u001b[49m\n\u001b[0;32m   1890\u001b[0m \u001b[38;5;28;01massert\u001b[39;00m \u001b[38;5;28mself\u001b[39m\u001b[38;5;241m.\u001b[39mhandles \u001b[38;5;129;01mis\u001b[39;00m \u001b[38;5;129;01mnot\u001b[39;00m \u001b[38;5;28;01mNone\u001b[39;00m\n\u001b[0;32m   1891\u001b[0m f \u001b[38;5;241m=\u001b[39m \u001b[38;5;28mself\u001b[39m\u001b[38;5;241m.\u001b[39mhandles\u001b[38;5;241m.\u001b[39mhandle\n",
            "File \u001b[1;32m~\\AppData\\Roaming\\Python\\Python312\\site-packages\\pandas\\io\\common.py:873\u001b[0m, in \u001b[0;36mget_handle\u001b[1;34m(path_or_buf, mode, encoding, compression, memory_map, is_text, errors, storage_options)\u001b[0m\n\u001b[0;32m    868\u001b[0m \u001b[38;5;28;01melif\u001b[39;00m \u001b[38;5;28misinstance\u001b[39m(handle, \u001b[38;5;28mstr\u001b[39m):\n\u001b[0;32m    869\u001b[0m     \u001b[38;5;66;03m# Check whether the filename is to be opened in binary mode.\u001b[39;00m\n\u001b[0;32m    870\u001b[0m     \u001b[38;5;66;03m# Binary mode does not support 'encoding' and 'newline'.\u001b[39;00m\n\u001b[0;32m    871\u001b[0m     \u001b[38;5;28;01mif\u001b[39;00m ioargs\u001b[38;5;241m.\u001b[39mencoding \u001b[38;5;129;01mand\u001b[39;00m \u001b[38;5;124m\"\u001b[39m\u001b[38;5;124mb\u001b[39m\u001b[38;5;124m\"\u001b[39m \u001b[38;5;129;01mnot\u001b[39;00m \u001b[38;5;129;01min\u001b[39;00m ioargs\u001b[38;5;241m.\u001b[39mmode:\n\u001b[0;32m    872\u001b[0m         \u001b[38;5;66;03m# Encoding\u001b[39;00m\n\u001b[1;32m--> 873\u001b[0m         handle \u001b[38;5;241m=\u001b[39m \u001b[38;5;28;43mopen\u001b[39;49m\u001b[43m(\u001b[49m\n\u001b[0;32m    874\u001b[0m \u001b[43m            \u001b[49m\u001b[43mhandle\u001b[49m\u001b[43m,\u001b[49m\n\u001b[0;32m    875\u001b[0m \u001b[43m            \u001b[49m\u001b[43mioargs\u001b[49m\u001b[38;5;241;43m.\u001b[39;49m\u001b[43mmode\u001b[49m\u001b[43m,\u001b[49m\n\u001b[0;32m    876\u001b[0m \u001b[43m            \u001b[49m\u001b[43mencoding\u001b[49m\u001b[38;5;241;43m=\u001b[39;49m\u001b[43mioargs\u001b[49m\u001b[38;5;241;43m.\u001b[39;49m\u001b[43mencoding\u001b[49m\u001b[43m,\u001b[49m\n\u001b[0;32m    877\u001b[0m \u001b[43m            \u001b[49m\u001b[43merrors\u001b[49m\u001b[38;5;241;43m=\u001b[39;49m\u001b[43merrors\u001b[49m\u001b[43m,\u001b[49m\n\u001b[0;32m    878\u001b[0m \u001b[43m            \u001b[49m\u001b[43mnewline\u001b[49m\u001b[38;5;241;43m=\u001b[39;49m\u001b[38;5;124;43m\"\u001b[39;49m\u001b[38;5;124;43m\"\u001b[39;49m\u001b[43m,\u001b[49m\n\u001b[0;32m    879\u001b[0m \u001b[43m        \u001b[49m\u001b[43m)\u001b[49m\n\u001b[0;32m    880\u001b[0m     \u001b[38;5;28;01melse\u001b[39;00m:\n\u001b[0;32m    881\u001b[0m         \u001b[38;5;66;03m# Binary mode\u001b[39;00m\n\u001b[0;32m    882\u001b[0m         handle \u001b[38;5;241m=\u001b[39m \u001b[38;5;28mopen\u001b[39m(handle, ioargs\u001b[38;5;241m.\u001b[39mmode)\n",
            "\u001b[1;31mFileNotFoundError\u001b[0m: [Errno 2] No such file or directory: 'SAMPLE 1/emission_high_mass.csv'"
          ]
        }
      ],
      "source": [
        "emission_high_mass = pd.read_csv(\"SAMPLE 1/emission_high_mass.csv\")\n",
        "emission_medium_mass = pd.read_csv(\"SAMPLE 1/emission_medium_mass.csv\")\n",
        "emission_low_mass = pd.read_csv(\"SAMPLE 1/emission_low_mass.csv\")"
      ]
    },
    {
      "cell_type": "code",
      "execution_count": null,
      "id": "397163d3-9760-4090-bd66-ec48b8e78a71",
      "metadata": {
        "tags": [],
        "id": "397163d3-9760-4090-bd66-ec48b8e78a71",
        "outputId": "fbf73c7b-cb4c-423a-cbc4-d2473b1d55c7"
      },
      "outputs": [
        {
          "ename": "NameError",
          "evalue": "name 'emission_high_mass' is not defined",
          "output_type": "error",
          "traceback": [
            "\u001b[1;31m---------------------------------------------------------------------------\u001b[0m",
            "\u001b[1;31mNameError\u001b[0m                                 Traceback (most recent call last)",
            "Cell \u001b[1;32mIn[142], line 1\u001b[0m\n\u001b[1;32m----> 1\u001b[0m emission_data \u001b[38;5;241m=\u001b[39m pd\u001b[38;5;241m.\u001b[39mconcat([\u001b[43memission_high_mass\u001b[49m, emission_medium_mass, emission_low_mass])\n\u001b[0;32m      2\u001b[0m emission_data\u001b[38;5;241m.\u001b[39mto_csv(\u001b[38;5;124m\"\u001b[39m\u001b[38;5;124mSAMPLE 1/emission_data.csv\u001b[39m\u001b[38;5;124m\"\u001b[39m, index\u001b[38;5;241m=\u001b[39m\u001b[38;5;28;01mFalse\u001b[39;00m)\n",
            "\u001b[1;31mNameError\u001b[0m: name 'emission_high_mass' is not defined"
          ]
        }
      ],
      "source": [
        "emission_data = pd.concat([emission_high_mass, emission_medium_mass, emission_low_mass])\n",
        "emission_data.to_csv(\"SAMPLE 1/emission_data.csv\", index=False)"
      ]
    },
    {
      "cell_type": "markdown",
      "id": "5843abbc-3fa5-4fcd-9308-d8712a6cac11",
      "metadata": {
        "jp-MarkdownHeadingCollapsed": true,
        "id": "5843abbc-3fa5-4fcd-9308-d8712a6cac11"
      },
      "source": [
        "## Merging the two datasets"
      ]
    },
    {
      "cell_type": "code",
      "execution_count": null,
      "id": "5316dd9e-a468-45c3-8d5f-87b7899035ea",
      "metadata": {
        "tags": [],
        "id": "5316dd9e-a468-45c3-8d5f-87b7899035ea",
        "outputId": "e7143afe-c7db-4d0c-c9f8-ddd765d2b9b1"
      },
      "outputs": [
        {
          "ename": "NameError",
          "evalue": "name 'df_desi' is not defined",
          "output_type": "error",
          "traceback": [
            "\u001b[1;31m---------------------------------------------------------------------------\u001b[0m",
            "\u001b[1;31mNameError\u001b[0m                                 Traceback (most recent call last)",
            "Cell \u001b[1;32mIn[145], line 1\u001b[0m\n\u001b[1;32m----> 1\u001b[0m df_desi \u001b[38;5;241m=\u001b[39m \u001b[43mdf_desi\u001b[49m\u001b[38;5;241m.\u001b[39mmerge(emission_data, on\u001b[38;5;241m=\u001b[39m\u001b[38;5;124m\"\u001b[39m\u001b[38;5;124mtargetid\u001b[39m\u001b[38;5;124m\"\u001b[39m)\n\u001b[0;32m      2\u001b[0m df_desi\n",
            "\u001b[1;31mNameError\u001b[0m: name 'df_desi' is not defined"
          ]
        }
      ],
      "source": [
        "df_desi = df_desi.merge(emission_data, on=\"targetid\")\n",
        "df_desi"
      ]
    },
    {
      "cell_type": "markdown",
      "id": "586ed580-7498-4d26-be1e-106974778154",
      "metadata": {
        "jp-MarkdownHeadingCollapsed": true,
        "id": "586ed580-7498-4d26-be1e-106974778154"
      },
      "source": [
        "## Exporting Sample 1 + Emission Merged"
      ]
    },
    {
      "cell_type": "code",
      "execution_count": null,
      "id": "5ed0a704-258d-45b1-b751-0f526600585e",
      "metadata": {
        "id": "5ed0a704-258d-45b1-b751-0f526600585e",
        "outputId": "e633e2c2-93d8-4bc0-b82c-fa6656b2db46"
      },
      "outputs": [
        {
          "ename": "NameError",
          "evalue": "name 'df_desi' is not defined",
          "output_type": "error",
          "traceback": [
            "\u001b[1;31m---------------------------------------------------------------------------\u001b[0m",
            "\u001b[1;31mNameError\u001b[0m                                 Traceback (most recent call last)",
            "Cell \u001b[1;32mIn[148], line 1\u001b[0m\n\u001b[1;32m----> 1\u001b[0m \u001b[43mdf_desi\u001b[49m\u001b[38;5;241m.\u001b[39mto_csv(\u001b[38;5;124m'\u001b[39m\u001b[38;5;124mSAMPLE 1/galaxy_sample1_emission_merged.csv\u001b[39m\u001b[38;5;124m'\u001b[39m, index \u001b[38;5;241m=\u001b[39m \u001b[38;5;28;01mFalse\u001b[39;00m)  \n",
            "\u001b[1;31mNameError\u001b[0m: name 'df_desi' is not defined"
          ]
        }
      ],
      "source": [
        "df_desi.to_csv('SAMPLE 1/galaxy_sample1_emission_merged.csv', index = False)"
      ]
    },
    {
      "cell_type": "markdown",
      "id": "ecdbeba6-167a-4ced-9c15-438f462cbbb4",
      "metadata": {
        "jp-MarkdownHeadingCollapsed": true,
        "id": "ecdbeba6-167a-4ced-9c15-438f462cbbb4"
      },
      "source": [
        "# Creating Directories"
      ]
    },
    {
      "cell_type": "code",
      "execution_count": null,
      "id": "447009ee-c076-44fb-bcf6-b278de1d8477",
      "metadata": {
        "tags": [],
        "id": "447009ee-c076-44fb-bcf6-b278de1d8477"
      },
      "outputs": [],
      "source": [
        "import os"
      ]
    },
    {
      "cell_type": "code",
      "execution_count": null,
      "id": "6ebd8720-ac9a-4820-a3a7-4c05b36e56b1",
      "metadata": {
        "tags": [],
        "id": "6ebd8720-ac9a-4820-a3a7-4c05b36e56b1"
      },
      "outputs": [],
      "source": [
        "figures = \"SAMPLE 1/Figures\"\n",
        "os.makedirs(f\"{figures}/Retrieved Spectra\", exist_ok = True)\n",
        "os.makedirs(f\"{figures}/Zoomed Regions\", exist_ok = True)\n",
        "os.makedirs(f\"{figures}/Fitted Spectra\", exist_ok = True)\n",
        "os.makedirs(f\"{figures}/Model Fits\", exist_ok = True)\n",
        "os.makedirs(f\"{figures}/Continuum\", exist_ok = True)"
      ]
    },
    {
      "cell_type": "markdown",
      "id": "2892d1dd-3888-4890-81c5-ed25a1a87ff2",
      "metadata": {
        "id": "2892d1dd-3888-4890-81c5-ed25a1a87ff2"
      },
      "source": [
        "# Retrieving Spectra"
      ]
    },
    {
      "cell_type": "markdown",
      "id": "9e816d55-4176-412d-a495-61b79f58769e",
      "metadata": {
        "jp-MarkdownHeadingCollapsed": true,
        "id": "9e816d55-4176-412d-a495-61b79f58769e"
      },
      "source": [
        "## Individual Spectra"
      ]
    },
    {
      "cell_type": "code",
      "execution_count": null,
      "id": "9ea508cf-0a88-4960-86ed-902cbe94fbe3",
      "metadata": {
        "tags": [],
        "id": "9ea508cf-0a88-4960-86ed-902cbe94fbe3"
      },
      "outputs": [],
      "source": [
        "def retrieve_spectra(targetid):\n",
        "    # Retrieve Spectra using SPARCL\n",
        "    inc = ['specid', 'redshift', 'flux', 'wavelength', 'spectype', 'specprimary', 'model', 'chi2', 'ivar']\n",
        "    res = client.retrieve_by_specid(specid_list = [targetid], include = inc, dataset_list = ['DESI-EDR'])\n",
        "\n",
        "    # Checking that all the different spectra are retrieved\n",
        "    records = res.records\n",
        "\n",
        "    # Selecting the primary spectra\n",
        "    spec_primary = np.array([records[jj].specprimary for jj in range(len(records))])\n",
        "    primary_ii = np.where(spec_primary == True)[0][0]\n",
        "\n",
        "    lam_primary = records[primary_ii].wavelength\n",
        "    flam_primary = records[primary_ii].flux\n",
        "\n",
        "    # Converting to rest wavelength\n",
        "    z = records[primary_ii].redshift\n",
        "    lam_rest = lam_primary/(1 + z)\n",
        "\n",
        "    # Pipeline best model fit\n",
        "    model_flux = records[primary_ii].model\n",
        "\n",
        "    # Uncertainty of the flux\n",
        "    ivar = records[primary_ii].ivar\n",
        "    std = np.sqrt(1/ivar)\n",
        "\n",
        "    # Imputation for ivar=0\n",
        "    ivar0_idx = np.where(ivar == 0)[0]\n",
        "\n",
        "    if len(ivar0_idx) == 0:\n",
        "        err_imp_max = None\n",
        "        err_imp_med = None\n",
        "    else:\n",
        "        pct_err = np.abs(std[~ivar0_idx]/flam_primary[~ivar0_idx])\n",
        "        # Exclude infinite percent errors for imputation\n",
        "        pct_err = pct_err[(np.isinf(pct_err) == 0)]\n",
        "        err_imp_max = np.max(pct_err)\n",
        "        err_imp_med = np.median(pct_err)\n",
        "\n",
        "    return lam_rest, flam_primary, model_flux, ivar, std, err_imp_max, err_imp_med\n",
        ""
      ]
    },
    {
      "cell_type": "markdown",
      "id": "61ab507e-38bc-4a4b-a714-51cf5fdd6aab",
      "metadata": {
        "jp-MarkdownHeadingCollapsed": true,
        "id": "61ab507e-38bc-4a4b-a714-51cf5fdd6aab"
      },
      "source": [
        "# Defining H alpha Region"
      ]
    },
    {
      "cell_type": "code",
      "execution_count": null,
      "id": "e9a5485a-fcb6-4f2a-9514-25ba1cd9d064",
      "metadata": {
        "tags": [],
        "id": "e9a5485a-fcb6-4f2a-9514-25ba1cd9d064"
      },
      "outputs": [],
      "source": [
        "HI = 6564.61\n",
        "X = 5"
      ]
    },
    {
      "cell_type": "markdown",
      "id": "bb887f94-42a6-45d9-a837-141eba9e9094",
      "metadata": {
        "jp-MarkdownHeadingCollapsed": true,
        "id": "bb887f94-42a6-45d9-a837-141eba9e9094"
      },
      "source": [
        "# Visualization"
      ]
    },
    {
      "cell_type": "markdown",
      "id": "997dfa02-10c4-455b-9448-377779abf8ba",
      "metadata": {
        "jp-MarkdownHeadingCollapsed": true,
        "id": "997dfa02-10c4-455b-9448-377779abf8ba"
      },
      "source": [
        "## Full display of Spectra with Uncertainty and TargetID"
      ]
    },
    {
      "cell_type": "code",
      "execution_count": null,
      "id": "a688ce89-b604-40b1-a27d-2951c9f3b35c",
      "metadata": {
        "tags": [],
        "id": "a688ce89-b604-40b1-a27d-2951c9f3b35c",
        "outputId": "a0e5fc1a-ee8a-441a-a3bd-ca767fe80e65"
      },
      "outputs": [
        {
          "name": "stderr",
          "output_type": "stream",
          "text": [
            "<>:10: SyntaxWarning: invalid escape sequence '\\o'\n",
            "<>:26: SyntaxWarning: invalid escape sequence '\\A'\n",
            "<>:29: SyntaxWarning: invalid escape sequence '\\l'\n",
            "<>:30: SyntaxWarning: invalid escape sequence '\\l'\n",
            "<>:10: SyntaxWarning: invalid escape sequence '\\o'\n",
            "<>:26: SyntaxWarning: invalid escape sequence '\\A'\n",
            "<>:29: SyntaxWarning: invalid escape sequence '\\l'\n",
            "<>:30: SyntaxWarning: invalid escape sequence '\\l'\n",
            "C:\\Users\\eunieverse\\AppData\\Local\\Temp\\ipykernel_20032\\2896738295.py:10: SyntaxWarning: invalid escape sequence '\\o'\n",
            "  identifier = \"log[M$_*$/M$_\\odot$]\"\n",
            "C:\\Users\\eunieverse\\AppData\\Local\\Temp\\ipykernel_20032\\2896738295.py:26: SyntaxWarning: invalid escape sequence '\\A'\n",
            "  plt.axvline(HI, ymin=0.2, ymax=0.8, color=\"dodgerblue\", ls=\"dashed\", alpha=0.7, label=\"$H_{\\\\alpha}$ (6564 $\\AA$)\")\n",
            "C:\\Users\\eunieverse\\AppData\\Local\\Temp\\ipykernel_20032\\2896738295.py:29: SyntaxWarning: invalid escape sequence '\\l'\n",
            "  plt.xlabel(\"$\\lambda$ [$\\AA$]\", fontsize=15)\n",
            "C:\\Users\\eunieverse\\AppData\\Local\\Temp\\ipykernel_20032\\2896738295.py:30: SyntaxWarning: invalid escape sequence '\\l'\n",
            "  plt.ylabel(\"$F_{\\lambda}$ [$10^{-17} erg\\ s^{-1}\\ cm^{-2}\\ \\AA^{-1}$]\", fontsize=15)\n"
          ]
        }
      ],
      "source": [
        "def visualize_specID(wavelength, flux, uncertainty, model, targetid, mass=None, z=None):\n",
        "    # Sampling of the galaxies may be done by stellar mass or redshift,\n",
        "    # hence the mass and z in the argument\n",
        "\n",
        "    if z != None:\n",
        "        identifier = \"z\"\n",
        "        identifier_value = np.round(z,2)\n",
        "        filename = \"z\"\n",
        "    else:\n",
        "        identifier = \"log[M$_*$/M$_\\odot$]\"\n",
        "        identifier_value = np.round(mass,2)\n",
        "        filename = \"mass\"\n",
        "\n",
        "    plt.figure(figsize=(15,6))\n",
        "\n",
        "    # Plotting the uncertainty\n",
        "    plt.fill_between(wavelength, flux - uncertainty, flux + uncertainty, color=\"lightpink\", alpha=0.7)\n",
        "\n",
        "    # Plotting the spectra\n",
        "    plt.plot(wavelength, flux, color=\"mediumvioletred\")\n",
        "\n",
        "    # Overplotting the model spectra\n",
        "    plt.plot(wavelength, model, color=\"k\", label=\"Model Fit\", lw=2.0, alpha=0.7)\n",
        "\n",
        "    plt.title(f\"TARGETID = {targetid} ({identifier} = {identifier_value})\", fontsize=25)\n",
        "    plt.axvline(HI, ymin=0.2, ymax=0.8, color=\"dodgerblue\", ls=\"dashed\", alpha=0.7, label=\"$H_{\\\\alpha}$ (6564 $\\AA$)\")\n",
        "\n",
        "    #plt.xlim(min(wavelength)-100, max(wavelength)+100)\n",
        "    plt.xlabel(\"$\\lambda$ [$\\AA$]\", fontsize=15)\n",
        "    plt.ylabel(\"$F_{\\lambda}$ [$10^{-17} erg\\ s^{-1}\\ cm^{-2}\\ \\AA^{-1}$]\", fontsize=15)\n",
        "    plt.grid(True)\n",
        "\n",
        "    plt.legend(fontsize=15)\n",
        "    plt.savefig(f\"{figures}/Retrieved Spectra/ver2 {filename} {identifier_value}.png\", facecolor=\"white\")\n",
        "    plt.show()\n",
        ""
      ]
    },
    {
      "cell_type": "markdown",
      "id": "5417d0a4-923f-41bc-9fd1-e32ae03eff94",
      "metadata": {
        "jp-MarkdownHeadingCollapsed": true,
        "id": "5417d0a4-923f-41bc-9fd1-e32ae03eff94"
      },
      "source": [
        "## Zoomed in display"
      ]
    },
    {
      "cell_type": "markdown",
      "id": "b66626dd-1dd2-495f-8109-84da2ae67c04",
      "metadata": {
        "id": "b66626dd-1dd2-495f-8109-84da2ae67c04"
      },
      "source": [
        "This plots a zoomed in display of the spectra (in the H-alpha neighborhood) along with the uncertainties."
      ]
    },
    {
      "cell_type": "code",
      "execution_count": null,
      "id": "489ee6b1-f20c-4792-b930-10bfe0f46910",
      "metadata": {
        "tags": [],
        "id": "489ee6b1-f20c-4792-b930-10bfe0f46910",
        "outputId": "2e9a99af-544c-4b69-f78f-75b7d81772ad"
      },
      "outputs": [
        {
          "name": "stderr",
          "output_type": "stream",
          "text": [
            "<>:6: SyntaxWarning: invalid escape sequence '\\A'\n",
            "<>:10: SyntaxWarning: invalid escape sequence '\\l'\n",
            "<>:11: SyntaxWarning: invalid escape sequence '\\l'\n",
            "<>:6: SyntaxWarning: invalid escape sequence '\\A'\n",
            "<>:10: SyntaxWarning: invalid escape sequence '\\l'\n",
            "<>:11: SyntaxWarning: invalid escape sequence '\\l'\n",
            "C:\\Users\\eunieverse\\AppData\\Local\\Temp\\ipykernel_20032\\3307622740.py:6: SyntaxWarning: invalid escape sequence '\\A'\n",
            "  plt.axvline(6564, color = \"dodgerblue\", linestyle = \"dashed\", alpha = 0.7, label=\"$H_{\\\\alpha}$ (6564 $\\AA$)\")\n",
            "C:\\Users\\eunieverse\\AppData\\Local\\Temp\\ipykernel_20032\\3307622740.py:10: SyntaxWarning: invalid escape sequence '\\l'\n",
            "  plt.xlabel(\"$\\lambda$ [$\\AA$]\", fontsize=15)\n",
            "C:\\Users\\eunieverse\\AppData\\Local\\Temp\\ipykernel_20032\\3307622740.py:11: SyntaxWarning: invalid escape sequence '\\l'\n",
            "  plt.ylabel(\"$F_{\\lambda}$ [$10^{-17} erg\\ s^{-1}\\ cm^{-2}\\ \\AA^{-1}$]\", fontsize=15)\n"
          ]
        }
      ],
      "source": [
        "def visualize_zoomed(spectrum):\n",
        "    plt.figure(figsize = (12,5))\n",
        "\n",
        "    # Plotting the spectra\n",
        "    plt.plot(spectrum.spectral_axis, spectrum.flux, color=\"mediumvioletred\")\n",
        "    plt.axvline(6564, color = \"dodgerblue\", linestyle = \"dashed\", alpha = 0.7, label=\"$H_{\\\\alpha}$ (6564 $\\AA$)\")\n",
        "    plt.axvspan(HI - X, HI + X, color = \"orange\", alpha = 0.2)\n",
        "    plt.title(f\"Galaxy [{ii}] Spectrum\", fontsize=25)\n",
        "\n",
        "    plt.xlabel(\"$\\lambda$ [$\\AA$]\", fontsize=15)\n",
        "    plt.ylabel(\"$F_{\\lambda}$ [$10^{-17} erg\\ s^{-1}\\ cm^{-2}\\ \\AA^{-1}$]\", fontsize=15)\n",
        "    plt.grid(True)\n",
        "    plt.legend(fontsize = 15)\n",
        "\n",
        "    plt.savefig(f\"{figures}/Zoomed Regions/ver2 Zoomed {ii}.png\", facecolor=\"white\")\n",
        "    plt.show()"
      ]
    },
    {
      "cell_type": "markdown",
      "id": "d8c98bf5-5f87-4daa-afe6-a58ea2b41aab",
      "metadata": {
        "jp-MarkdownHeadingCollapsed": true,
        "id": "d8c98bf5-5f87-4daa-afe6-a58ea2b41aab"
      },
      "source": [
        "## H alpha region"
      ]
    },
    {
      "cell_type": "markdown",
      "id": "33c5c5e4-011d-456a-a80a-e32189b8120f",
      "metadata": {
        "id": "33c5c5e4-011d-456a-a80a-e32189b8120f"
      },
      "source": [
        "Spectrum must already be continuum-subtracted."
      ]
    },
    {
      "cell_type": "code",
      "execution_count": null,
      "id": "c92d9bf0-3435-47a1-9f14-274977865ea9",
      "metadata": {
        "tags": [],
        "id": "c92d9bf0-3435-47a1-9f14-274977865ea9",
        "outputId": "1656df87-6a85-4c67-ec76-ff1d1a37f216"
      },
      "outputs": [
        {
          "name": "stderr",
          "output_type": "stream",
          "text": [
            "<>:10: SyntaxWarning: invalid escape sequence '\\A'\n",
            "<>:13: SyntaxWarning: invalid escape sequence '\\l'\n",
            "<>:14: SyntaxWarning: invalid escape sequence '\\l'\n",
            "<>:10: SyntaxWarning: invalid escape sequence '\\A'\n",
            "<>:13: SyntaxWarning: invalid escape sequence '\\l'\n",
            "<>:14: SyntaxWarning: invalid escape sequence '\\l'\n",
            "C:\\Users\\eunieverse\\AppData\\Local\\Temp\\ipykernel_20032\\3787335174.py:10: SyntaxWarning: invalid escape sequence '\\A'\n",
            "  plt.axvline(HI, color=\"dodgerblue\", ls=\"dashed\", alpha=0.7, label=\"$H_{\\\\alpha}$ (6564 $\\AA$)\")\n",
            "C:\\Users\\eunieverse\\AppData\\Local\\Temp\\ipykernel_20032\\3787335174.py:13: SyntaxWarning: invalid escape sequence '\\l'\n",
            "  plt.xlabel(\"$\\lambda$ [$\\AA$]\", fontsize=15)\n",
            "C:\\Users\\eunieverse\\AppData\\Local\\Temp\\ipykernel_20032\\3787335174.py:14: SyntaxWarning: invalid escape sequence '\\l'\n",
            "  plt.ylabel(\"$F_{\\lambda}$ [$10^{-17} erg\\ s^{-1}\\ cm^{-2}\\ \\AA^{-1}$]\", fontsize=15)\n"
          ]
        }
      ],
      "source": [
        "def visualize_HI(spectrum):\n",
        "    wavelength = spectrum.spectral_axis\n",
        "    flux = spectrum.flux\n",
        "\n",
        "    plt.figure(figsize = (12,6))\n",
        "\n",
        "    # Plotting the spectra\n",
        "    plt.scatter(wavelength, flux, s=30, color=\"darkviolet\")\n",
        "    plt.plot(wavelength, flux, color=\"mediumvioletred\")\n",
        "    plt.axvline(HI, color=\"dodgerblue\", ls=\"dashed\", alpha=0.7, label=\"$H_{\\\\alpha}$ (6564 $\\AA$)\")\n",
        "    plt.title(f\"Galaxy [{ii}] $H_{{\\\\alpha}}$ region (Continuum-Subtracted)\", fontsize=25)\n",
        "\n",
        "    plt.xlabel(\"$\\lambda$ [$\\AA$]\", fontsize=15)\n",
        "    plt.ylabel(\"$F_{\\lambda}$ [$10^{-17} erg\\ s^{-1}\\ cm^{-2}\\ \\AA^{-1}$]\", fontsize=15)\n",
        "    plt.grid(True)\n",
        "    plt.legend(fontsize=15)\n",
        "    plt.show()"
      ]
    },
    {
      "cell_type": "markdown",
      "id": "4106e004-47af-4c6f-bbf6-d6ac8b4fed41",
      "metadata": {
        "execution": {
          "iopub.execute_input": "2024-04-07T08:10:59.631002Z",
          "iopub.status.busy": "2024-04-07T08:10:59.630625Z",
          "iopub.status.idle": "2024-04-07T08:10:59.635483Z",
          "shell.execute_reply": "2024-04-07T08:10:59.634599Z",
          "shell.execute_reply.started": "2024-04-07T08:10:59.630972Z"
        },
        "id": "4106e004-47af-4c6f-bbf6-d6ac8b4fed41"
      },
      "source": [
        "## H alpha with fit overlay (from fitting)"
      ]
    },
    {
      "cell_type": "code",
      "execution_count": null,
      "id": "e01106d0-0e94-476f-9e0e-acf3911581c4",
      "metadata": {
        "tags": [],
        "id": "e01106d0-0e94-476f-9e0e-acf3911581c4",
        "outputId": "6ca0e9a8-3c93-449a-846b-2cecdbbd9283"
      },
      "outputs": [
        {
          "name": "stderr",
          "output_type": "stream",
          "text": [
            "<>:7: SyntaxWarning: invalid escape sequence '\\o'\n",
            "<>:19: SyntaxWarning: invalid escape sequence '\\c'\n",
            "<>:21: SyntaxWarning: invalid escape sequence '\\A'\n",
            "<>:24: SyntaxWarning: invalid escape sequence '\\l'\n",
            "<>:25: SyntaxWarning: invalid escape sequence '\\l'\n",
            "<>:7: SyntaxWarning: invalid escape sequence '\\o'\n",
            "<>:19: SyntaxWarning: invalid escape sequence '\\c'\n",
            "<>:21: SyntaxWarning: invalid escape sequence '\\A'\n",
            "<>:24: SyntaxWarning: invalid escape sequence '\\l'\n",
            "<>:25: SyntaxWarning: invalid escape sequence '\\l'\n",
            "C:\\Users\\eunieverse\\AppData\\Local\\Temp\\ipykernel_20032\\2812311064.py:7: SyntaxWarning: invalid escape sequence '\\o'\n",
            "  identifier = \"log[M$_*$/M$_\\odot$]\"\n",
            "C:\\Users\\eunieverse\\AppData\\Local\\Temp\\ipykernel_20032\\2812311064.py:19: SyntaxWarning: invalid escape sequence '\\c'\n",
            "  plt.plot(x, fit, color=\"orange\", label=f\"Fit Result ($\\chi^2=${np.round(r_chi2,2)})\")\n",
            "C:\\Users\\eunieverse\\AppData\\Local\\Temp\\ipykernel_20032\\2812311064.py:21: SyntaxWarning: invalid escape sequence '\\A'\n",
            "  plt.axvline(HI, color=\"dodgerblue\", linestyle = \"dashed\", alpha=0.7, label=\"$H_{\\\\alpha}$ (6564 $\\AA$)\")\n",
            "C:\\Users\\eunieverse\\AppData\\Local\\Temp\\ipykernel_20032\\2812311064.py:24: SyntaxWarning: invalid escape sequence '\\l'\n",
            "  plt.xlabel(\"$\\lambda$ [$\\AA$]\", fontsize=15)\n",
            "C:\\Users\\eunieverse\\AppData\\Local\\Temp\\ipykernel_20032\\2812311064.py:25: SyntaxWarning: invalid escape sequence '\\l'\n",
            "  plt.ylabel(\"$F_{\\lambda}$ [$10^{-17} erg\\ s^{-1}\\ cm^{-2}\\ \\AA^{-1}$]\", fontsize=15)\n"
          ]
        }
      ],
      "source": [
        "def visualize_overlay_fit(spectrum, fit, targetid, r_chi2, mass=None, z=None):\n",
        "    if z != None:\n",
        "        identifier = \"z\"\n",
        "        identifier_value = np.round(z,2)\n",
        "        filename = \"z\"\n",
        "    else:\n",
        "        identifier = \"log[M$_*$/M$_\\odot$]\"\n",
        "        identifier_value = np.round(mass,2)\n",
        "        filename = \"mass\"\n",
        "\n",
        "    wavelength = spectrum.spectral_axis\n",
        "    flux = spectrum.flux\n",
        "\n",
        "    plt.figure(figsize=(12,6))\n",
        "\n",
        "    plt.plot(wavelength, flux, color=\"mediumvioletred\", alpha=0.5, label=\"Original Spectrum\")\n",
        "\n",
        "    # Fit Overlay\n",
        "    plt.plot(x, fit, color=\"orange\", label=f\"Fit Result ($\\chi^2=${np.round(r_chi2,2)})\")\n",
        "    plt.scatter(wavelength, flux, s=30, color=\"darkviolet\")\n",
        "    plt.axvline(HI, color=\"dodgerblue\", linestyle = \"dashed\", alpha=0.7, label=\"$H_{\\\\alpha}$ (6564 $\\AA$)\")\n",
        "    plt.title(f\"TARGETID = {targetid} ({identifier} = {identifier_value})\", fontsize=25)\n",
        "\n",
        "    plt.xlabel(\"$\\lambda$ [$\\AA$]\", fontsize=15)\n",
        "    plt.ylabel(\"$F_{\\lambda}$ [$10^{-17} erg\\ s^{-1}\\ cm^{-2}\\ \\AA^{-1}$]\", fontsize=15)\n",
        "    plt.grid(True)\n",
        "    plt.legend(fontsize = 15)\n",
        "\n",
        "    plt.savefig(f\"{figures}/Fitted Spectra/ver2 Fit {filename} {identifier_value}.png\", facecolor=\"white\")\n",
        "    plt.show()"
      ]
    },
    {
      "cell_type": "raw",
      "id": "b8235a14-1bc0-464e-9651-cd31b51ba8f5",
      "metadata": {
        "execution": {
          "iopub.execute_input": "2024-04-08T07:10:41.217792Z",
          "iopub.status.busy": "2024-04-08T07:10:41.217117Z",
          "iopub.status.idle": "2024-04-08T07:10:41.222277Z",
          "shell.execute_reply": "2024-04-08T07:10:41.221121Z",
          "shell.execute_reply.started": "2024-04-08T07:10:41.217742Z"
        },
        "id": "b8235a14-1bc0-464e-9651-cd31b51ba8f5"
      },
      "source": [
        "## H alpha with continuum overlay"
      ]
    },
    {
      "cell_type": "code",
      "execution_count": null,
      "id": "52c7c594-5236-4634-af3b-1d1381a9f518",
      "metadata": {
        "tags": [],
        "id": "52c7c594-5236-4634-af3b-1d1381a9f518",
        "outputId": "1392ec1b-6c48-4c0b-c973-3c975a0151b0"
      },
      "outputs": [
        {
          "name": "stderr",
          "output_type": "stream",
          "text": [
            "<>:7: SyntaxWarning: invalid escape sequence '\\A'\n",
            "<>:11: SyntaxWarning: invalid escape sequence '\\l'\n",
            "<>:12: SyntaxWarning: invalid escape sequence '\\l'\n",
            "<>:7: SyntaxWarning: invalid escape sequence '\\A'\n",
            "<>:11: SyntaxWarning: invalid escape sequence '\\l'\n",
            "<>:12: SyntaxWarning: invalid escape sequence '\\l'\n",
            "C:\\Users\\eunieverse\\AppData\\Local\\Temp\\ipykernel_20032\\1250905632.py:7: SyntaxWarning: invalid escape sequence '\\A'\n",
            "  plt.axvline(HI, color=\"dodgerblue\", linestyle = \"dashed\", alpha=0.7, label=\"$H_{\\\\alpha}$ (6564 $\\AA$)\")\n",
            "C:\\Users\\eunieverse\\AppData\\Local\\Temp\\ipykernel_20032\\1250905632.py:11: SyntaxWarning: invalid escape sequence '\\l'\n",
            "  plt.xlabel(\"$\\lambda$ [$\\AA$]\", fontsize=15)\n",
            "C:\\Users\\eunieverse\\AppData\\Local\\Temp\\ipykernel_20032\\1250905632.py:12: SyntaxWarning: invalid escape sequence '\\l'\n",
            "  plt.ylabel(\"$F_{\\lambda}$ [$10^{-17} erg\\ s^{-1}\\ cm^{-2}\\ \\AA^{-1}$]\", fontsize=15)\n"
          ]
        }
      ],
      "source": [
        "def visualize_overlay_continuum(spectrum, overlay):\n",
        "    plt.figure(figsize=(12,6))\n",
        "    plt.plot(spectrum.spectral_axis, spectrum.flux, color=\"mediumvioletred\", alpha=0.5, label=\"Original Spectrum\")\n",
        "\n",
        "    # Fit Overlay\n",
        "    plt.plot(spectrum.spectral_axis, overlay, color=\"orange\", label=\"Continuum\")\n",
        "    plt.axvline(HI, color=\"dodgerblue\", linestyle = \"dashed\", alpha=0.7, label=\"$H_{\\\\alpha}$ (6564 $\\AA$)\")\n",
        "    plt.title(f\"Galaxy [{ii}] Continuum in $H_{{\\\\alpha}}$ region\", fontsize=25)\n",
        "\n",
        "\n",
        "    plt.xlabel(\"$\\lambda$ [$\\AA$]\", fontsize=15)\n",
        "    plt.ylabel(\"$F_{\\lambda}$ [$10^{-17} erg\\ s^{-1}\\ cm^{-2}\\ \\AA^{-1}$]\", fontsize=15)\n",
        "    plt.grid(True)\n",
        "    plt.legend(fontsize = 15)\n",
        "\n",
        "    plt.savefig(f\"{figures}/Continuum/ver2 Model Fit Galaxy {ii}.png\", facecolor=\"white\")\n",
        "    plt.show()"
      ]
    },
    {
      "cell_type": "markdown",
      "id": "eb563a03-fcd0-43bf-aa9c-7133d46e3f09",
      "metadata": {
        "jp-MarkdownHeadingCollapsed": true,
        "id": "eb563a03-fcd0-43bf-aa9c-7133d46e3f09"
      },
      "source": [
        "# Extracting Spectral Regions"
      ]
    },
    {
      "cell_type": "code",
      "execution_count": null,
      "id": "5f5f4202-cbc4-419f-be51-a8f4c65be551",
      "metadata": {
        "tags": [],
        "id": "5f5f4202-cbc4-419f-be51-a8f4c65be551"
      },
      "outputs": [],
      "source": [
        "from specutils import Spectrum1D, SpectralRegion\n",
        "from specutils.manipulation import noise_region_uncertainty, extract_region"
      ]
    },
    {
      "cell_type": "markdown",
      "id": "78fbdc90-2799-4e1f-a66a-f01c147df49e",
      "metadata": {
        "id": "78fbdc90-2799-4e1f-a66a-f01c147df49e"
      },
      "source": [
        "This uses the uncertainty in flux as retrieved from SPARCL."
      ]
    },
    {
      "cell_type": "code",
      "execution_count": null,
      "id": "d27b8f50-c8e8-412f-86dd-549bbc76e787",
      "metadata": {
        "tags": [],
        "id": "d27b8f50-c8e8-412f-86dd-549bbc76e787"
      },
      "outputs": [],
      "source": [
        "def spectral_region(wavelength, flux, uncertainty, region=\"full\"):\n",
        "    # uncertainty will use the unit defined in the flux if none is given\n",
        "    spectrum = Spectrum1D(flux = flux * 10**-17 * u.Unit('erg cm-2 s-1 AA-1'), spectral_axis = wavelength * u.AA, uncertainty = uncertainty)\n",
        "\n",
        "    if region == \"H-alpha\":\n",
        "        region = SpectralRegion((HI - X) * u.AA,  (HI + X) * u.AA)\n",
        "        spectrum = extract_region(spectrum, region)\n",
        "    elif region == \"zoomed\":\n",
        "        region = SpectralRegion(6500 * u.AA, 6600 * u.AA)\n",
        "        spectrum = extract_region(spectrum, region)\n",
        "    else: # region == \"full\"\n",
        "        return spectrum\n",
        "\n",
        "    return spectrum"
      ]
    },
    {
      "cell_type": "markdown",
      "id": "681fdc3d-5f1f-4721-9e75-a3232a3453bb",
      "metadata": {
        "jp-MarkdownHeadingCollapsed": true,
        "id": "681fdc3d-5f1f-4721-9e75-a3232a3453bb"
      },
      "source": [
        "# Finding Emission Lines"
      ]
    },
    {
      "cell_type": "code",
      "execution_count": null,
      "id": "13d8c56f-c1fe-404e-8882-fb2003d3ac90",
      "metadata": {
        "tags": [],
        "id": "13d8c56f-c1fe-404e-8882-fb2003d3ac90"
      },
      "outputs": [],
      "source": [
        "from specutils.fitting import find_lines_threshold"
      ]
    },
    {
      "cell_type": "code",
      "execution_count": null,
      "id": "4d8c6f48-23ca-4e74-9fda-3ee9c274e7b1",
      "metadata": {
        "tags": [],
        "id": "4d8c6f48-23ca-4e74-9fda-3ee9c274e7b1"
      },
      "outputs": [],
      "source": [
        "def find_emission_lines(subspectrum):\n",
        "    # find_lines_threshold method only works with continuum-subtracted spectra and the uncertainty must be defined on the spectrum.\n",
        "    lines = find_lines_threshold(subspectrum, noise_factor=1)\n",
        "    # print(f\"Galaxy [{ii}]\")\n",
        "\n",
        "    if len(lines) == 0:\n",
        "        nearest_emission = \"NULL\"\n",
        "        delta_lambda = \"NULL\"\n",
        "        emission_flag = 0\n",
        "    else:\n",
        "        # Filtering lines to emission lines only\n",
        "        emission_lines = lines[lines[\"line_type\"] == \"emission\"]\n",
        "        print(emission_lines)\n",
        "\n",
        "        if len(emission_lines) == 0:\n",
        "            nearest_emission = \"NULL\"\n",
        "            delta_lambda = \"NULL\"\n",
        "            emission_flag = 0\n",
        "        else:\n",
        "            # Storing the differences between H-alpha and emission lines\n",
        "            differences = [np.abs((HI * u.AA) - emission_lines[\"line_center\"][j]) for j in range(len(emission_lines))]\n",
        "            # Storing the difference between H-alpha and the nearest emission line\n",
        "            # (minimum) delta_lambda\n",
        "            delta_lambda = min(differences)\n",
        "            # Getting the corresponding wavelength of the nearest emission line\n",
        "            nearest_emission = emission_lines[\"line_center\"][np.argmin(delta_lambda)]\n",
        "\n",
        "            # Emission line detected\n",
        "            if delta_lambda <= 2 * u.AA:\n",
        "                emission_flag = 1\n",
        "            else:\n",
        "                emission_flag = 2\n",
        "\n",
        "    return nearest_emission, delta_lambda, emission_flag"
      ]
    },
    {
      "cell_type": "markdown",
      "id": "0447937c-be88-49c4-8d42-8f3fa45761f4",
      "metadata": {
        "id": "0447937c-be88-49c4-8d42-8f3fa45761f4"
      },
      "source": [
        "Fitting using Specutils"
      ]
    },
    {
      "cell_type": "markdown",
      "id": "8f9af3c0-f326-4f3e-947d-3eed514466f0",
      "metadata": {
        "jp-MarkdownHeadingCollapsed": true,
        "id": "8f9af3c0-f326-4f3e-947d-3eed514466f0"
      },
      "source": [
        "# (Ver 2) Fitting"
      ]
    },
    {
      "cell_type": "code",
      "execution_count": null,
      "id": "2a7f8836-0221-4505-96a2-a68a4ee8be6e",
      "metadata": {
        "id": "2a7f8836-0221-4505-96a2-a68a4ee8be6e"
      },
      "outputs": [],
      "source": [
        "x = np.linspace((HI - X) * u.AA, (HI + X) * u.AA, 100)"
      ]
    },
    {
      "cell_type": "code",
      "execution_count": null,
      "id": "2c9c1de4-3dcb-4367-b882-3624a1eac8be",
      "metadata": {
        "tags": [],
        "id": "2c9c1de4-3dcb-4367-b882-3624a1eac8be"
      },
      "outputs": [],
      "source": [
        "def fit_spec(spectrum):\n",
        "    amp = max(spectrum.flux)\n",
        "    std = 1 * u.AA\n",
        "    H_alpha =  6564.61 * u.AA\n",
        "\n",
        "    # Gaussian Model\n",
        "    gaussian = models.Gaussian1D(amplitude = amp, mean = H_alpha, stddev = std)\n",
        "    # Box Model\n",
        "    box = models.Box1D(amplitude = 0, x_0 = H_alpha, width = 2 * X * u.AA, fixed = {\"x_0\":True, \"width\":True})\n",
        "\n",
        "    model_fit = fit_lines(spectrum, gaussian + box)\n",
        "    # To create a more gaussian-like form of the fit, fit to x with more datapoints\n",
        "    y_fit_highres = model_fit(x)\n",
        "    # For chi2 evaluation, we use the original resolution\n",
        "    y_fit_origres = model_fit(spectrum.spectral_axis)\n",
        "\n",
        "    return y_fit_highres, y_fit_origres, model_fit"
      ]
    },
    {
      "cell_type": "markdown",
      "id": "e2e50d18-ead6-49a3-bad8-9cb430242eb7",
      "metadata": {
        "jp-MarkdownHeadingCollapsed": true,
        "id": "e2e50d18-ead6-49a3-bad8-9cb430242eb7"
      },
      "source": [
        "# Get Chi2"
      ]
    },
    {
      "cell_type": "markdown",
      "id": "5fcaacf7-de77-4e1a-b980-d64a6abfeebc",
      "metadata": {
        "id": "5fcaacf7-de77-4e1a-b980-d64a6abfeebc"
      },
      "source": [
        "This function calculates the reduced chi2 of the model."
      ]
    },
    {
      "cell_type": "markdown",
      "id": "f9ea9c8f-0952-4438-aa94-8a5a3288e499",
      "metadata": {
        "id": "f9ea9c8f-0952-4438-aa94-8a5a3288e499"
      },
      "source": [
        "$$\\text{reduced chi2} = \\frac{X^2}{dof} $$ \\\n",
        "$$\\text{dof} = \\text{no. of datapoints} - k$$\n",
        "where $k$ is the number of free parameters.\n",
        "\n",
        "$$X^2 = \\sum(\\frac{(\\text{model} - \\text{data})^2}{\\sigma^2})$$\n",
        "where $\\sigma$ is the standard deviation."
      ]
    },
    {
      "cell_type": "code",
      "execution_count": null,
      "id": "cdfd5309-15ef-4c26-a0e2-de70df8f7727",
      "metadata": {
        "tags": [],
        "id": "cdfd5309-15ef-4c26-a0e2-de70df8f7727"
      },
      "outputs": [],
      "source": [
        "def get_chi2(model, HI_spec, std_HI):\n",
        "    chi2 = np.sum(((model - HI_spec.flux)**2)/(std_HI**2))\n",
        "\n",
        "    # k -- number of free parameters (amp, std, mean, continuum level)\n",
        "    k = 4\n",
        "\n",
        "    # degrees of freedom\n",
        "    dof = len(HI_spec.flux) - k\n",
        "    reduced_chi2 = chi2/dof\n",
        "\n",
        "    return reduced_chi2"
      ]
    },
    {
      "cell_type": "markdown",
      "id": "0f7146f3-995f-4906-9341-b0fdc990ee09",
      "metadata": {
        "id": "0f7146f3-995f-4906-9341-b0fdc990ee09"
      },
      "source": [
        "# Trapezoidal Rule"
      ]
    },
    {
      "cell_type": "markdown",
      "id": "0d78c9c3-cd32-4d43-91f4-4f135df8a345",
      "metadata": {
        "id": "0d78c9c3-cd32-4d43-91f4-4f135df8a345"
      },
      "source": [
        "$$I(a,b) \\approx \\Delta x\\, (\\frac{1}{2}(f(a) + f(b)) + \\sum_{i=1}^{N-1}(f(a+(i\\Delta x)))$$\n",
        "\n",
        "where a, b are the endpoints, N is the number of slices and\n",
        "$\\Delta x = (b-a)/N$.\n",
        "This is used to compute the integrated flux of the original spectrum data."
      ]
    },
    {
      "cell_type": "code",
      "execution_count": null,
      "id": "5f6623cf-1813-44ef-b13e-3774d478ca9b",
      "metadata": {
        "tags": [],
        "id": "5f6623cf-1813-44ef-b13e-3774d478ca9b"
      },
      "outputs": [],
      "source": [
        "def trapezoidal_rule(spectrum, continuum):\n",
        "    wavelength = spectrum.spectral_axis / u.AA\n",
        "    flux = (spectrum.flux / u.Unit('erg cm-2 s-1 AA-1')) - continuum\n",
        "\n",
        "    delta = np.diff(wavelength)[0]\n",
        "    n = len(wavelength) - 1 # number of slices\n",
        "\n",
        "    total = 0\n",
        "    for lam in range(1,n):\n",
        "        total += flux[lam]\n",
        "    I = delta * (0.5 * (flux[0] + flux[-1]) + total)\n",
        "\n",
        "    return I"
      ]
    },
    {
      "cell_type": "markdown",
      "id": "2fa2ca9f-7854-46d6-a65b-84584a403b98",
      "metadata": {
        "jp-MarkdownHeadingCollapsed": true,
        "id": "2fa2ca9f-7854-46d6-a65b-84584a403b98"
      },
      "source": [
        "# Area under Gaussian Curve"
      ]
    },
    {
      "cell_type": "markdown",
      "id": "9cbd5397-6f26-4f3d-b4be-d71a82fe6e8a",
      "metadata": {
        "id": "9cbd5397-6f26-4f3d-b4be-d71a82fe6e8a"
      },
      "source": [
        "$$Area = A \\sigma \\sqrt{2\\pi}$$\n",
        "where A is the amplitude and $\\sigma$ is the standard deviation."
      ]
    },
    {
      "cell_type": "code",
      "execution_count": null,
      "id": "1af7888b-7d02-4bda-b882-61ec3ca792bf",
      "metadata": {
        "tags": [],
        "id": "1af7888b-7d02-4bda-b882-61ec3ca792bf"
      },
      "outputs": [],
      "source": [
        "def area_gaussian(amp, stddev):\n",
        "    return amp * stddev * np.sqrt(2 * np.pi)"
      ]
    },
    {
      "cell_type": "markdown",
      "id": "30b34012-bf8a-472e-97f7-8b430b5b8d8b",
      "metadata": {
        "jp-MarkdownHeadingCollapsed": true,
        "id": "30b34012-bf8a-472e-97f7-8b430b5b8d8b"
      },
      "source": [
        "# Filter: emission_flag != 0"
      ]
    },
    {
      "cell_type": "code",
      "execution_count": null,
      "id": "65cfe019-de9f-4661-818f-8e105e004bb5",
      "metadata": {
        "id": "65cfe019-de9f-4661-818f-8e105e004bb5",
        "outputId": "00d5c2dc-a2b2-4e43-db12-b37625bf698f"
      },
      "outputs": [
        {
          "ename": "NameError",
          "evalue": "name 'df_desi' is not defined",
          "output_type": "error",
          "traceback": [
            "\u001b[1;31m---------------------------------------------------------------------------\u001b[0m",
            "\u001b[1;31mNameError\u001b[0m                                 Traceback (most recent call last)",
            "Cell \u001b[1;32mIn[211], line 1\u001b[0m\n\u001b[1;32m----> 1\u001b[0m \u001b[43mdf_desi\u001b[49m[df_desi[\u001b[38;5;124m\"\u001b[39m\u001b[38;5;124memission_flag\u001b[39m\u001b[38;5;124m\"\u001b[39m] \u001b[38;5;241m==\u001b[39m \u001b[38;5;241m2\u001b[39m]\n",
            "\u001b[1;31mNameError\u001b[0m: name 'df_desi' is not defined"
          ]
        }
      ],
      "source": [
        "df_desi[df_desi[\"emission_flag\"] == 2]"
      ]
    },
    {
      "cell_type": "code",
      "execution_count": null,
      "id": "35f5a8c1-5372-48f1-8ddb-d0fbc88ac203",
      "metadata": {
        "tags": [],
        "id": "35f5a8c1-5372-48f1-8ddb-d0fbc88ac203",
        "outputId": "a2d24b14-6f40-4cdb-bb93-f005d6586e29"
      },
      "outputs": [
        {
          "ename": "NameError",
          "evalue": "name 'df_desi' is not defined",
          "output_type": "error",
          "traceback": [
            "\u001b[1;31m---------------------------------------------------------------------------\u001b[0m",
            "\u001b[1;31mNameError\u001b[0m                                 Traceback (most recent call last)",
            "Cell \u001b[1;32mIn[213], line 1\u001b[0m\n\u001b[1;32m----> 1\u001b[0m filter_emissions \u001b[38;5;241m=\u001b[39m \u001b[43mdf_desi\u001b[49m[\u001b[38;5;124m\"\u001b[39m\u001b[38;5;124memission_flag\u001b[39m\u001b[38;5;124m\"\u001b[39m] \u001b[38;5;241m!=\u001b[39m \u001b[38;5;241m0\u001b[39m\n\u001b[0;32m      2\u001b[0m df_desi \u001b[38;5;241m=\u001b[39m df_desi[filter_emissions]\n",
            "\u001b[1;31mNameError\u001b[0m: name 'df_desi' is not defined"
          ]
        }
      ],
      "source": [
        "filter_emissions = df_desi[\"emission_flag\"] != 0\n",
        "df_desi = df_desi[filter_emissions]"
      ]
    },
    {
      "cell_type": "code",
      "execution_count": null,
      "id": "40437339-8b0d-4106-afb7-e5f6b2659d2d",
      "metadata": {
        "id": "40437339-8b0d-4106-afb7-e5f6b2659d2d",
        "outputId": "56f478ca-642c-4ed0-f85e-56d552718aeb"
      },
      "outputs": [
        {
          "ename": "NameError",
          "evalue": "name 'df_desi' is not defined",
          "output_type": "error",
          "traceback": [
            "\u001b[1;31m---------------------------------------------------------------------------\u001b[0m",
            "\u001b[1;31mNameError\u001b[0m                                 Traceback (most recent call last)",
            "Cell \u001b[1;32mIn[215], line 1\u001b[0m\n\u001b[1;32m----> 1\u001b[0m \u001b[38;5;28mlen\u001b[39m(\u001b[43mdf_desi\u001b[49m)\n",
            "\u001b[1;31mNameError\u001b[0m: name 'df_desi' is not defined"
          ]
        }
      ],
      "source": [
        "len(df_desi)"
      ]
    },
    {
      "cell_type": "markdown",
      "id": "01a5fd02-655d-4ec4-8f1d-9282a595b81c",
      "metadata": {
        "jp-MarkdownHeadingCollapsed": true,
        "id": "01a5fd02-655d-4ec4-8f1d-9282a595b81c"
      },
      "source": [
        "# Sorting by Stellar Masses"
      ]
    },
    {
      "cell_type": "markdown",
      "id": "76208653-a3f9-4dc6-9caf-f8d659e0e0b8",
      "metadata": {
        "jp-MarkdownHeadingCollapsed": true,
        "id": "76208653-a3f9-4dc6-9caf-f8d659e0e0b8"
      },
      "source": [
        "## With detected emission at H-alpha"
      ]
    },
    {
      "cell_type": "code",
      "execution_count": null,
      "id": "380a0097-755d-4424-81ff-9df6a7b0eb93",
      "metadata": {
        "tags": [],
        "id": "380a0097-755d-4424-81ff-9df6a7b0eb93",
        "outputId": "290045ad-7a2c-467b-f47e-93507950cd0e"
      },
      "outputs": [
        {
          "name": "stderr",
          "output_type": "stream",
          "text": [
            "<>:5: SyntaxWarning: invalid escape sequence '\\o'\n",
            "<>:5: SyntaxWarning: invalid escape sequence '\\o'\n",
            "C:\\Users\\eunieverse\\AppData\\Local\\Temp\\ipykernel_20032\\1858977015.py:5: SyntaxWarning: invalid escape sequence '\\o'\n",
            "  plt.xlabel('log[M$_*$/M$_\\odot$]')\n"
          ]
        },
        {
          "ename": "NameError",
          "evalue": "name 'df_desi' is not defined",
          "output_type": "error",
          "traceback": [
            "\u001b[1;31m---------------------------------------------------------------------------\u001b[0m",
            "\u001b[1;31mNameError\u001b[0m                                 Traceback (most recent call last)",
            "Cell \u001b[1;32mIn[219], line 1\u001b[0m\n\u001b[1;32m----> 1\u001b[0m M_star \u001b[38;5;241m=\u001b[39m \u001b[43mdf_desi\u001b[49m[\u001b[38;5;124m'\u001b[39m\u001b[38;5;124mlog(M*/M)\u001b[39m\u001b[38;5;124m'\u001b[39m]\n\u001b[0;32m      2\u001b[0m plt\u001b[38;5;241m.\u001b[39mfigure(figsize\u001b[38;5;241m=\u001b[39m(\u001b[38;5;241m8\u001b[39m,\u001b[38;5;241m6\u001b[39m))\n\u001b[0;32m      3\u001b[0m plt\u001b[38;5;241m.\u001b[39mhist(M_star, bins\u001b[38;5;241m=\u001b[39m\u001b[38;5;241m20\u001b[39m, color\u001b[38;5;241m=\u001b[39m\u001b[38;5;124m'\u001b[39m\u001b[38;5;124mskyblue\u001b[39m\u001b[38;5;124m'\u001b[39m, edgecolor\u001b[38;5;241m=\u001b[39m\u001b[38;5;124m'\u001b[39m\u001b[38;5;124mblack\u001b[39m\u001b[38;5;124m'\u001b[39m)\n",
            "\u001b[1;31mNameError\u001b[0m: name 'df_desi' is not defined"
          ]
        }
      ],
      "source": [
        "M_star = df_desi['log(M*/M)']\n",
        "plt.figure(figsize=(8,6))\n",
        "plt.hist(M_star, bins=20, color='skyblue', edgecolor='black')\n",
        "\n",
        "plt.xlabel('log[M$_*$/M$_\\odot$]')\n",
        "plt.ylabel('# of targets')\n",
        "plt.title('Distribution of Stellar Masses')\n",
        "\n",
        "plt.show()"
      ]
    },
    {
      "cell_type": "markdown",
      "id": "1bc88238-5c5b-43bb-946e-8a61bcd68600",
      "metadata": {
        "id": "1bc88238-5c5b-43bb-946e-8a61bcd68600"
      },
      "source": [
        "Let the high-mass galaxies be those with $log\\frac{M_*}{M_\\odot}$ higher than 8, medium-mass galaxies with $log\\frac{M_*}{M_\\odot}$ values of 6-8, and low-mass galaxies be those with $log\\frac{M_*}{M_\\odot}$ less than 6."
      ]
    },
    {
      "cell_type": "markdown",
      "id": "559123b9-a12d-4ac6-991e-40f063b02f76",
      "metadata": {
        "id": "559123b9-a12d-4ac6-991e-40f063b02f76"
      },
      "source": [
        "## Filter: High-Mass Galaxies"
      ]
    },
    {
      "cell_type": "code",
      "execution_count": null,
      "id": "e445fd67-be37-4807-b8bf-6b65b5b4d493",
      "metadata": {
        "tags": [],
        "id": "e445fd67-be37-4807-b8bf-6b65b5b4d493",
        "outputId": "63b8dc44-08a7-40a6-86bd-3e4a9126585c"
      },
      "outputs": [
        {
          "ename": "NameError",
          "evalue": "name 'df_desi' is not defined",
          "output_type": "error",
          "traceback": [
            "\u001b[1;31m---------------------------------------------------------------------------\u001b[0m",
            "\u001b[1;31mNameError\u001b[0m                                 Traceback (most recent call last)",
            "Cell \u001b[1;32mIn[223], line 1\u001b[0m\n\u001b[1;32m----> 1\u001b[0m filter_high_mass \u001b[38;5;241m=\u001b[39m \u001b[43mdf_desi\u001b[49m[\u001b[38;5;124m'\u001b[39m\u001b[38;5;124mlog(M*/M)\u001b[39m\u001b[38;5;124m'\u001b[39m] \u001b[38;5;241m>\u001b[39m\u001b[38;5;241m=\u001b[39m \u001b[38;5;241m8\u001b[39m\n\u001b[0;32m      2\u001b[0m df_high_mass \u001b[38;5;241m=\u001b[39m df_desi[filter_high_mass]\u001b[38;5;241m.\u001b[39msort_values(\u001b[38;5;124m'\u001b[39m\u001b[38;5;124mlog(M*/M)\u001b[39m\u001b[38;5;124m'\u001b[39m, ascending\u001b[38;5;241m=\u001b[39m\u001b[38;5;28;01mFalse\u001b[39;00m)\n",
            "\u001b[1;31mNameError\u001b[0m: name 'df_desi' is not defined"
          ]
        }
      ],
      "source": [
        "filter_high_mass = df_desi['log(M*/M)'] >= 8\n",
        "df_high_mass = df_desi[filter_high_mass].sort_values('log(M*/M)', ascending=False)"
      ]
    },
    {
      "cell_type": "code",
      "execution_count": null,
      "id": "dc398766-fe4c-4519-a5f3-281a068a588d",
      "metadata": {
        "tags": [],
        "id": "dc398766-fe4c-4519-a5f3-281a068a588d",
        "outputId": "3f447197-1a41-4fbb-fd7d-344fe8326fc1"
      },
      "outputs": [
        {
          "ename": "NameError",
          "evalue": "name 'df_high_mass' is not defined",
          "output_type": "error",
          "traceback": [
            "\u001b[1;31m---------------------------------------------------------------------------\u001b[0m",
            "\u001b[1;31mNameError\u001b[0m                                 Traceback (most recent call last)",
            "Cell \u001b[1;32mIn[225], line 1\u001b[0m\n\u001b[1;32m----> 1\u001b[0m \u001b[38;5;28mlen\u001b[39m(\u001b[43mdf_high_mass\u001b[49m)\n",
            "\u001b[1;31mNameError\u001b[0m: name 'df_high_mass' is not defined"
          ]
        }
      ],
      "source": [
        "len(df_high_mass)"
      ]
    },
    {
      "cell_type": "markdown",
      "id": "15d4a73a-fd36-4480-b534-4f34d067ac1f",
      "metadata": {
        "id": "15d4a73a-fd36-4480-b534-4f34d067ac1f"
      },
      "source": [
        "## Filter: Medium-Mass Galaxies"
      ]
    },
    {
      "cell_type": "code",
      "execution_count": null,
      "id": "0d2ed30b-a59e-45a1-87e1-64fe3b227a8e",
      "metadata": {
        "tags": [],
        "id": "0d2ed30b-a59e-45a1-87e1-64fe3b227a8e",
        "outputId": "357ab0c8-95bd-410d-fb8b-412aaf0adb36"
      },
      "outputs": [
        {
          "ename": "NameError",
          "evalue": "name 'df_desi' is not defined",
          "output_type": "error",
          "traceback": [
            "\u001b[1;31m---------------------------------------------------------------------------\u001b[0m",
            "\u001b[1;31mNameError\u001b[0m                                 Traceback (most recent call last)",
            "Cell \u001b[1;32mIn[228], line 1\u001b[0m\n\u001b[1;32m----> 1\u001b[0m filter_medium_mass1 \u001b[38;5;241m=\u001b[39m \u001b[43mdf_desi\u001b[49m[\u001b[38;5;124m'\u001b[39m\u001b[38;5;124mlog(M*/M)\u001b[39m\u001b[38;5;124m'\u001b[39m] \u001b[38;5;241m>\u001b[39m\u001b[38;5;241m=\u001b[39m \u001b[38;5;241m6\u001b[39m\n\u001b[0;32m      2\u001b[0m filter_medium_mass2 \u001b[38;5;241m=\u001b[39m df_desi[\u001b[38;5;124m'\u001b[39m\u001b[38;5;124mlog(M*/M)\u001b[39m\u001b[38;5;124m'\u001b[39m] \u001b[38;5;241m<\u001b[39m \u001b[38;5;241m8\u001b[39m\n\u001b[0;32m      3\u001b[0m df_medium_mass \u001b[38;5;241m=\u001b[39m df_desi[filter_medium_mass1 \u001b[38;5;241m&\u001b[39m filter_medium_mass2]\u001b[38;5;241m.\u001b[39msort_values(\u001b[38;5;124m'\u001b[39m\u001b[38;5;124mlog(M*/M)\u001b[39m\u001b[38;5;124m'\u001b[39m, ascending\u001b[38;5;241m=\u001b[39m\u001b[38;5;28;01mFalse\u001b[39;00m)\n",
            "\u001b[1;31mNameError\u001b[0m: name 'df_desi' is not defined"
          ]
        }
      ],
      "source": [
        "filter_medium_mass1 = df_desi['log(M*/M)'] >= 6\n",
        "filter_medium_mass2 = df_desi['log(M*/M)'] < 8\n",
        "df_medium_mass = df_desi[filter_medium_mass1 & filter_medium_mass2].sort_values('log(M*/M)', ascending=False)"
      ]
    },
    {
      "cell_type": "code",
      "execution_count": null,
      "id": "0675356d-1977-4795-b3a6-53f4956bd643",
      "metadata": {
        "tags": [],
        "id": "0675356d-1977-4795-b3a6-53f4956bd643",
        "outputId": "d16f9d03-f4c2-4b5b-aa1f-1f3d0a55a6ae"
      },
      "outputs": [
        {
          "ename": "NameError",
          "evalue": "name 'df_medium_mass' is not defined",
          "output_type": "error",
          "traceback": [
            "\u001b[1;31m---------------------------------------------------------------------------\u001b[0m",
            "\u001b[1;31mNameError\u001b[0m                                 Traceback (most recent call last)",
            "Cell \u001b[1;32mIn[230], line 1\u001b[0m\n\u001b[1;32m----> 1\u001b[0m \u001b[38;5;28mlen\u001b[39m(\u001b[43mdf_medium_mass\u001b[49m)\n",
            "\u001b[1;31mNameError\u001b[0m: name 'df_medium_mass' is not defined"
          ]
        }
      ],
      "source": [
        "len(df_medium_mass)"
      ]
    },
    {
      "cell_type": "markdown",
      "id": "7a8483c9-054f-4710-ac1f-1b2bb3c55dec",
      "metadata": {
        "id": "7a8483c9-054f-4710-ac1f-1b2bb3c55dec"
      },
      "source": [
        "## Filter: Low-Mass Galaxies"
      ]
    },
    {
      "cell_type": "code",
      "execution_count": null,
      "id": "e557d82a-0fbf-4042-bade-530b35699126",
      "metadata": {
        "tags": [],
        "id": "e557d82a-0fbf-4042-bade-530b35699126",
        "outputId": "4e738f3e-93f9-474e-c68c-de5e6043dfb5"
      },
      "outputs": [
        {
          "ename": "NameError",
          "evalue": "name 'df_desi' is not defined",
          "output_type": "error",
          "traceback": [
            "\u001b[1;31m---------------------------------------------------------------------------\u001b[0m",
            "\u001b[1;31mNameError\u001b[0m                                 Traceback (most recent call last)",
            "Cell \u001b[1;32mIn[233], line 1\u001b[0m\n\u001b[1;32m----> 1\u001b[0m filter_low_mass \u001b[38;5;241m=\u001b[39m \u001b[43mdf_desi\u001b[49m[\u001b[38;5;124m'\u001b[39m\u001b[38;5;124mlog(M*/M)\u001b[39m\u001b[38;5;124m'\u001b[39m] \u001b[38;5;241m<\u001b[39m \u001b[38;5;241m6\u001b[39m\n\u001b[0;32m      2\u001b[0m df_low_mass \u001b[38;5;241m=\u001b[39m df_desi[filter_low_mass]\u001b[38;5;241m.\u001b[39msort_values(\u001b[38;5;124m'\u001b[39m\u001b[38;5;124mlog(M*/M)\u001b[39m\u001b[38;5;124m'\u001b[39m, ascending\u001b[38;5;241m=\u001b[39m\u001b[38;5;28;01mFalse\u001b[39;00m)\n",
            "\u001b[1;31mNameError\u001b[0m: name 'df_desi' is not defined"
          ]
        }
      ],
      "source": [
        "filter_low_mass = df_desi['log(M*/M)'] < 6\n",
        "df_low_mass = df_desi[filter_low_mass].sort_values('log(M*/M)', ascending=False)"
      ]
    },
    {
      "cell_type": "code",
      "execution_count": null,
      "id": "0e4c9b6d-a5a0-445b-8d50-3f9dd79b8f38",
      "metadata": {
        "tags": [],
        "id": "0e4c9b6d-a5a0-445b-8d50-3f9dd79b8f38",
        "outputId": "24a019d0-8866-4548-c585-0f217c5cac09"
      },
      "outputs": [
        {
          "ename": "NameError",
          "evalue": "name 'df_low_mass' is not defined",
          "output_type": "error",
          "traceback": [
            "\u001b[1;31m---------------------------------------------------------------------------\u001b[0m",
            "\u001b[1;31mNameError\u001b[0m                                 Traceback (most recent call last)",
            "Cell \u001b[1;32mIn[235], line 1\u001b[0m\n\u001b[1;32m----> 1\u001b[0m \u001b[38;5;28mlen\u001b[39m(\u001b[43mdf_low_mass\u001b[49m)\n",
            "\u001b[1;31mNameError\u001b[0m: name 'df_low_mass' is not defined"
          ]
        }
      ],
      "source": [
        "len(df_low_mass)"
      ]
    },
    {
      "cell_type": "markdown",
      "id": "5abb1d48-08e3-4550-822e-675b1de64a4e",
      "metadata": {
        "tags": [],
        "id": "5abb1d48-08e3-4550-822e-675b1de64a4e"
      },
      "source": [
        "# >> UNIT TEST: H-alpha Flux of High-Mass Galaxies"
      ]
    },
    {
      "cell_type": "markdown",
      "id": "4274dd6b-ae24-4898-bbed-804174a64f13",
      "metadata": {
        "id": "4274dd6b-ae24-4898-bbed-804174a64f13"
      },
      "source": [
        "At this point, we use the retreived uncertainty of the spectrum."
      ]
    },
    {
      "cell_type": "code",
      "execution_count": null,
      "id": "612bd447-9d80-4fa9-8077-d6c9790d0669",
      "metadata": {
        "tags": [],
        "id": "612bd447-9d80-4fa9-8077-d6c9790d0669"
      },
      "outputs": [],
      "source": [
        "import warnings\n",
        "warnings.filterwarnings(\"ignore\")"
      ]
    },
    {
      "cell_type": "code",
      "execution_count": null,
      "id": "05dd56be-6bf0-42f2-bf1e-f7ce3e0f25ee",
      "metadata": {
        "tags": [],
        "id": "05dd56be-6bf0-42f2-bf1e-f7ce3e0f25ee",
        "outputId": "407cb206-2502-4630-b009-eb797b74a495"
      },
      "outputs": [
        {
          "name": "stdout",
          "output_type": "stream",
          "text": [
            "Galaxy [0]\n"
          ]
        },
        {
          "ename": "NameError",
          "evalue": "name 'df_high_mass' is not defined",
          "output_type": "error",
          "traceback": [
            "\u001b[1;31m---------------------------------------------------------------------------\u001b[0m",
            "\u001b[1;31mNameError\u001b[0m                                 Traceback (most recent call last)",
            "Cell \u001b[1;32mIn[241], line 4\u001b[0m\n\u001b[0;32m      2\u001b[0m \u001b[38;5;28;01mfor\u001b[39;00m ii \u001b[38;5;129;01min\u001b[39;00m index:\n\u001b[0;32m      3\u001b[0m     \u001b[38;5;28mprint\u001b[39m(\u001b[38;5;124mf\u001b[39m\u001b[38;5;124m\"\u001b[39m\u001b[38;5;124mGalaxy [\u001b[39m\u001b[38;5;132;01m{\u001b[39;00mii\u001b[38;5;132;01m}\u001b[39;00m\u001b[38;5;124m]\u001b[39m\u001b[38;5;124m\"\u001b[39m)\n\u001b[1;32m----> 4\u001b[0m     targetid \u001b[38;5;241m=\u001b[39m \u001b[38;5;28mint\u001b[39m(\u001b[43mdf_high_mass\u001b[49m\u001b[38;5;241m.\u001b[39miloc[ii][\u001b[38;5;124m'\u001b[39m\u001b[38;5;124mtargetid\u001b[39m\u001b[38;5;124m'\u001b[39m])\n\u001b[0;32m      5\u001b[0m     wavelength, flux, model_flux, ivar, err, err_imp_max, err_imp_med \u001b[38;5;241m=\u001b[39m retrieve_spectra(targetid)\n\u001b[0;32m      7\u001b[0m     mass \u001b[38;5;241m=\u001b[39m df_high_mass\u001b[38;5;241m.\u001b[39miloc[ii][\u001b[38;5;124m'\u001b[39m\u001b[38;5;124mlog(M*/M)\u001b[39m\u001b[38;5;124m'\u001b[39m]\n",
            "\u001b[1;31mNameError\u001b[0m: name 'df_high_mass' is not defined"
          ]
        }
      ],
      "source": [
        "index = [0]\n",
        "for ii in index:\n",
        "    print(f\"Galaxy [{ii}]\")\n",
        "    targetid = int(df_high_mass.iloc[ii]['targetid'])\n",
        "    wavelength, flux, model_flux, ivar, err, err_imp_max, err_imp_med = retrieve_spectra(targetid)\n",
        "\n",
        "    mass = df_high_mass.iloc[ii]['log(M*/M)']\n",
        "    # Visualize the full spectra\n",
        "    visualize_specID(wavelength, flux, err, model_flux, targetid, mass=mass)\n",
        "\n",
        "    # Converting uncertainty into StdDevUncertainty to allow uncertainty propagation\n",
        "    # StdDevUncertainty should always be associated with an NDData-like instance\n",
        "    ndd = NDData(flux, uncertainty = StdDevUncertainty(err))\n",
        "    std = ndd.uncertainty\n",
        "\n",
        "    # Visualize Zoomed-in Region\n",
        "    zoomed_spec = spectral_region(wavelength, flux, std, region=\"zoomed\")\n",
        "    visualize_zoomed(zoomed_spec)\n",
        "\n",
        "    # H-alpha region\n",
        "    HI_spec = spectral_region(wavelength, flux, std, region=\"H-alpha\")\n",
        "\n",
        "    # Accessing the indices of the wavelength limits of H-alpha region\n",
        "    start_idx = np.where(wavelength == HI_spec.spectral_axis[0]/u.AA)[0][0]\n",
        "    end_idx = np.where(wavelength == HI_spec.spectral_axis[-1]/u.AA)[0][0]\n",
        "\n",
        "    # Fitting\n",
        "    yfit_highres, yfit_origres, model_fit = fit_spec(HI_spec)\n",
        "\n",
        "    # Storing the Fit Parameters\n",
        "    # 'amplitude_0', 'mean_0', 'stddev_0', 'amplitude_1', 'x_0_1', 'width_1'\n",
        "    amp_gauss = model_fit.parameters[0]\n",
        "    mean_gauss = model_fit.parameters[1]\n",
        "    std_gauss = model_fit.parameters[2]\n",
        "    amp_cont = model_fit.parameters[3]\n",
        "\n",
        "    # stds: 'amplitude_0', 'mean_0', 'stddev_0', 'amplitude_1'\n",
        "    amp_std_gauss = model_fit.stds.stds[0]\n",
        "    mean_std_gauss = model_fit.stds.stds[1]\n",
        "    std_std_gauss = model_fit.stds.stds[2]\n",
        "    amp_std_cont = model_fit.stds.stds[3]\n",
        "\n",
        "    # Integrated Flux must be continuum subtracted\n",
        "    integrated_flux = trapezoidal_rule(HI_spec, amp_cont)\n",
        "    print(f\"Integrated Flux: {integrated_flux}\")\n",
        "\n",
        "    # Truncating uncertainty_std to values from H-alpha region only\n",
        "    std_HI = std[start_idx : end_idx+1].array * 10**-17 * u.Unit('erg cm-2 s-1 AA-1')\n",
        "\n",
        "    # Reduced Chi2\n",
        "    r_chi2 = get_chi2(yfit_origres, HI_spec, std_HI)\n",
        "    visualize_overlay_fit(HI_spec, yfit_highres, targetid, r_chi2, mass=mass)\n",
        "\n",
        "    # Compute model flux (area under the gaussian curve)\n",
        "    model_flux = area_gaussian(amp_gauss, std_gauss)\n",
        "    print(f\"Flux of Model: {model_flux}\")\n",
        "\n",
        "    # Deviation: Percent Error\n",
        "    dev = (np.abs(integrated_flux - model_flux)/integrated_flux) * 100\n",
        "    print(f\"Deviation: {np.round(dev,4)}%\")\n",
        "    print(\"----------------\")"
      ]
    },
    {
      "cell_type": "code",
      "execution_count": null,
      "id": "bf7fa0b4-e2ff-4809-a832-ba2f84b3ab44",
      "metadata": {
        "id": "bf7fa0b4-e2ff-4809-a832-ba2f84b3ab44",
        "outputId": "18a108da-8d29-4219-def8-fbfde2b79a6e"
      },
      "outputs": [
        {
          "ename": "NameError",
          "evalue": "name 'model_fit' is not defined",
          "output_type": "error",
          "traceback": [
            "\u001b[1;31m---------------------------------------------------------------------------\u001b[0m",
            "\u001b[1;31mNameError\u001b[0m                                 Traceback (most recent call last)",
            "Cell \u001b[1;32mIn[243], line 1\u001b[0m\n\u001b[1;32m----> 1\u001b[0m \u001b[43mmodel_fit\u001b[49m\u001b[38;5;241m.\u001b[39mstds\n",
            "\u001b[1;31mNameError\u001b[0m: name 'model_fit' is not defined"
          ]
        }
      ],
      "source": [
        "model_fit.stds"
      ]
    },
    {
      "cell_type": "markdown",
      "id": "4fd6c969-6fb4-4420-8465-a667cd00ffc3",
      "metadata": {
        "jp-MarkdownHeadingCollapsed": true,
        "id": "4fd6c969-6fb4-4420-8465-a667cd00ffc3"
      },
      "source": [
        "# H-alpha Flux of High-Mass (hm) Galaxies"
      ]
    },
    {
      "cell_type": "markdown",
      "id": "47da5d70-3bd4-4aae-8a9f-59a7539bb0eb",
      "metadata": {
        "id": "47da5d70-3bd4-4aae-8a9f-59a7539bb0eb"
      },
      "source": [
        "## 5 Samples"
      ]
    },
    {
      "cell_type": "code",
      "execution_count": null,
      "id": "e7910705-079d-4f97-83c5-f67588160e5b",
      "metadata": {
        "id": "e7910705-079d-4f97-83c5-f67588160e5b",
        "outputId": "7de935ba-88e5-4a04-b2d8-245e9b16533a"
      },
      "outputs": [
        {
          "name": "stdout",
          "output_type": "stream",
          "text": [
            "Galaxy [0]\n"
          ]
        },
        {
          "ename": "NameError",
          "evalue": "name 'df_high_mass' is not defined",
          "output_type": "error",
          "traceback": [
            "\u001b[1;31m---------------------------------------------------------------------------\u001b[0m",
            "\u001b[1;31mNameError\u001b[0m                                 Traceback (most recent call last)",
            "Cell \u001b[1;32mIn[247], line 3\u001b[0m\n\u001b[0;32m      1\u001b[0m \u001b[38;5;28;01mfor\u001b[39;00m ii \u001b[38;5;129;01min\u001b[39;00m \u001b[38;5;28mrange\u001b[39m(\u001b[38;5;241m5\u001b[39m):\n\u001b[0;32m      2\u001b[0m     \u001b[38;5;28mprint\u001b[39m(\u001b[38;5;124mf\u001b[39m\u001b[38;5;124m\"\u001b[39m\u001b[38;5;124mGalaxy [\u001b[39m\u001b[38;5;132;01m{\u001b[39;00mii\u001b[38;5;132;01m}\u001b[39;00m\u001b[38;5;124m]\u001b[39m\u001b[38;5;124m\"\u001b[39m)\n\u001b[1;32m----> 3\u001b[0m     targetid \u001b[38;5;241m=\u001b[39m \u001b[38;5;28mint\u001b[39m(\u001b[43mdf_high_mass\u001b[49m\u001b[38;5;241m.\u001b[39miloc[ii][\u001b[38;5;124m'\u001b[39m\u001b[38;5;124mtargetid\u001b[39m\u001b[38;5;124m'\u001b[39m])\n\u001b[0;32m      4\u001b[0m     wavelength, flux, model_flux, ivar, err, err_imp_max, err_imp_med \u001b[38;5;241m=\u001b[39m retrieve_spectra(targetid)    \n\u001b[0;32m      5\u001b[0m     mass \u001b[38;5;241m=\u001b[39m df_high_mass\u001b[38;5;241m.\u001b[39miloc[ii][\u001b[38;5;124m'\u001b[39m\u001b[38;5;124mlog(M*/M)\u001b[39m\u001b[38;5;124m'\u001b[39m]\n",
            "\u001b[1;31mNameError\u001b[0m: name 'df_high_mass' is not defined"
          ]
        }
      ],
      "source": [
        "for ii in range(5):\n",
        "    print(f\"Galaxy [{ii}]\")\n",
        "    targetid = int(df_high_mass.iloc[ii]['targetid'])\n",
        "    wavelength, flux, model_flux, ivar, err, err_imp_max, err_imp_med = retrieve_spectra(targetid)\n",
        "    mass = df_high_mass.iloc[ii]['log(M*/M)']\n",
        "    # Visualize the full spectra\n",
        "    visualize_specID(wavelength, flux, err, model_flux, targetid, mass=mass)\n",
        "\n",
        "    # Converting uncertainty into StdDevUncertainty to allow uncertainty propagation\n",
        "    # StdDevUncertainty should always be associated with an NDData-like instance\n",
        "    ndd = NDData(flux, uncertainty = StdDevUncertainty(err))\n",
        "    std = ndd.uncertainty\n",
        "\n",
        "    # Visualize Zoomed-in Region\n",
        "    zoomed_spec = spectral_region(wavelength, flux, std, region=\"zoomed\")\n",
        "    visualize_zoomed(zoomed_spec)\n",
        "\n",
        "    # H-alpha region\n",
        "    HI_spec = spectral_region(wavelength, flux, std, region=\"H-alpha\")\n",
        "\n",
        "    # Accessing the indices of the wavelength limits of H-alpha region\n",
        "    start_idx = np.where(wavelength == HI_spec.spectral_axis[0]/u.AA)[0][0]\n",
        "    end_idx = np.where(wavelength == HI_spec.spectral_axis[-1]/u.AA)[0][0]\n",
        "\n",
        "    # Fitting\n",
        "    yfit_highres, yfit_origres, model_fit = fit_spec(HI_spec)\n",
        "\n",
        "    # Storing the Fit Parameters\n",
        "    # 'amplitude_0', 'mean_0', 'stddev_0', 'amplitude_1', 'x_0_1', 'width_1'\n",
        "    amp_gauss = model_fit.parameters[0]\n",
        "    mean_gauss = model_fit.parameters[1]\n",
        "    std_gauss = model_fit.parameters[2]\n",
        "    amp_cont = model_fit.parameters[3]\n",
        "\n",
        "    # stds: 'amplitude_0', 'mean_0', 'stddev_0', 'amplitude_1'\n",
        "    amp_std_gauss = model_fit.stds.stds[0]\n",
        "    mean_std_gauss = model_fit.stds.stds[1]\n",
        "    std_std_gauss = model_fit.stds.stds[2]\n",
        "    amp_std_cont = model_fit.stds.stds[3]\n",
        "\n",
        "    # Truncating uncertainty_std to values from H-alpha region only\n",
        "    std_HI = std[start_idx : end_idx+1].array * 10**-17 * u.Unit('erg cm-2 s-1 AA-1')\n",
        "\n",
        "    # Reduced Chi2\n",
        "    r_chi2 = get_chi2(yfit_origres, HI_spec, std_HI)\n",
        "    visualize_overlay_fit(HI_spec, yfit_highres, targetid, r_chi2, mass=mass)\n",
        "\n",
        "    # Integrated Flux must be continuum subtracted\n",
        "    integrated_flux = trapezoidal_rule(HI_spec, amp_cont)\n",
        "    print(f\"Integrated Flux: {integrated_flux}\")\n",
        "\n",
        "    # Compute model flux (area under the gaussian curve)\n",
        "    model_flux = area_gaussian(amp_gauss, std_gauss)\n",
        "    print(f\"Flux of Model: {model_flux}\")\n",
        "\n",
        "    # Percent Error\n",
        "    dev = (np.abs(integrated_flux - model_flux)/integrated_flux) * 100\n",
        "    print(f\"Deviation: {np.round(dev,4)}%\")\n",
        "\n",
        "    print(\"----------------\")"
      ]
    },
    {
      "cell_type": "markdown",
      "id": "99e29d62-a746-4911-8c00-d3f5250367af",
      "metadata": {
        "id": "99e29d62-a746-4911-8c00-d3f5250367af"
      },
      "source": [
        "## Running . . ."
      ]
    },
    {
      "cell_type": "code",
      "execution_count": null,
      "id": "61201b45-b120-4d34-9f90-922ccb6ef684",
      "metadata": {
        "tags": [],
        "id": "61201b45-b120-4d34-9f90-922ccb6ef684",
        "outputId": "ad00bf14-0d4c-4fa0-e5eb-db8b94e2482d"
      },
      "outputs": [
        {
          "ename": "NameError",
          "evalue": "name 'df_high_mass' is not defined",
          "output_type": "error",
          "traceback": [
            "\u001b[1;31m---------------------------------------------------------------------------\u001b[0m",
            "\u001b[1;31mNameError\u001b[0m                                 Traceback (most recent call last)",
            "Cell \u001b[1;32mIn[250], line 25\u001b[0m\n\u001b[0;32m     22\u001b[0m model_flux_hm \u001b[38;5;241m=\u001b[39m []\n\u001b[0;32m     23\u001b[0m dev_hm \u001b[38;5;241m=\u001b[39m []\n\u001b[1;32m---> 25\u001b[0m \u001b[38;5;28;01mfor\u001b[39;00m ii \u001b[38;5;129;01min\u001b[39;00m \u001b[38;5;28mrange\u001b[39m(\u001b[38;5;28mlen\u001b[39m(\u001b[43mdf_high_mass\u001b[49m)):\n\u001b[0;32m     26\u001b[0m     \u001b[38;5;28mprint\u001b[39m(\u001b[38;5;124mf\u001b[39m\u001b[38;5;124m\"\u001b[39m\u001b[38;5;124mGalaxy [\u001b[39m\u001b[38;5;132;01m{\u001b[39;00mii\u001b[38;5;132;01m}\u001b[39;00m\u001b[38;5;124m]\u001b[39m\u001b[38;5;124m\"\u001b[39m)\n\u001b[0;32m     27\u001b[0m     targetid \u001b[38;5;241m=\u001b[39m \u001b[38;5;28mint\u001b[39m(df_high_mass\u001b[38;5;241m.\u001b[39miloc[ii][\u001b[38;5;124m'\u001b[39m\u001b[38;5;124mtargetid\u001b[39m\u001b[38;5;124m'\u001b[39m])\n",
            "\u001b[1;31mNameError\u001b[0m: name 'df_high_mass' is not defined"
          ]
        }
      ],
      "source": [
        "# Spectra Values\n",
        "flux_list, wavelength_list, ivar_list = [], [], []\n",
        "err_list, err_imp_max_list, err_imp_med_list = [], [], []\n",
        "\n",
        "# Gaussian Fit Parameters\n",
        "ampg_hm = []\n",
        "ampstdg_hm = []\n",
        "\n",
        "stdg_hm = []\n",
        "stdstdg_hm = []\n",
        "\n",
        "meang_hm = []\n",
        "meanstdg_hm = []\n",
        "\n",
        "# Continuum Fit Parameters\n",
        "ampc_hm = []\n",
        "ampstdc_hm = []\n",
        "\n",
        "# Calculated Values\n",
        "rchi2_hm = []\n",
        "integrated_flux_hm = []\n",
        "model_flux_hm = []\n",
        "dev_hm = []\n",
        "\n",
        "for ii in range(len(df_high_mass)):\n",
        "    print(f\"Galaxy [{ii}]\")\n",
        "    targetid = int(df_high_mass.iloc[ii]['targetid'])\n",
        "    wavelength, flux, model_flux, ivar, err, err_imp_max, err_imp_med = retrieve_spectra(targetid)\n",
        "\n",
        "    mass = df_high_mass.iloc[ii]['log(M*/M)']\n",
        "    # Visualize the full spectra\n",
        "    ## visualize_specID(wavelength, flux, unc, model_flux, targetid, mass=mass)\n",
        "\n",
        "    # Converting uncertainty into StdDevUncertainty to allow uncertainty propagation\n",
        "    # StdDevUncertainty should always be associated with an NDData-like instance\n",
        "    ndd = NDData(flux, uncertainty = StdDevUncertainty(err))\n",
        "    std = ndd.uncertainty\n",
        "\n",
        "    # Visualize Zoomed-in Region\n",
        "    zoomed_spec = spectral_region(wavelength, flux, std, region=\"zoomed\")\n",
        "    ## visualize_zoomed(zoomed_spec)\n",
        "\n",
        "    # H-alpha region\n",
        "    HI_spec = spectral_region(wavelength, flux, std, region=\"H-alpha\")\n",
        "\n",
        "    # Accessing the indices of the wavelength limits of H-alpha region\n",
        "    start_idx = np.where(wavelength == HI_spec.spectral_axis[0]/u.AA)[0][0]\n",
        "    end_idx = np.where(wavelength == HI_spec.spectral_axis[-1]/u.AA)[0][0]\n",
        "\n",
        "    # Fitting\n",
        "    yfit_highres, yfit_origres, model_fit = fit_spec(HI_spec)\n",
        "\n",
        "    # Storing the Fit Parameters\n",
        "    # 'amplitude_0', 'mean_0', 'stddev_0', 'amplitude_1', 'x_0_1', 'width_1'\n",
        "    amp_gauss = model_fit.parameters[0]\n",
        "    mean_gauss = model_fit.parameters[1]\n",
        "    std_gauss = model_fit.parameters[2]\n",
        "    amp_cont = model_fit.parameters[3]\n",
        "\n",
        "    # stds: 'amplitude_0', 'mean_0', 'stddev_0', 'amplitude_1'\n",
        "    amp_std_gauss = model_fit.stds.stds[0]\n",
        "    mean_std_gauss = model_fit.stds.stds[1]\n",
        "    std_std_gauss = model_fit.stds.stds[2]\n",
        "    amp_std_cont = model_fit.stds.stds[3]\n",
        "\n",
        "    # Integrated Flux must be continuum subtracted\n",
        "    integrated_flux = trapezoidal_rule(HI_spec, amp_cont)\n",
        "    ## print(f\"Integrated Flux: {integrated_flux}\")\n",
        "\n",
        "    # Truncating uncertainty_std to values from H-alpha region only\n",
        "    std_HI = std[start_idx : end_idx+1].array * 10**-17 * u.Unit('erg cm-2 s-1 AA-1')\n",
        "\n",
        "    # Reduced Chi2\n",
        "    rchi2 = get_chi2(yfit_origres, HI_spec, std_HI)\n",
        "    ## visualize_overlay_fit(HI_spec, yfit_highres, targetid, rchi2, mass=mass)\n",
        "\n",
        "    # Compute model flux (area under the gaussian curve)\n",
        "    model_flux = area_gaussian(amp_gauss, std_gauss)\n",
        "    ## print(f\"Flux of Model: {model_flux}\")\n",
        "\n",
        "    # Percent Error\n",
        "    dev = (np.abs(integrated_flux - model_flux)/integrated_flux) * 100\n",
        "    print(f\"Deviation: {np.round(dev,4)}%\")\n",
        "\n",
        "    # Storing Values in a List\n",
        "    ampg_hm.append(amp_gauss)\n",
        "    ampstdg_hm.append(amp_std_gauss)\n",
        "    stdg_hm.append(std_gauss)\n",
        "    stdstdg_hm.append(std_std_gauss)\n",
        "    meang_hm.append(mean_gauss)\n",
        "    meanstdg_hm.append(mean_std_gauss)\n",
        "    ampc_hm.append(amp_cont)\n",
        "    ampstdc_hm.append(amp_std_cont)\n",
        "\n",
        "    rchi2_hm.append(rchi2)\n",
        "    integrated_flux_hm.append(integrated_flux)\n",
        "    model_flux_hm.append(model_flux)\n",
        "    dev_hm.append(dev)\n",
        "\n",
        "    # Spectra values\n",
        "    flux_list.append(flux)\n",
        "    wavelength_list.append(wavelength)\n",
        "    ivar_list.append(ivar)\n",
        "    err_list.append(err)\n",
        "    err_imp_max_list.append(err_imp_max)\n",
        "    err_imp_med_list.append(err_imp_med)\n",
        "\n",
        "    print(\"----------------\")"
      ]
    },
    {
      "cell_type": "markdown",
      "id": "1270777c-3dd8-45fd-9d8f-af848cdd9f7c",
      "metadata": {
        "jp-MarkdownHeadingCollapsed": true,
        "id": "1270777c-3dd8-45fd-9d8f-af848cdd9f7c"
      },
      "source": [
        "## Exporting..."
      ]
    },
    {
      "cell_type": "code",
      "execution_count": null,
      "id": "bd17141f-3ad3-402b-8778-357b1a0abfbd",
      "metadata": {
        "tags": [],
        "id": "bd17141f-3ad3-402b-8778-357b1a0abfbd",
        "outputId": "f48b2e0e-200c-4d3a-b8a4-669ebadd0456"
      },
      "outputs": [
        {
          "ename": "NameError",
          "evalue": "name 'df_high_mass' is not defined",
          "output_type": "error",
          "traceback": [
            "\u001b[1;31m---------------------------------------------------------------------------\u001b[0m",
            "\u001b[1;31mNameError\u001b[0m                                 Traceback (most recent call last)",
            "Cell \u001b[1;32mIn[253], line 2\u001b[0m\n\u001b[0;32m      1\u001b[0m fitflux_hm \u001b[38;5;241m=\u001b[39m pd\u001b[38;5;241m.\u001b[39mDataFrame()\n\u001b[1;32m----> 2\u001b[0m fitflux_hm[\u001b[38;5;124m\"\u001b[39m\u001b[38;5;124mtargetid\u001b[39m\u001b[38;5;124m\"\u001b[39m] \u001b[38;5;241m=\u001b[39m \u001b[43mdf_high_mass\u001b[49m[\u001b[38;5;124m\"\u001b[39m\u001b[38;5;124mtargetid\u001b[39m\u001b[38;5;124m\"\u001b[39m]\n\u001b[0;32m      3\u001b[0m fitflux_hm[\u001b[38;5;124m\"\u001b[39m\u001b[38;5;124mz\u001b[39m\u001b[38;5;124m\"\u001b[39m] \u001b[38;5;241m=\u001b[39m df_high_mass[\u001b[38;5;124m\"\u001b[39m\u001b[38;5;124mz\u001b[39m\u001b[38;5;124m\"\u001b[39m]\n\u001b[0;32m      5\u001b[0m \u001b[38;5;66;03m# Fit\u001b[39;00m\n",
            "\u001b[1;31mNameError\u001b[0m: name 'df_high_mass' is not defined"
          ]
        }
      ],
      "source": [
        "fitflux_hm = pd.DataFrame()\n",
        "fitflux_hm[\"targetid\"] = df_high_mass[\"targetid\"]\n",
        "fitflux_hm[\"z\"] = df_high_mass[\"z\"]\n",
        "\n",
        "# Fit\n",
        "fitflux_hm[\"amp_g\"] = ampg_hm\n",
        "fitflux_hm[\"amp_std_g\"] = ampstdg_hm\n",
        "fitflux_hm[\"std_g\"] = stdg_hm\n",
        "fitflux_hm[\"std_std_g\"] = stdstdg_hm\n",
        "fitflux_hm[\"mean_g\"] = meang_hm\n",
        "fitflux_hm[\"mean_std_g\"] = meanstdg_hm\n",
        "fitflux_hm[\"amp_c\"] = ampc_hm\n",
        "fitflux_hm[\"amp_std_c\"] = ampstdc_hm\n",
        "\n",
        "# Flux\n",
        "fitflux_hm[\"rchi2\"] = rchi2_hm\n",
        "fitflux_hm[\"integrated_flux\"] = integrated_flux_hm\n",
        "fitflux_hm[\"model_flux\"] = model_flux_hm\n",
        "fitflux_hm[\"dev(%)\"] = dev_hm"
      ]
    },
    {
      "cell_type": "code",
      "execution_count": null,
      "id": "eb4e9cdf-4174-44c5-9511-7cd5a4cd51c8",
      "metadata": {
        "tags": [],
        "id": "eb4e9cdf-4174-44c5-9511-7cd5a4cd51c8"
      },
      "outputs": [],
      "source": [
        "fitflux_hm.to_csv(\"SAMPLE 1/ver3fitflux_high_mass.csv\", index=False)"
      ]
    },
    {
      "cell_type": "markdown",
      "id": "afa876c9-8a57-42ce-9a38-9ad5ae785b9c",
      "metadata": {
        "jp-MarkdownHeadingCollapsed": true,
        "id": "afa876c9-8a57-42ce-9a38-9ad5ae785b9c"
      },
      "source": [
        "# H-alpha Flux of Medium-Mass (mm) Galaxies"
      ]
    },
    {
      "cell_type": "markdown",
      "id": "2bdb5cd8-d2ab-4c72-999b-762c13fd649f",
      "metadata": {
        "id": "2bdb5cd8-d2ab-4c72-999b-762c13fd649f"
      },
      "source": [
        "## 5 Samples"
      ]
    },
    {
      "cell_type": "code",
      "execution_count": null,
      "id": "91999565-d347-4744-8324-7269a897d645",
      "metadata": {
        "id": "91999565-d347-4744-8324-7269a897d645",
        "outputId": "a6f5f960-c7a9-4d1a-ad81-e3d23e47e843"
      },
      "outputs": [
        {
          "name": "stdout",
          "output_type": "stream",
          "text": [
            "Galaxy [0]\n"
          ]
        },
        {
          "ename": "NameError",
          "evalue": "name 'df_medium_mass' is not defined",
          "output_type": "error",
          "traceback": [
            "\u001b[1;31m---------------------------------------------------------------------------\u001b[0m",
            "\u001b[1;31mNameError\u001b[0m                                 Traceback (most recent call last)",
            "Cell \u001b[1;32mIn[259], line 3\u001b[0m\n\u001b[0;32m      1\u001b[0m \u001b[38;5;28;01mfor\u001b[39;00m ii \u001b[38;5;129;01min\u001b[39;00m \u001b[38;5;28mrange\u001b[39m(\u001b[38;5;241m5\u001b[39m):\n\u001b[0;32m      2\u001b[0m     \u001b[38;5;28mprint\u001b[39m(\u001b[38;5;124mf\u001b[39m\u001b[38;5;124m\"\u001b[39m\u001b[38;5;124mGalaxy [\u001b[39m\u001b[38;5;132;01m{\u001b[39;00mii\u001b[38;5;132;01m}\u001b[39;00m\u001b[38;5;124m]\u001b[39m\u001b[38;5;124m\"\u001b[39m)\n\u001b[1;32m----> 3\u001b[0m     targetid \u001b[38;5;241m=\u001b[39m \u001b[38;5;28mint\u001b[39m(\u001b[43mdf_medium_mass\u001b[49m\u001b[38;5;241m.\u001b[39miloc[ii][\u001b[38;5;124m'\u001b[39m\u001b[38;5;124mtargetid\u001b[39m\u001b[38;5;124m'\u001b[39m])\n\u001b[0;32m      4\u001b[0m     wavelength, flux, model_flux, ivar, err, err_imp_max, err_imp_med \u001b[38;5;241m=\u001b[39m retrieve_spectra(targetid)\n\u001b[0;32m      6\u001b[0m     mass \u001b[38;5;241m=\u001b[39m df_medium_mass\u001b[38;5;241m.\u001b[39miloc[ii][\u001b[38;5;124m'\u001b[39m\u001b[38;5;124mlog(M*/M)\u001b[39m\u001b[38;5;124m'\u001b[39m]\n",
            "\u001b[1;31mNameError\u001b[0m: name 'df_medium_mass' is not defined"
          ]
        }
      ],
      "source": [
        "for ii in range(5):\n",
        "    print(f\"Galaxy [{ii}]\")\n",
        "    targetid = int(df_medium_mass.iloc[ii]['targetid'])\n",
        "    wavelength, flux, model_flux, ivar, err, err_imp_max, err_imp_med = retrieve_spectra(targetid)\n",
        "\n",
        "    mass = df_medium_mass.iloc[ii]['log(M*/M)']\n",
        "    # Visualize the full spectra\n",
        "    visualize_specID(wavelength, flux, err, model_flux, targetid, mass=mass)\n",
        "\n",
        "    # Converting uncertainty into StdDevUncertainty to allow uncertainty propagation\n",
        "    # StdDevUncertainty should always be associated with an NDData-like instance\n",
        "    ndd = NDData(flux, uncertainty = StdDevUncertainty(err))\n",
        "    std = ndd.uncertainty\n",
        "\n",
        "    # Visualize Zoomed-in Region\n",
        "    zoomed_spec = spectral_region(wavelength, flux, std, region=\"zoomed\")\n",
        "    visualize_zoomed(zoomed_spec)\n",
        "\n",
        "    # H-alpha region\n",
        "    HI_spec = spectral_region(wavelength, flux, std, region=\"H-alpha\")\n",
        "\n",
        "    # Accessing the indices of the wavelength limits of H-alpha region\n",
        "    start_idx = np.where(wavelength == HI_spec.spectral_axis[0]/u.AA)[0][0]\n",
        "    end_idx = np.where(wavelength == HI_spec.spectral_axis[-1]/u.AA)[0][0]\n",
        "\n",
        "    # Fitting\n",
        "    yfit_highres, yfit_origres, model_fit = fit_spec(HI_spec)\n",
        "\n",
        "    # Storing the Fit Parameters\n",
        "    # 'amplitude_0', 'mean_0', 'stddev_0', 'amplitude_1', 'x_0_1', 'width_1'\n",
        "    amp_gauss = model_fit.parameters[0]\n",
        "    mean_gauss = model_fit.parameters[1]\n",
        "    std_gauss = model_fit.parameters[2]\n",
        "    amp_cont = model_fit.parameters[3]\n",
        "\n",
        "    # stds: 'amplitude_0', 'mean_0', 'stddev_0', 'amplitude_1'\n",
        "    amp_std_gauss = model_fit.stds.stds[0]\n",
        "    mean_std_gauss = model_fit.stds.stds[1]\n",
        "    std_std_gauss = model_fit.stds.stds[2]\n",
        "    amp_std_cont = model_fit.stds.stds[3]\n",
        "\n",
        "    # Truncating uncertainty_std to values from H-alpha region only\n",
        "    std_HI = std[start_idx : end_idx+1].array * 10**-17 * u.Unit('erg cm-2 s-1 AA-1')\n",
        "\n",
        "    # Reduced Chi2\n",
        "    r_chi2 = get_chi2(yfit_origres, HI_spec, std_HI)\n",
        "    visualize_overlay_fit(HI_spec, yfit_highres, targetid, r_chi2, mass=mass)\n",
        "\n",
        "    # Integrated Flux must be continuum subtracted\n",
        "    integrated_flux = trapezoidal_rule(HI_spec, amp_cont)\n",
        "    print(f\"Integrated Flux: {integrated_flux}\")\n",
        "\n",
        "    # Compute model flux (area under the gaussian curve)\n",
        "    model_flux = area_gaussian(amp_gauss, std_gauss)\n",
        "    print(f\"Flux of Model: {model_flux}\")\n",
        "\n",
        "    # Percent Error\n",
        "    dev = (np.abs(integrated_flux - model_flux)/integrated_flux) * 100\n",
        "    print(f\"Deviation: {np.round(dev,4)}%\")\n",
        "\n",
        "    print(\"----------------\")"
      ]
    },
    {
      "cell_type": "markdown",
      "id": "ecb56730-194b-4ae5-a9dc-84480e87f84d",
      "metadata": {
        "jp-MarkdownHeadingCollapsed": true,
        "id": "ecb56730-194b-4ae5-a9dc-84480e87f84d"
      },
      "source": [
        "## Running . . ."
      ]
    },
    {
      "cell_type": "code",
      "execution_count": null,
      "id": "ea4083e9-55ef-44c3-ad8f-cc5bf0713f85",
      "metadata": {
        "tags": [],
        "id": "ea4083e9-55ef-44c3-ad8f-cc5bf0713f85",
        "outputId": "3b6d7c88-f601-4607-b163-500b1621c814"
      },
      "outputs": [
        {
          "ename": "NameError",
          "evalue": "name 'df_medium_mass' is not defined",
          "output_type": "error",
          "traceback": [
            "\u001b[1;31m---------------------------------------------------------------------------\u001b[0m",
            "\u001b[1;31mNameError\u001b[0m                                 Traceback (most recent call last)",
            "Cell \u001b[1;32mIn[262], line 21\u001b[0m\n\u001b[0;32m     18\u001b[0m model_flux_mm \u001b[38;5;241m=\u001b[39m []\n\u001b[0;32m     19\u001b[0m dev_mm \u001b[38;5;241m=\u001b[39m []\n\u001b[1;32m---> 21\u001b[0m \u001b[38;5;28;01mfor\u001b[39;00m ii \u001b[38;5;129;01min\u001b[39;00m \u001b[38;5;28mrange\u001b[39m(\u001b[38;5;28mlen\u001b[39m(\u001b[43mdf_medium_mass\u001b[49m)):\n\u001b[0;32m     22\u001b[0m     \u001b[38;5;28mprint\u001b[39m(\u001b[38;5;124mf\u001b[39m\u001b[38;5;124m\"\u001b[39m\u001b[38;5;124mGalaxy [\u001b[39m\u001b[38;5;132;01m{\u001b[39;00mii\u001b[38;5;132;01m}\u001b[39;00m\u001b[38;5;124m]\u001b[39m\u001b[38;5;124m\"\u001b[39m)\n\u001b[0;32m     23\u001b[0m     targetid \u001b[38;5;241m=\u001b[39m \u001b[38;5;28mint\u001b[39m(df_medium_mass\u001b[38;5;241m.\u001b[39miloc[ii][\u001b[38;5;124m'\u001b[39m\u001b[38;5;124mtargetid\u001b[39m\u001b[38;5;124m'\u001b[39m])\n",
            "\u001b[1;31mNameError\u001b[0m: name 'df_medium_mass' is not defined"
          ]
        }
      ],
      "source": [
        "# Gaussian Fit Parameters\n",
        "ampg_mm = []\n",
        "ampstdg_mm = []\n",
        "\n",
        "stdg_mm = []\n",
        "stdstdg_mm = []\n",
        "\n",
        "meang_mm = []\n",
        "meanstdg_mm = []\n",
        "\n",
        "# Continuum Fit Parameters\n",
        "ampc_mm = []\n",
        "ampstdc_mm = []\n",
        "\n",
        "# Calculated Values\n",
        "rchi2_mm = []\n",
        "integrated_flux_mm = []\n",
        "model_flux_mm = []\n",
        "dev_mm = []\n",
        "\n",
        "for ii in range(len(df_medium_mass)):\n",
        "    print(f\"Galaxy [{ii}]\")\n",
        "    targetid = int(df_medium_mass.iloc[ii]['targetid'])\n",
        "    wavelength, flux, model_flux, ivar, err, err_imp_max, err_imp_med = retrieve_spectra(targetid)\n",
        "    # mass = df_medium_mass.iloc[ii]['log(M*/M)']\n",
        "    # Visualize the full spectra\n",
        "    ## visualize_specID(wavelength, flux, err, model_flux, targetid, mass=mass)\n",
        "\n",
        "    # Converting uncertainty into StdDevUncertainty to allow uncertainty propagation\n",
        "    # StdDevUncertainty should always be associated with an NDData-like instance\n",
        "    ndd = NDData(flux, uncertainty = StdDevUncertainty(err))\n",
        "    std = ndd.uncertainty\n",
        "\n",
        "    # Visualize Zoomed-in Region\n",
        "    zoomed_spec = spectral_region(wavelength, flux, std, region=\"zoomed\")\n",
        "    ## visualize_zoomed(zoomed_spec)\n",
        "\n",
        "    # H-alpha region\n",
        "    HI_spec = spectral_region(wavelength, flux, std, region=\"H-alpha\")\n",
        "\n",
        "    # Accessing the indices of the wavelength limits of H-alpha region\n",
        "    start_idx = np.where(wavelength == HI_spec.spectral_axis[0]/u.AA)[0][0]\n",
        "    end_idx = np.where(wavelength == HI_spec.spectral_axis[-1]/u.AA)[0][0]\n",
        "\n",
        "    # Fitting\n",
        "    yfit_highres, yfit_origres, model_fit = fit_spec(HI_spec)\n",
        "\n",
        "    # Storing the Fit Parameters\n",
        "    # 'amplitude_0', 'mean_0', 'stddev_0', 'amplitude_1', 'x_0_1', 'width_1'\n",
        "    amp_gauss = model_fit.parameters[0]\n",
        "    mean_gauss = model_fit.parameters[1]\n",
        "    std_gauss = model_fit.parameters[2]\n",
        "    amp_cont = model_fit.parameters[3]\n",
        "\n",
        "    # stds: 'amplitude_0', 'mean_0', 'stddev_0', 'amplitude_1'\n",
        "    if model_fit.stds is not None:\n",
        "        amp_std_gauss = model_fit.stds.stds[0]\n",
        "        mean_std_gauss = model_fit.stds.stds[1]\n",
        "        std_std_gauss = model_fit.stds.stds[2]\n",
        "        amp_std_cont = model_fit.stds.stds[3]\n",
        "    else:\n",
        "        amp_std_gauss, mean_std_gauss, std_std_gauss, amp_std_cont = 0, 0, 0, 0\n",
        "\n",
        "    # Integrated Flux must be continuum subtracted\n",
        "    integrated_flux = trapezoidal_rule(HI_spec, amp_cont)\n",
        "    ## print(f\"Integrated Flux: {integrated_flux}\")\n",
        "\n",
        "    # Truncating uncertainty_std to values from H-alpha region only\n",
        "    std_HI = std[start_idx : end_idx+1].array * 10**-17 * u.Unit('erg cm-2 s-1 AA-1')\n",
        "\n",
        "    # Reduced Chi2\n",
        "    rchi2 = get_chi2(yfit_origres, HI_spec, std_HI)\n",
        "    ## visualize_overlay_fit(HI_spec, yfit_highres, targetid, rchi2, mass=mass)\n",
        "\n",
        "    # Compute model flux (area under the gaussian curve)\n",
        "    model_flux = area_gaussian(amp_gauss, std_gauss)\n",
        "    ## print(f\"Flux of Model: {model_flux}\")\n",
        "\n",
        "    # Percent Error\n",
        "    dev = (np.abs(integrated_flux - model_flux)/integrated_flux) * 100\n",
        "    print(f\"Deviation: {np.round(dev,4)}%\")\n",
        "\n",
        "    # Storing Values in a List\n",
        "    ampg_mm.append(amp_gauss)\n",
        "    ampstdg_mm.append(amp_std_gauss)\n",
        "    stdg_mm.append(std_gauss)\n",
        "    stdstdg_mm.append(std_std_gauss)\n",
        "    meang_mm.append(mean_gauss)\n",
        "    meanstdg_mm.append(mean_std_gauss)\n",
        "    ampc_mm.append(amp_cont)\n",
        "    ampstdc_mm.append(amp_std_cont)\n",
        "\n",
        "    rchi2_mm.append(rchi2)\n",
        "    integrated_flux_mm.append(integrated_flux)\n",
        "    model_flux_mm.append(model_flux)\n",
        "    dev_mm.append(dev)\n",
        "\n",
        "    # Spectra values\n",
        "    flux_list.append(flux)\n",
        "    wavelength_list.append(wavelength)\n",
        "    ivar_list.append(ivar)\n",
        "    err_list.append(err)\n",
        "    err_imp_max_list.append(err_imp_max)\n",
        "    err_imp_med_list.append(err_imp_med)\n",
        "    print(\"----------------\")"
      ]
    },
    {
      "cell_type": "markdown",
      "id": "6699421e-c28b-4c24-aada-7f177d8a46cf",
      "metadata": {
        "jp-MarkdownHeadingCollapsed": true,
        "id": "6699421e-c28b-4c24-aada-7f177d8a46cf"
      },
      "source": [
        "## Exporting . . ."
      ]
    },
    {
      "cell_type": "code",
      "execution_count": null,
      "id": "82cb1658-5aa0-40b3-ac4e-9d382bb5ce7f",
      "metadata": {
        "tags": [],
        "id": "82cb1658-5aa0-40b3-ac4e-9d382bb5ce7f",
        "outputId": "94697357-8ec8-4538-f005-74f824a72672"
      },
      "outputs": [
        {
          "ename": "NameError",
          "evalue": "name 'df_medium_mass' is not defined",
          "output_type": "error",
          "traceback": [
            "\u001b[1;31m---------------------------------------------------------------------------\u001b[0m",
            "\u001b[1;31mNameError\u001b[0m                                 Traceback (most recent call last)",
            "Cell \u001b[1;32mIn[265], line 2\u001b[0m\n\u001b[0;32m      1\u001b[0m fitflux_mm \u001b[38;5;241m=\u001b[39m pd\u001b[38;5;241m.\u001b[39mDataFrame()\n\u001b[1;32m----> 2\u001b[0m fitflux_mm[\u001b[38;5;124m\"\u001b[39m\u001b[38;5;124mtargetid\u001b[39m\u001b[38;5;124m\"\u001b[39m] \u001b[38;5;241m=\u001b[39m \u001b[43mdf_medium_mass\u001b[49m[\u001b[38;5;124m\"\u001b[39m\u001b[38;5;124mtargetid\u001b[39m\u001b[38;5;124m\"\u001b[39m]\n\u001b[0;32m      4\u001b[0m \u001b[38;5;66;03m# Fit\u001b[39;00m\n\u001b[0;32m      5\u001b[0m fitflux_mm[\u001b[38;5;124m\"\u001b[39m\u001b[38;5;124mamp_g\u001b[39m\u001b[38;5;124m\"\u001b[39m] \u001b[38;5;241m=\u001b[39m ampg_mm\n",
            "\u001b[1;31mNameError\u001b[0m: name 'df_medium_mass' is not defined"
          ]
        }
      ],
      "source": [
        "fitflux_mm = pd.DataFrame()\n",
        "fitflux_mm[\"targetid\"] = df_medium_mass[\"targetid\"]\n",
        "\n",
        "# Fit\n",
        "fitflux_mm[\"amp_g\"] = ampg_mm\n",
        "fitflux_mm[\"amp_std_g\"] = ampstdg_mm\n",
        "fitflux_mm[\"std_g\"] = stdg_mm\n",
        "fitflux_mm[\"std_std_g\"] = stdstdg_mm\n",
        "fitflux_mm[\"mean_g\"] = meang_mm\n",
        "fitflux_mm[\"mean_std_g\"] = meanstdg_mm\n",
        "fitflux_mm[\"amp_c\"] = ampc_mm\n",
        "fitflux_mm[\"amp_std_c\"] = ampstdc_mm\n",
        "\n",
        "# Flux\n",
        "fitflux_mm[\"rchi2\"] = rchi2_mm\n",
        "fitflux_mm[\"integrated_flux\"] = integrated_flux_mm\n",
        "fitflux_mm[\"model_flux\"] = model_flux_mm\n",
        "fitflux_mm[\"dev(%)\"] = dev_mm"
      ]
    },
    {
      "cell_type": "code",
      "execution_count": null,
      "id": "62ccb28a-db9a-405f-9690-7d59d5ed383d",
      "metadata": {
        "id": "62ccb28a-db9a-405f-9690-7d59d5ed383d"
      },
      "outputs": [],
      "source": [
        "fitflux_mm.to_csv(\"SAMPLE 1/ver3fitflux_medium_mass.csv\", index=False)"
      ]
    },
    {
      "cell_type": "markdown",
      "id": "e64df016-5add-4ee6-a8a9-6eaa3b3d7271",
      "metadata": {
        "jp-MarkdownHeadingCollapsed": true,
        "id": "e64df016-5add-4ee6-a8a9-6eaa3b3d7271"
      },
      "source": [
        "# H-alpha Flux of Low-Mass (lm) Galaxies"
      ]
    },
    {
      "cell_type": "markdown",
      "id": "50a8b12d-153b-4b44-9ec2-398954e9b3ed",
      "metadata": {
        "jp-MarkdownHeadingCollapsed": true,
        "id": "50a8b12d-153b-4b44-9ec2-398954e9b3ed"
      },
      "source": [
        "## 5 Samples"
      ]
    },
    {
      "cell_type": "code",
      "execution_count": null,
      "id": "16f5ae51-d063-4c5e-8c77-59ab69a7f6cb",
      "metadata": {
        "id": "16f5ae51-d063-4c5e-8c77-59ab69a7f6cb",
        "outputId": "f5456f34-ced3-4952-8761-a1bd1b0784cb"
      },
      "outputs": [
        {
          "name": "stdout",
          "output_type": "stream",
          "text": [
            "Galaxy [0]\n"
          ]
        },
        {
          "ename": "NameError",
          "evalue": "name 'df_low_mass' is not defined",
          "output_type": "error",
          "traceback": [
            "\u001b[1;31m---------------------------------------------------------------------------\u001b[0m",
            "\u001b[1;31mNameError\u001b[0m                                 Traceback (most recent call last)",
            "Cell \u001b[1;32mIn[271], line 3\u001b[0m\n\u001b[0;32m      1\u001b[0m \u001b[38;5;28;01mfor\u001b[39;00m ii \u001b[38;5;129;01min\u001b[39;00m \u001b[38;5;28mrange\u001b[39m(\u001b[38;5;241m5\u001b[39m):\n\u001b[0;32m      2\u001b[0m     \u001b[38;5;28mprint\u001b[39m(\u001b[38;5;124mf\u001b[39m\u001b[38;5;124m\"\u001b[39m\u001b[38;5;124mGalaxy [\u001b[39m\u001b[38;5;132;01m{\u001b[39;00mii\u001b[38;5;132;01m}\u001b[39;00m\u001b[38;5;124m]\u001b[39m\u001b[38;5;124m\"\u001b[39m)\n\u001b[1;32m----> 3\u001b[0m     targetid \u001b[38;5;241m=\u001b[39m \u001b[38;5;28mint\u001b[39m(\u001b[43mdf_low_mass\u001b[49m\u001b[38;5;241m.\u001b[39miloc[ii][\u001b[38;5;124m'\u001b[39m\u001b[38;5;124mtargetid\u001b[39m\u001b[38;5;124m'\u001b[39m])\n\u001b[0;32m      4\u001b[0m     wavelength, flux, model_flux, ivar, err, err_imp_max, err_imp_med \u001b[38;5;241m=\u001b[39m retrieve_spectra(targetid)\n\u001b[0;32m      6\u001b[0m     mass \u001b[38;5;241m=\u001b[39m df_low_mass\u001b[38;5;241m.\u001b[39miloc[ii][\u001b[38;5;124m'\u001b[39m\u001b[38;5;124mlog(M*/M)\u001b[39m\u001b[38;5;124m'\u001b[39m]\n",
            "\u001b[1;31mNameError\u001b[0m: name 'df_low_mass' is not defined"
          ]
        }
      ],
      "source": [
        "for ii in range(5):\n",
        "    print(f\"Galaxy [{ii}]\")\n",
        "    targetid = int(df_low_mass.iloc[ii]['targetid'])\n",
        "    wavelength, flux, model_flux, ivar, err, err_imp_max, err_imp_med = retrieve_spectra(targetid)\n",
        "\n",
        "    mass = df_low_mass.iloc[ii]['log(M*/M)']\n",
        "    # Visualize the full spectra\n",
        "    visualize_specID(wavelength, flux, err, model_flux, targetid, mass=mass)\n",
        "\n",
        "    # Converting uncertainty into StdDevUncertainty to allow uncertainty propagation\n",
        "    # StdDevUncertainty should always be associated with an NDData-like instance\n",
        "    ndd = NDData(flux, uncertainty = StdDevUncertainty(err))\n",
        "    std = ndd.uncertainty\n",
        "\n",
        "    # Visualize Zoomed-in Region\n",
        "    zoomed_spec = spectral_region(wavelength, flux, std, region=\"zoomed\")\n",
        "    visualize_zoomed(zoomed_spec)\n",
        "\n",
        "    # H-alpha region\n",
        "    HI_spec = spectral_region(wavelength, flux, std, region=\"H-alpha\")\n",
        "\n",
        "    # Accessing the indices of the wavelength limits of H-alpha region\n",
        "    start_idx = np.where(wavelength == HI_spec.spectral_axis[0]/u.AA)[0][0]\n",
        "    end_idx = np.where(wavelength == HI_spec.spectral_axis[-1]/u.AA)[0][0]\n",
        "\n",
        "    # Fitting\n",
        "    yfit_highres, yfit_origres, model_fit = fit_spec(HI_spec)\n",
        "\n",
        "    # Storing the Fit Parameters\n",
        "    # 'amplitude_0', 'mean_0', 'stddev_0', 'amplitude_1', 'x_0_1', 'width_1'\n",
        "    amp_gauss = model_fit.parameters[0]\n",
        "    mean_gauss = model_fit.parameters[1]\n",
        "    std_gauss = model_fit.parameters[2]\n",
        "    amp_cont = model_fit.parameters[3]\n",
        "\n",
        "    # stds: 'amplitude_0', 'mean_0', 'stddev_0', 'amplitude_1'\n",
        "    amp_std_gauss = model_fit.stds.stds[0]\n",
        "    mean_std_gauss = model_fit.stds.stds[1]\n",
        "    std_std_gauss = model_fit.stds.stds[2]\n",
        "    amp_std_cont = model_fit.stds.stds[3]\n",
        "\n",
        "    # Truncating uncertainty_std to values from H-alpha region only\n",
        "    std_HI = std[start_idx : end_idx+1].array * 10**-17 * u.Unit('erg cm-2 s-1 AA-1')\n",
        "\n",
        "    # Reduced Chi2\n",
        "    r_chi2 = get_chi2(yfit_origres, HI_spec, std_HI)\n",
        "    visualize_overlay_fit(HI_spec, yfit_highres, targetid, r_chi2, mass=mass)\n",
        "\n",
        "    # Integrated Flux must be continuum subtracted\n",
        "    integrated_flux = trapezoidal_rule(HI_spec, amp_cont)\n",
        "    print(f\"Integrated Flux: {integrated_flux}\")\n",
        "\n",
        "    # Compute model flux (area under the gaussian curve)\n",
        "    model_flux = area_gaussian(amp_gauss, std_gauss)\n",
        "    print(f\"Flux of Model: {model_flux}\")\n",
        "\n",
        "    # Percent Error\n",
        "    dev = (np.abs(integrated_flux - model_flux)/integrated_flux) * 100\n",
        "    print(f\"Deviation: {np.round(dev,4)}%\")\n",
        "\n",
        "    print(\"----------------\")"
      ]
    },
    {
      "cell_type": "markdown",
      "id": "6327c6d7-d8f5-4c36-bb53-c41749be7967",
      "metadata": {
        "jp-MarkdownHeadingCollapsed": true,
        "id": "6327c6d7-d8f5-4c36-bb53-c41749be7967"
      },
      "source": [
        "## Running . . ."
      ]
    },
    {
      "cell_type": "code",
      "execution_count": null,
      "id": "d0e9ee24-ce26-41bd-8a17-85c1cfcbe856",
      "metadata": {
        "id": "d0e9ee24-ce26-41bd-8a17-85c1cfcbe856",
        "outputId": "5543e07a-242a-402c-d1a8-049bbd8d37c3"
      },
      "outputs": [
        {
          "ename": "NameError",
          "evalue": "name 'df_low_mass' is not defined",
          "output_type": "error",
          "traceback": [
            "\u001b[1;31m---------------------------------------------------------------------------\u001b[0m",
            "\u001b[1;31mNameError\u001b[0m                                 Traceback (most recent call last)",
            "Cell \u001b[1;32mIn[274], line 21\u001b[0m\n\u001b[0;32m     18\u001b[0m model_flux_lm \u001b[38;5;241m=\u001b[39m []\n\u001b[0;32m     19\u001b[0m dev_lm \u001b[38;5;241m=\u001b[39m []\n\u001b[1;32m---> 21\u001b[0m \u001b[38;5;28;01mfor\u001b[39;00m ii \u001b[38;5;129;01min\u001b[39;00m \u001b[38;5;28mrange\u001b[39m(\u001b[38;5;28mlen\u001b[39m(\u001b[43mdf_low_mass\u001b[49m)):\n\u001b[0;32m     22\u001b[0m     \u001b[38;5;28mprint\u001b[39m(\u001b[38;5;124mf\u001b[39m\u001b[38;5;124m\"\u001b[39m\u001b[38;5;124mGalaxy [\u001b[39m\u001b[38;5;132;01m{\u001b[39;00mii\u001b[38;5;132;01m}\u001b[39;00m\u001b[38;5;124m]\u001b[39m\u001b[38;5;124m\"\u001b[39m)\n\u001b[0;32m     23\u001b[0m     targetid \u001b[38;5;241m=\u001b[39m \u001b[38;5;28mint\u001b[39m(df_low_mass\u001b[38;5;241m.\u001b[39miloc[ii][\u001b[38;5;124m'\u001b[39m\u001b[38;5;124mtargetid\u001b[39m\u001b[38;5;124m'\u001b[39m])\n",
            "\u001b[1;31mNameError\u001b[0m: name 'df_low_mass' is not defined"
          ]
        }
      ],
      "source": [
        "# Gaussian Fit Parameters\n",
        "ampg_lm = []\n",
        "ampstdg_lm = []\n",
        "\n",
        "stdg_lm = []\n",
        "stdstdg_lm = []\n",
        "\n",
        "meang_lm = []\n",
        "meanstdg_lm = []\n",
        "\n",
        "# Continuum Fit Parameters\n",
        "ampc_lm = []\n",
        "ampstdc_lm = []\n",
        "\n",
        "# Calculated Values\n",
        "rchi2_lm = []\n",
        "integrated_flux_lm = []\n",
        "model_flux_lm = []\n",
        "dev_lm = []\n",
        "\n",
        "for ii in range(len(df_low_mass)):\n",
        "    print(f\"Galaxy [{ii}]\")\n",
        "    targetid = int(df_low_mass.iloc[ii]['targetid'])\n",
        "    wavelength, flux, model_flux, ivar, err, err_imp_max, err_imp_med = retrieve_spectra(targetid)\n",
        "\n",
        "    mass = df_low_mass.iloc[ii]['log(M*/M)']\n",
        "    # Visualize the full spectra\n",
        "    ## visualize_specID(wavelength, flux, err, model_flux, targetid, mass=mass)\n",
        "\n",
        "    # Converting uncertainty into StdDevUncertainty to allow uncertainty propagation\n",
        "    # StdDevUncertainty should always be associated with an NDData-like instance\n",
        "    ndd = NDData(flux, uncertainty = StdDevUncertainty(err))\n",
        "    std = ndd.uncertainty\n",
        "\n",
        "    # Visualize Zoomed-in Region\n",
        "    zoomed_spec = spectral_region(wavelength, flux, std, region=\"zoomed\")\n",
        "    ## visualize_zoomed(zoomed_spec)\n",
        "\n",
        "    # H-alpha region\n",
        "    HI_spec = spectral_region(wavelength, flux, std, region=\"H-alpha\")\n",
        "\n",
        "    # Accessing the indices of the wavelength limits of H-alpha region\n",
        "    start_idx = np.where(wavelength == HI_spec.spectral_axis[0]/u.AA)[0][0]\n",
        "    end_idx = np.where(wavelength == HI_spec.spectral_axis[-1]/u.AA)[0][0]\n",
        "\n",
        "    # Fitting\n",
        "    yfit_highres, yfit_origres, model_fit = fit_spec(HI_spec)\n",
        "\n",
        "    # Storing the Fit Parameters\n",
        "    # 'amplitude_0', 'mean_0', 'stddev_0', 'amplitude_1', 'x_0_1', 'width_1'\n",
        "    amp_gauss = model_fit.parameters[0]\n",
        "    mean_gauss = model_fit.parameters[1]\n",
        "    std_gauss = model_fit.parameters[2]\n",
        "    amp_cont = model_fit.parameters[3]\n",
        "\n",
        "    # stds: 'amplitude_0', 'mean_0', 'stddev_0', 'amplitude_1'\n",
        "    if model_fit.stds is not None:\n",
        "        amp_std_gauss = model_fit.stds.stds[0]\n",
        "        mean_std_gauss = model_fit.stds.stds[1]\n",
        "        std_std_gauss = model_fit.stds.stds[2]\n",
        "        amp_std_cont = model_fit.stds.stds[3]\n",
        "    else:\n",
        "        amp_std_gauss, mean_std_gauss, std_std_gauss, amp_std_cont = 0, 0, 0, 0\n",
        "\n",
        "    # Integrated Flux must be continuum subtracted\n",
        "    integrated_flux = trapezoidal_rule(HI_spec, amp_cont)\n",
        "    ## print(f\"Integrated Flux: {integrated_flux}\")\n",
        "\n",
        "    # Truncating uncertainty_std to values from H-alpha region only\n",
        "    std_HI = std[start_idx : end_idx+1].array * 10**-17 * u.Unit('erg cm-2 s-1 AA-1')\n",
        "\n",
        "    # Reduced Chi2\n",
        "    rchi2 = get_chi2(yfit_origres, HI_spec, std_HI)\n",
        "    ## visualize_overlay_fit(HI_spec, yfit_highres, targetid, rchi2, mass=mass)\n",
        "\n",
        "    # Compute model flux (area under the gaussian curve)\n",
        "    model_flux = area_gaussian(amp_gauss, std_gauss)\n",
        "    ## print(f\"Flux of Model: {model_flux}\")\n",
        "\n",
        "    # Percent Error\n",
        "    dev = (np.abs(integrated_flux - model_flux)/integrated_flux) * 100\n",
        "    print(f\"Deviation: {np.round(dev,4)}%\")\n",
        "\n",
        "    # Storing Values in a List\n",
        "    ampg_lm.append(amp_gauss)\n",
        "    ampstdg_lm.append(amp_std_gauss)\n",
        "    stdg_lm.append(std_gauss)\n",
        "    stdstdg_lm.append(std_std_gauss)\n",
        "    meang_lm.append(mean_gauss)\n",
        "    meanstdg_lm.append(mean_std_gauss)\n",
        "    ampc_lm.append(amp_cont)\n",
        "    ampstdc_lm.append(amp_std_cont)\n",
        "\n",
        "    rchi2_lm.append(rchi2)\n",
        "    integrated_flux_lm.append(integrated_flux)\n",
        "    model_flux_lm.append(model_flux)\n",
        "    dev_lm.append(dev)\n",
        "\n",
        "    # Spectra values\n",
        "    flux_list.append(flux)\n",
        "    wavelength_list.append(wavelength)\n",
        "    ivar_list.append(ivar)\n",
        "    err_list.append(err)\n",
        "    err_imp_max_list.append(err_imp_max)\n",
        "    err_imp_med_list.append(err_imp_med)\n",
        "    print(\"----------------\")"
      ]
    },
    {
      "cell_type": "markdown",
      "id": "74a92fad-dee2-4fd4-9a32-2d96f404b9d8",
      "metadata": {
        "jp-MarkdownHeadingCollapsed": true,
        "id": "74a92fad-dee2-4fd4-9a32-2d96f404b9d8"
      },
      "source": [
        "## Exporting . . ."
      ]
    },
    {
      "cell_type": "code",
      "execution_count": null,
      "id": "2214c52a-7e72-4a3e-8dbf-0557a0d2ac2b",
      "metadata": {
        "id": "2214c52a-7e72-4a3e-8dbf-0557a0d2ac2b",
        "outputId": "1077adec-0655-47e0-b127-cf7f2c1cf9b1"
      },
      "outputs": [
        {
          "ename": "NameError",
          "evalue": "name 'df_low_mass' is not defined",
          "output_type": "error",
          "traceback": [
            "\u001b[1;31m---------------------------------------------------------------------------\u001b[0m",
            "\u001b[1;31mNameError\u001b[0m                                 Traceback (most recent call last)",
            "Cell \u001b[1;32mIn[277], line 2\u001b[0m\n\u001b[0;32m      1\u001b[0m fitflux_lm \u001b[38;5;241m=\u001b[39m pd\u001b[38;5;241m.\u001b[39mDataFrame()\n\u001b[1;32m----> 2\u001b[0m fitflux_lm[\u001b[38;5;124m\"\u001b[39m\u001b[38;5;124mtargetid\u001b[39m\u001b[38;5;124m\"\u001b[39m] \u001b[38;5;241m=\u001b[39m \u001b[43mdf_low_mass\u001b[49m[\u001b[38;5;124m\"\u001b[39m\u001b[38;5;124mtargetid\u001b[39m\u001b[38;5;124m\"\u001b[39m]\n\u001b[0;32m      4\u001b[0m \u001b[38;5;66;03m# Fit\u001b[39;00m\n\u001b[0;32m      5\u001b[0m fitflux_lm[\u001b[38;5;124m\"\u001b[39m\u001b[38;5;124mamp_g\u001b[39m\u001b[38;5;124m\"\u001b[39m] \u001b[38;5;241m=\u001b[39m ampg_lm\n",
            "\u001b[1;31mNameError\u001b[0m: name 'df_low_mass' is not defined"
          ]
        }
      ],
      "source": [
        "fitflux_lm = pd.DataFrame()\n",
        "fitflux_lm[\"targetid\"] = df_low_mass[\"targetid\"]\n",
        "\n",
        "# Fit\n",
        "fitflux_lm[\"amp_g\"] = ampg_lm\n",
        "fitflux_lm[\"amp_std_g\"] = ampstdg_lm\n",
        "fitflux_lm[\"std_g\"] = stdg_lm\n",
        "fitflux_lm[\"std_std_g\"] = stdstdg_lm\n",
        "fitflux_lm[\"mean_g\"] = meang_lm\n",
        "fitflux_lm[\"mean_std_g\"] = meanstdg_lm\n",
        "fitflux_lm[\"amp_c\"] = ampc_lm\n",
        "fitflux_lm[\"amp_std_c\"] = ampstdc_lm\n",
        "\n",
        "# Flux\n",
        "fitflux_lm[\"rchi2\"] = rchi2_lm\n",
        "fitflux_lm[\"integrated_flux\"] = integrated_flux_lm\n",
        "fitflux_lm[\"model_flux\"] = model_flux_lm\n",
        "fitflux_lm[\"dev(%)\"] = dev_lm"
      ]
    },
    {
      "cell_type": "code",
      "execution_count": null,
      "id": "05521c58-6223-4a08-a9c2-4247b27058ab",
      "metadata": {
        "id": "05521c58-6223-4a08-a9c2-4247b27058ab"
      },
      "outputs": [],
      "source": [
        "fitflux_lm.to_csv(\"SAMPLE 1/ver3fitflux_low_mass.csv\", index=False)"
      ]
    },
    {
      "cell_type": "markdown",
      "id": "49563526-4874-4ec8-b175-716ca20c1f44",
      "metadata": {
        "jp-MarkdownHeadingCollapsed": true,
        "id": "49563526-4874-4ec8-b175-716ca20c1f44"
      },
      "source": [
        "# Spectra Table"
      ]
    },
    {
      "cell_type": "code",
      "execution_count": null,
      "id": "ec8e0c73-b2ed-429b-8c22-a2ed4b6aa762",
      "metadata": {
        "id": "ec8e0c73-b2ed-429b-8c22-a2ed4b6aa762",
        "outputId": "1a9aafb6-f911-4a0b-e891-f3a770bc9d04"
      },
      "outputs": [
        {
          "ename": "NameError",
          "evalue": "name 'df_high_mass' is not defined",
          "output_type": "error",
          "traceback": [
            "\u001b[1;31m---------------------------------------------------------------------------\u001b[0m",
            "\u001b[1;31mNameError\u001b[0m                                 Traceback (most recent call last)",
            "Cell \u001b[1;32mIn[282], line 2\u001b[0m\n\u001b[0;32m      1\u001b[0m df_spectra \u001b[38;5;241m=\u001b[39m pd\u001b[38;5;241m.\u001b[39mDataFrame()\n\u001b[1;32m----> 2\u001b[0m df_spectra[\u001b[38;5;124m\"\u001b[39m\u001b[38;5;124mtargetid\u001b[39m\u001b[38;5;124m\"\u001b[39m] \u001b[38;5;241m=\u001b[39m \u001b[43mdf_high_mass\u001b[49m[\u001b[38;5;124m\"\u001b[39m\u001b[38;5;124mtargetid\u001b[39m\u001b[38;5;124m\"\u001b[39m]\u001b[38;5;241m.\u001b[39mtolist() \u001b[38;5;241m+\u001b[39m df_medium_mass[\u001b[38;5;124m\"\u001b[39m\u001b[38;5;124mtargetid\u001b[39m\u001b[38;5;124m\"\u001b[39m]\u001b[38;5;241m.\u001b[39mtolist() \u001b[38;5;241m+\u001b[39m df_low_mass[\u001b[38;5;124m\"\u001b[39m\u001b[38;5;124mtargetid\u001b[39m\u001b[38;5;124m\"\u001b[39m]\u001b[38;5;241m.\u001b[39mtolist()\n\u001b[0;32m      3\u001b[0m df_spectra[\u001b[38;5;124m\"\u001b[39m\u001b[38;5;124mflux\u001b[39m\u001b[38;5;124m\"\u001b[39m] \u001b[38;5;241m=\u001b[39m flux_list\n\u001b[0;32m      4\u001b[0m df_spectra[\u001b[38;5;124m\"\u001b[39m\u001b[38;5;124mwavelength\u001b[39m\u001b[38;5;124m\"\u001b[39m] \u001b[38;5;241m=\u001b[39m wavelength_list\n",
            "\u001b[1;31mNameError\u001b[0m: name 'df_high_mass' is not defined"
          ]
        }
      ],
      "source": [
        "df_spectra = pd.DataFrame()\n",
        "df_spectra[\"targetid\"] = df_high_mass[\"targetid\"].tolist() + df_medium_mass[\"targetid\"].tolist() + df_low_mass[\"targetid\"].tolist()\n",
        "df_spectra[\"flux\"] = flux_list\n",
        "df_spectra[\"wavelength\"] = wavelength_list\n",
        "df_spectra[\"ivar\"] = ivar_list\n",
        "df_spectra[\"err\"] = err_list\n",
        "df_spectra[\"err_imp_max\"] = err_imp_max_list\n",
        "df_spectra[\"err_imp_med\"] = err_imp_med_list\n",
        "\n",
        "df_spectra"
      ]
    },
    {
      "cell_type": "code",
      "execution_count": null,
      "id": "e8d5e2d7-1199-4c3a-b3f3-47828e3566fe",
      "metadata": {
        "id": "e8d5e2d7-1199-4c3a-b3f3-47828e3566fe"
      },
      "outputs": [],
      "source": [
        "df_spectra.to_csv(\"SAMPLE 1/spectra-of-dwarf-galaxies-with-H-alpha.csv\", index=False)"
      ]
    },
    {
      "cell_type": "markdown",
      "id": "4847dc4c-5b58-47b9-9211-018221ac564f",
      "metadata": {
        "jp-MarkdownHeadingCollapsed": true,
        "id": "4847dc4c-5b58-47b9-9211-018221ac564f"
      },
      "source": [
        "# Distributions"
      ]
    },
    {
      "cell_type": "code",
      "execution_count": null,
      "id": "546cd39e-6145-43d9-aa51-265ebebed339",
      "metadata": {
        "id": "546cd39e-6145-43d9-aa51-265ebebed339",
        "outputId": "09a65fa4-f4b4-4719-cb7a-b778049fa481"
      },
      "outputs": [
        {
          "ename": "KeyError",
          "evalue": "'err_imp_max'",
          "output_type": "error",
          "traceback": [
            "\u001b[1;31m---------------------------------------------------------------------------\u001b[0m",
            "\u001b[1;31mKeyError\u001b[0m                                  Traceback (most recent call last)",
            "Cell \u001b[1;32mIn[287], line 2\u001b[0m\n\u001b[0;32m      1\u001b[0m plt\u001b[38;5;241m.\u001b[39mfigure(figsize\u001b[38;5;241m=\u001b[39m(\u001b[38;5;241m8\u001b[39m,\u001b[38;5;241m6\u001b[39m))\n\u001b[1;32m----> 2\u001b[0m plt\u001b[38;5;241m.\u001b[39mhist(\u001b[43mdf_spectra\u001b[49m\u001b[43m[\u001b[49m\u001b[38;5;124;43m\"\u001b[39;49m\u001b[38;5;124;43merr_imp_max\u001b[39;49m\u001b[38;5;124;43m\"\u001b[39;49m\u001b[43m]\u001b[49m, bins\u001b[38;5;241m=\u001b[39m\u001b[38;5;241m20\u001b[39m, color\u001b[38;5;241m=\u001b[39m\u001b[38;5;124m'\u001b[39m\u001b[38;5;124mskyblue\u001b[39m\u001b[38;5;124m'\u001b[39m, edgecolor\u001b[38;5;241m=\u001b[39m\u001b[38;5;124m'\u001b[39m\u001b[38;5;124mblack\u001b[39m\u001b[38;5;124m'\u001b[39m)\n\u001b[0;32m      4\u001b[0m plt\u001b[38;5;241m.\u001b[39mxlabel(\u001b[38;5;124m'\u001b[39m\u001b[38;5;124merrors\u001b[39m\u001b[38;5;124m'\u001b[39m)\n\u001b[0;32m      5\u001b[0m plt\u001b[38;5;241m.\u001b[39mylabel(\u001b[38;5;124m'\u001b[39m\u001b[38;5;124m# of targets\u001b[39m\u001b[38;5;124m'\u001b[39m)\n",
            "File \u001b[1;32m~\\AppData\\Roaming\\Python\\Python312\\site-packages\\pandas\\core\\frame.py:4102\u001b[0m, in \u001b[0;36mDataFrame.__getitem__\u001b[1;34m(self, key)\u001b[0m\n\u001b[0;32m   4100\u001b[0m \u001b[38;5;28;01mif\u001b[39;00m \u001b[38;5;28mself\u001b[39m\u001b[38;5;241m.\u001b[39mcolumns\u001b[38;5;241m.\u001b[39mnlevels \u001b[38;5;241m>\u001b[39m \u001b[38;5;241m1\u001b[39m:\n\u001b[0;32m   4101\u001b[0m     \u001b[38;5;28;01mreturn\u001b[39;00m \u001b[38;5;28mself\u001b[39m\u001b[38;5;241m.\u001b[39m_getitem_multilevel(key)\n\u001b[1;32m-> 4102\u001b[0m indexer \u001b[38;5;241m=\u001b[39m \u001b[38;5;28;43mself\u001b[39;49m\u001b[38;5;241;43m.\u001b[39;49m\u001b[43mcolumns\u001b[49m\u001b[38;5;241;43m.\u001b[39;49m\u001b[43mget_loc\u001b[49m\u001b[43m(\u001b[49m\u001b[43mkey\u001b[49m\u001b[43m)\u001b[49m\n\u001b[0;32m   4103\u001b[0m \u001b[38;5;28;01mif\u001b[39;00m is_integer(indexer):\n\u001b[0;32m   4104\u001b[0m     indexer \u001b[38;5;241m=\u001b[39m [indexer]\n",
            "File \u001b[1;32m~\\AppData\\Roaming\\Python\\Python312\\site-packages\\pandas\\core\\indexes\\range.py:417\u001b[0m, in \u001b[0;36mRangeIndex.get_loc\u001b[1;34m(self, key)\u001b[0m\n\u001b[0;32m    415\u001b[0m         \u001b[38;5;28;01mraise\u001b[39;00m \u001b[38;5;167;01mKeyError\u001b[39;00m(key) \u001b[38;5;28;01mfrom\u001b[39;00m \u001b[38;5;21;01merr\u001b[39;00m\n\u001b[0;32m    416\u001b[0m \u001b[38;5;28;01mif\u001b[39;00m \u001b[38;5;28misinstance\u001b[39m(key, Hashable):\n\u001b[1;32m--> 417\u001b[0m     \u001b[38;5;28;01mraise\u001b[39;00m \u001b[38;5;167;01mKeyError\u001b[39;00m(key)\n\u001b[0;32m    418\u001b[0m \u001b[38;5;28mself\u001b[39m\u001b[38;5;241m.\u001b[39m_check_indexing_error(key)\n\u001b[0;32m    419\u001b[0m \u001b[38;5;28;01mraise\u001b[39;00m \u001b[38;5;167;01mKeyError\u001b[39;00m(key)\n",
            "\u001b[1;31mKeyError\u001b[0m: 'err_imp_max'"
          ]
        },
        {
          "data": {
            "text/plain": [
              "<Figure size 1120x840 with 0 Axes>"
            ]
          },
          "metadata": {},
          "output_type": "display_data"
        }
      ],
      "source": [
        "plt.figure(figsize=(8,6))\n",
        "plt.hist(df_spectra[\"err_imp_max\"], bins=20, color='skyblue', edgecolor='black')\n",
        "\n",
        "plt.xlabel('errors')\n",
        "plt.ylabel('# of targets')\n",
        "plt.title('Distribution of Imputed Errors (Max)')\n",
        "\n",
        "plt.show()"
      ]
    },
    {
      "cell_type": "code",
      "execution_count": null,
      "id": "673647e8-76b2-4175-bca1-04eb2524121b",
      "metadata": {
        "id": "673647e8-76b2-4175-bca1-04eb2524121b"
      },
      "outputs": [],
      "source": [
        "plt.figure(figsize=(8,6))\n",
        "plt.hist(df_spectra[\"err_imp_med\"], bins=20, color='skyblue', edgecolor='black')\n",
        "\n",
        "plt.xlabel('errors')\n",
        "plt.ylabel('# of targets')\n",
        "plt.title('Distribution of Imputed Errors (Median)')\n",
        "\n",
        "plt.show()"
      ]
    },
    {
      "cell_type": "code",
      "execution_count": null,
      "id": "24357b28-b0c9-4e74-ab82-3ff7789d649d",
      "metadata": {
        "id": "24357b28-b0c9-4e74-ab82-3ff7789d649d"
      },
      "outputs": [],
      "source": []
    },
    {
      "cell_type": "code",
      "execution_count": null,
      "id": "da75c97c-1188-41b6-958c-f490393189f8",
      "metadata": {
        "id": "da75c97c-1188-41b6-958c-f490393189f8"
      },
      "outputs": [],
      "source": []
    },
    {
      "cell_type": "code",
      "execution_count": null,
      "id": "ac05b414-e7a6-4663-b8d9-d94fa489e8ec",
      "metadata": {
        "id": "ac05b414-e7a6-4663-b8d9-d94fa489e8ec"
      },
      "outputs": [],
      "source": []
    },
    {
      "cell_type": "code",
      "execution_count": null,
      "id": "f80ea2f5-4f08-44af-b07c-6386c407c029",
      "metadata": {
        "id": "f80ea2f5-4f08-44af-b07c-6386c407c029"
      },
      "outputs": [],
      "source": []
    },
    {
      "cell_type": "code",
      "execution_count": null,
      "id": "0be17bd5-7ee1-4369-a4d7-b154bc37a7b5",
      "metadata": {
        "id": "0be17bd5-7ee1-4369-a4d7-b154bc37a7b5"
      },
      "outputs": [],
      "source": []
    }
  ],
  "metadata": {
    "kernelspec": {
      "display_name": "Python 3 (ipykernel)",
      "language": "python",
      "name": "python3"
    },
    "language_info": {
      "codemirror_mode": {
        "name": "ipython",
        "version": 3
      },
      "file_extension": ".py",
      "mimetype": "text/x-python",
      "name": "python",
      "nbconvert_exporter": "python",
      "pygments_lexer": "ipython3",
      "version": "3.12.4"
    },
    "colab": {
      "provenance": [],
      "include_colab_link": true
    }
  },
  "nbformat": 4,
  "nbformat_minor": 5
}