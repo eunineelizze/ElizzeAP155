{
  "nbformat": 4,
  "nbformat_minor": 0,
  "metadata": {
    "colab": {
      "provenance": [],
      "include_colab_link": true
    },
    "kernelspec": {
      "name": "python3",
      "display_name": "Python 3"
    }
  },
  "cells": [
    {
      "cell_type": "markdown",
      "metadata": {
        "id": "view-in-github",
        "colab_type": "text"
      },
      "source": [
        "<a href=\"https://colab.research.google.com/github/eunineelizze/ElizzeAP155/blob/master/Arzaga__AP155_Lab_Assignment_1.ipynb\" target=\"_parent\"><img src=\"https://colab.research.google.com/assets/colab-badge.svg\" alt=\"Open In Colab\"/></a>"
      ]
    },
    {
      "cell_type": "markdown",
      "metadata": {
        "id": "G0BcK0H_G1Iu"
      },
      "source": [
        "# **AP155 Lab Assignment**\n",
        "## Module 1: Integrals and Derivatives\n",
        "\n",
        "_Instructions_: Answer each problem as completely as you can. Discuss **all** your answers as clearly and concisely as possible.\n",
        "\n",
        "_Scoring Criteria_: 50% - *correctness of code*; 50% - *discussion of the code and results*. Maximum score is **100 points**.\n",
        "\n",
        "\n"
      ]
    },
    {
      "cell_type": "markdown",
      "metadata": {
        "id": "PeHZ9kP8JaVR"
      },
      "source": [
        "### Student Information\n",
        "\n",
        "_Full Name (Last Name, First Name)_: **Arzaga, Eunine Elizze J.**\\\n",
        "_Student No._: **2021-10771**\\\n",
        "_Section_: **THX-1**"
      ]
    },
    {
      "cell_type": "markdown",
      "metadata": {
        "id": "Hc183co-J4eI"
      },
      "source": [
        "### Submission Information\n",
        "\n",
        "_Date and Time Submitted (most recent upload)_:\n",
        "\n",
        "**HONOR PLEDGE** I affirm that I have upheld the highest principles of honesty and integrity in my academic work and that this lab assignment is my own work.\n",
        "\n",
        "**Sign here with your full name:** Eunine Elizze J. Arzaga"
      ]
    },
    {
      "cell_type": "markdown",
      "metadata": {
        "id": "X1UGsRpW-eQs"
      },
      "source": [
        "### Grading Information (c/o Lab Instructor)\n",
        "\n",
        "TOTAL SCORE: **XX**/100\n",
        "\n",
        "Score breakdown:\n",
        "* Problem 1 - XX/30\n",
        "* Problem 2 - XX/30\n",
        "* Problem 3 - XX/40\n",
        "\n",
        "_Date and Time Scored (MM/DD/YYYY HH:MM AM/PM):_"
      ]
    },
    {
      "cell_type": "markdown",
      "metadata": {
        "id": "LxWuqiCFMsEh"
      },
      "source": [
        "## PROBLEM 1\n",
        "**Integration using the trapezoidal rule and Simpson's rule**\n",
        "\n",
        "Calculate the integral of the function $ 2x^4 + 3x^2 + 4x + 5$ from $x=0$ to $x=5$.\n",
        "\n",
        "1. Do the numerical calculation using the trapezoidal rule with 10, 100, and 1,000 slices. Describe each step of the calculation clearly and concisely. *(10 pts.)*\n",
        "\n",
        "2. What are the percentage errors of your answers in (1)? *(10 pts.)*\n",
        "\n",
        "3. Repeat the calculation using Simpson's rule with 10, 100, and 1,000 slices. Describe each step of the calculation clearly and concisely. *(5 pts.)*\n",
        "\n",
        "4. What are the percentage errors of your answers in (3)? How do they compare with the results from (1) for the same number of slices? *(5 pts.)*"
      ]
    },
    {
      "cell_type": "code",
      "source": [],
      "metadata": {
        "id": "iDTocQHFRiGq"
      },
      "execution_count": null,
      "outputs": []
    },
    {
      "cell_type": "markdown",
      "source": [
        "**Trapezoidal Rule**\n",
        "$$I(a,b) \\approx h \\Bigg[\\frac{1}{2}\\Big(f(a) + f(b)\\Big) + \\sum_{k=1}^{N-1}f\\big(a+kh\\big)\\Bigg]$$\n",
        "\n",
        "where a, b are the endpoints, N is the number of slices and\n",
        "$h = \\frac{b-a}{N}$."
      ],
      "metadata": {
        "id": "sFUasz3mu71O"
      }
    },
    {
      "cell_type": "code",
      "source": [
        "import numpy as np\n",
        "\n",
        "# Defining a function for the integral\n",
        "def f(x):\n",
        "    return 2 * x**4 + 3 * x**2 + 4 * x + 5\n",
        "\n",
        "# Function for trapezoidal rule\n",
        "def trapezoidal_rule(N, a, b):\n",
        "    h = (b - a) / N\n",
        "    s = 0.5 * f(a) + 0.5 * f(b)\n",
        "    for k in range(1, N):\n",
        "        s += f(a + k * h)\n",
        "    return h * s\n",
        "\n",
        "# Manually computing the integral\n",
        "def exact(x):\n",
        "    return (2/5) * x**5 + (3/3) * x**3 + (4/2) * x**2 + 5 * x\n",
        "\n",
        "# Calculating the exact integral\n",
        "a = 0.0\n",
        "b = 5.0\n",
        "exact_value = exact(b) - exact(a)\n",
        "\n",
        "# Function to calculate integral and percentage error\n",
        "def calculate(N):\n",
        "    trap_result = trapezoidal_rule(N, a, b)\n",
        "    trap_error = abs((trap_result - exact_value) / exact_value) * 100\n",
        "    return trap_result, trap_error\n",
        "\n",
        "# Number of slices\n",
        "N_values = [10, 100, 1000]\n",
        "\n",
        "# Calculating for each number of slices\n",
        "for N in N_values:\n",
        "    trap_result, trap_error = calculate(N)\n",
        "    print(f\"Results for {N} slices:\")\n",
        "    print(f\"  Trapezoidal rule: {trap_result:.5f} (Error: {trap_error:.5f}%)\")"
      ],
      "metadata": {
        "colab": {
          "base_uri": "https://localhost:8080/"
        },
        "id": "7Du1z3hKETbn",
        "outputId": "20f6b1ad-04e9-4a82-bcf5-d5cae6de4f65"
      },
      "execution_count": 2,
      "outputs": [
        {
          "output_type": "stream",
          "name": "stdout",
          "text": [
            "Results for 10 slices:\n",
            "  Trapezoidal rule: 1471.43750 (Error: 1.47845%)\n",
            "Results for 100 slices:\n",
            "  Trapezoidal rule: 1450.21458 (Error: 0.01480%)\n",
            "Results for 1000 slices:\n",
            "  Trapezoidal rule: 1450.00215 (Error: 0.00015%)\n"
          ]
        }
      ]
    },
    {
      "cell_type": "markdown",
      "source": [
        "*Analysis: Increasing the number of slices will decrease the deviation from the exact value.*"
      ],
      "metadata": {
        "id": "UMUqMibF1OYc"
      }
    },
    {
      "cell_type": "markdown",
      "source": [
        "**Simpson's Rule**\n",
        "$$\\int_{-h}^{ h} (Ax^2 + Bx + C) dx = \\frac{2}{3}Ah^3 + 2Ch = \\frac{1}{3}h\\Big[f(-h)+4f(0)+f(h)\\Big]$$\n",
        "\n",
        "where the integral evaluates the area under the quadratic curve from $-h$ to $h$.\n"
      ],
      "metadata": {
        "id": "Hw_aXdl4RjiY"
      }
    },
    {
      "cell_type": "code",
      "source": [
        "import numpy as np\n",
        "\n",
        "# Defining a function for the integral\n",
        "def f(x):\n",
        "    return 2 * x**4 + 3 * x**2 + 4 * x + 5\n",
        "\n",
        "# Function for Simpson's rule\n",
        "def simps(N, a, b):\n",
        "    h = (b - a) / N\n",
        "    s = f(a) + f(b)\n",
        "\n",
        "    # Applying Simpson's rule\n",
        "    for k in range(1, N, 2):\n",
        "        s += 4 * f(a + k * h)\n",
        "    for k in range(2, N, 2):\n",
        "        s += 2 * f(a + k * h)\n",
        "\n",
        "    s = s * (1/3) * h\n",
        "    return s\n",
        "\n",
        "# Manually computing the integral\n",
        "def exact(x):\n",
        "    return (2/5) * x**5 + (3/3) * x**3 + (4/2) * x**2 + 5 * x\n",
        "\n",
        "# Calculate the exact integral value\n",
        "a = 0.0\n",
        "b = 5.0\n",
        "exact_s = exact(b) - exact(a)\n",
        "\n",
        "# Number of slices\n",
        "N_values = [10, 100, 1000]\n",
        "\n",
        "# Calculating for each number of slices\n",
        "for N in N_values:\n",
        "    simps_result = simps(N, a, b)\n",
        "    simps_error = abs((simps_result - exact_s) / exact_s) * 100\n",
        "    print(f\"Results for {N} slices:\")\n",
        "    print(f\"  Simpson's rule: {simps_result:.10f} (Error: {simps_error:.10f}%)\")"
      ],
      "metadata": {
        "colab": {
          "base_uri": "https://localhost:8080/"
        },
        "id": "8pM8DqbLRSKt",
        "outputId": "7fef4c35-9f82-45b6-8032-7ef3c7a7524d"
      },
      "execution_count": 3,
      "outputs": [
        {
          "output_type": "stream",
          "name": "stdout",
          "text": [
            "Results for 10 slices:\n",
            "  Simpson's rule: 1450.0833333333 (Error: 0.0057471264%)\n",
            "Results for 100 slices:\n",
            "  Simpson's rule: 1450.0000083333 (Error: 0.0000005747%)\n",
            "Results for 1000 slices:\n",
            "  Simpson's rule: 1450.0000000008 (Error: 0.0000000001%)\n"
          ]
        }
      ]
    },
    {
      "cell_type": "markdown",
      "source": [
        "*Analysis: The Simpson's rule has a lower percent error than the Trapezoidal rule which means it is more precise in calculating the exact value.*"
      ],
      "metadata": {
        "id": "GP8SUApK1g40"
      }
    },
    {
      "cell_type": "code",
      "source": [],
      "metadata": {
        "id": "vPnCIM6rRl3j"
      },
      "execution_count": null,
      "outputs": []
    },
    {
      "cell_type": "markdown",
      "metadata": {
        "id": "m2a6sg90R-NX"
      },
      "source": [
        "## PROBLEM 2\n",
        "\n",
        "**Integration using Gaussian quadrature**\n",
        "\n",
        "Calculate the integral from Problem 1 using the Gaussian quadrature method: $ 2x^4 + 3x^2 + 4x + 5$ from $x=0$ to $x=5$.\n",
        "\n",
        "1. Define the function $\\tt gaussxw$ from Appendix E of the Newman text (and run the cell). *(10 pts.)*\n",
        "\n",
        "2. Calculate the integral using the $\\tt gaussxw$ function in (1) and number of slices $N = 3$. Describe each step in the calculation clearly and concisely. *(20 pts.)*"
      ]
    },
    {
      "cell_type": "code",
      "metadata": {
        "id": "YO_PDJ4VIVs5"
      },
      "source": [
        "import numpy as np\n",
        "from numpy import ones,copy,cos,tan,pi,linspace\n",
        "\n",
        "# Defining the gaussxw function\n",
        "def gaussxw(N):\n",
        "    # Initial approximation to roots of the Legendre polynomial\n",
        "    a = linspace(3, 4*N-1, N) / (4*N + 2)\n",
        "    x = cos(pi * a + 1 / (8*N*N * tan(a)))\n",
        "    # Finding roots using Newton's method\n",
        "    epsilon = 1e-15\n",
        "    delta = 1.0\n",
        "    while delta>epsilon:\n",
        "      p0 = ones(N,float)\n",
        "      p1 = copy(x)\n",
        "      for k in range (1,N):\n",
        "          p0,p1 = p1, ((2*k+1)*x*p1-k*p0)/(k+1)\n",
        "      dp = (N+1)*(p0-x*p1)/(1-x*x)\n",
        "      dx = p1/dp\n",
        "      x -= dx\n",
        "      delta = max(abs(dx))\n",
        "    #Calculating the weights\n",
        "    w = 2*(N+1)*(N+1)/(N*N*(1-x*x)*dp*dp)\n",
        "\n",
        "    return x, w"
      ],
      "execution_count": 4,
      "outputs": []
    },
    {
      "cell_type": "code",
      "source": [
        "# Defining a function for the integral\n",
        "def f(x):\n",
        "    return 2*x**4 + 3*x**2 + 4*x + 5\n",
        "\n",
        "N = 3 # Number of slices\n",
        "a = 0 # Lower limit\n",
        "b = 5 # Upper limit\n",
        "\n",
        "x, w = gaussxw(N)\n",
        "# Rescaling for the integration limits to the required domain\n",
        "xp = 0.5 * (b - a) * x + 0.5 * (b + a)\n",
        "wp = 0.5 * (b - a) * w\n",
        "\n",
        "# Calculating the integral\n",
        "s = 0.0\n",
        "for k in range(N):\n",
        "    s += wp[k]*f(xp[k])\n",
        "\n",
        "print(\"USing Gaussian quadrature, we get \", s)"
      ],
      "metadata": {
        "colab": {
          "base_uri": "https://localhost:8080/"
        },
        "id": "je8LHDk_pNoW",
        "outputId": "2568f4cb-2bdb-4aab-a9ec-d62d8c6c3b09"
      },
      "execution_count": 5,
      "outputs": [
        {
          "output_type": "stream",
          "name": "stdout",
          "text": [
            "USing Gaussian quadrature, we get  1450.000000000002\n"
          ]
        }
      ]
    },
    {
      "cell_type": "markdown",
      "metadata": {
        "id": "HceOjNu-VfN9"
      },
      "source": [
        "## PROBLEM 3\n",
        "\n",
        "**Physics Application: Anharmonic Oscillator**\n",
        "\n",
        "_Refer to Exercise 5.10 of the Newman text._ Consider an anharmonic oscillator with potential $V(x)$ symmetric about $x = 0$. Let us set our anharmonic oscillator going with amplitude $a$. That is, at $t = 0$ we release it from rest at position $x = a$ and it swings back towards the origin. Then at $t = 0$ we have $dx/dt = 0$ and the equation for its total energy becomes $E = V(a)$, i.e., the total energy of the particle is given in terms of the amplitude.\n",
        "\n",
        "When the particle reaches the origin for the first time, it has gone through one quarter of a period of the oscillator. The period $T$ is given by: $$ T = \\sqrt{8m} \\int_0^a \\frac{dx}{\\sqrt{V(a)-V(x)}}. $$\n",
        "\n",
        "1. Suppose the potential is $V(x) = x^4$ and the mass of the particle is $m = 1$. Write a Python function that calculates the period of the oscillator for given amplitude a using Gaussian quadrature with $N = 20$ points. Describe each step clearly and concisely. *(20 pts.)*\n",
        "\n",
        "2. Use your function to make a graph of the period for amplitudes ranging from $a = 0$ to $a = 2$. Describe the behavior you find and explain these results clearly and concisely. *(20 pts.)*"
      ]
    },
    {
      "cell_type": "markdown",
      "source": [
        "Before we can use Gaussian Quadrature, we need to first generate the roots and weights for a Gaussian with N = 20."
      ],
      "metadata": {
        "id": "8PIHXeQH31dY"
      }
    },
    {
      "cell_type": "code",
      "source": [
        "import numpy as np\n",
        "\n",
        "# Gaussian quadrature points and weights for N = 20\n",
        "N = 20\n",
        "points, weights = np.polynomial.legendre.leggauss(N)\n",
        "\n",
        "print(\"Points: \", points)\n",
        "print(\" \")\n",
        "print(\"Weights: \", weights)\n"
      ],
      "metadata": {
        "colab": {
          "base_uri": "https://localhost:8080/"
        },
        "id": "3fmBwylaSqfC",
        "outputId": "97e2429c-981e-483a-d1cb-18da871458e0"
      },
      "execution_count": 6,
      "outputs": [
        {
          "output_type": "stream",
          "name": "stdout",
          "text": [
            "Points:  [-0.9931286  -0.96397193 -0.91223443 -0.83911697 -0.74633191 -0.63605368\n",
            " -0.510867   -0.37370609 -0.22778585 -0.07652652  0.07652652  0.22778585\n",
            "  0.37370609  0.510867    0.63605368  0.74633191  0.83911697  0.91223443\n",
            "  0.96397193  0.9931286 ]\n",
            " \n",
            "Weights:  [0.01761401 0.04060143 0.06267205 0.08327674 0.10193012 0.11819453\n",
            " 0.13168864 0.14209611 0.14917299 0.15275339 0.15275339 0.14917299\n",
            " 0.14209611 0.13168864 0.11819453 0.10193012 0.08327674 0.06267205\n",
            " 0.04060143 0.01761401]\n"
          ]
        }
      ]
    },
    {
      "cell_type": "markdown",
      "source": [
        "After finding the roots and weights of the Legendre Polynomial, we will approximate the integral over the given interval."
      ],
      "metadata": {
        "id": "g4E_lpys3ok3"
      }
    },
    {
      "cell_type": "code",
      "source": [
        "# Creating a list for the points and weights\n",
        "x_i = np.array([-0.9931285991850949, -0.9639719272779138, -0.9122344282513259,\n",
        "                -0.8391169718222188, -0.7463319064601508, -0.6360536807265150,\n",
        "                -0.5108670019508271, -0.3737060887154196, -0.2277858511416451,\n",
        "                -0.07652652113349733, 0.07652652113349733, 0.2277858511416451,\n",
        "                0.3737060887154196, 0.5108670019508271, 0.6360536807265150,\n",
        "                0.7463319064601508, 0.8391169718222188, 0.9122344282513259,\n",
        "                0.9639719272779138, 0.9931285991850949])\n",
        "\n",
        "w_i = np.array([0.01761400713915212, 0.04060142980038694, 0.06267204833410907,\n",
        "                0.08327674157670475, 0.1019301198172404, 0.1181945319615184,\n",
        "                0.1316886384491766, 0.1420961093183821, 0.1491729864726037,\n",
        "                0.1527533871307259, 0.1527533871307259, 0.1491729864726037,\n",
        "                0.1420961093183821, 0.1316886384491766, 0.1181945319615184,\n",
        "                0.1019301198172404, 0.08327674157670475, 0.06267204833410907,\n",
        "                0.04060142980038694, 0.01761400713915212])\n",
        "\n",
        "# Function for the potential\n",
        "def V(x):\n",
        "    return x**4\n",
        "\n",
        "# Function for computing the integrand\n",
        "def integrand(t, a):\n",
        "    x = (a / 2) * (1 + t)\n",
        "    return 1 / np.sqrt(a**4 - x**4)\n",
        "\n",
        "# Function for computing the period T a a given amplitude\n",
        "def calculate_period(a):\n",
        "    sum_integral = 0\n",
        "    for i in range(20):\n",
        "        sum_integral += w_i[i] * integrand(x_i[i], a)\n",
        "\n",
        "    T = np.sqrt(8) * (a / 2) * sum_integral\n",
        "    return T\n",
        "\n",
        "# Outputting values of T for amplitudes from 0 to 2\n",
        "amplitudes = np.linspace(0.01, 2, 100)\n",
        "periods = [calculate_period(a) for a in amplitudes]\n",
        "\n",
        "# Plotting the results\n",
        "import matplotlib.pyplot as plt\n",
        "\n",
        "plt.plot(amplitudes, periods)\n",
        "plt.xlabel('Amplitude (a)')\n",
        "plt.ylabel('Period (T)')\n",
        "plt.title('Period vs Amplitude of an Anharmonic Oscillator')\n",
        "plt.show()"
      ],
      "metadata": {
        "colab": {
          "base_uri": "https://localhost:8080/",
          "height": 472
        },
        "id": "roT0gp67SFNm",
        "outputId": "6dfc3123-5830-45ac-ac06-f40375cf2d1d"
      },
      "execution_count": 7,
      "outputs": [
        {
          "output_type": "display_data",
          "data": {
            "text/plain": [
              "<Figure size 640x480 with 1 Axes>"
            ],
            "image/png": "[encoded data removed]"
          },
          "metadata": {}
        }
      ]
    },
    {
      "cell_type": "markdown",
      "source": [
        "The anharmonic potential $ V(x) = x^4 $ grows more steeply than the harmonic potential of lower degree as  $x$ increases. As a result, the restoring force is stronger for larger displacements, causing the period to increase with amplitude $a$.\n",
        "\n",
        "As $ a \\to 0 $, the period approaches a constant value, similar to that of a harmonic oscillator. Thus, the period tends to *flatten out* for small amplitudes, resulting in the initial behavior of the curve leveling off as $ a \\to 0 $.\n",
        "\n",
        "Due to the non-linear restoring force in the $x^4$ potential, the period increases with amplitude. This makes the particle take more time to return to the origin from larger amplitudes. This is also why the oscillator slows down significantly at larger amplitudes.\n",
        "\n",
        "In summary:\n",
        "\n",
        "- **For small amplitudes** $ a \\to 0 $: The period should approach a constant value, reflecting harmonic oscillator behavior.\n",
        "- **For large amplitudes**: The period should increase steadily with amplitude, reflecting the stronger restoring force in the anharmonic potential."
      ],
      "metadata": {
        "id": "6ytegw6xSxWz"
      }
    }
  ]
}